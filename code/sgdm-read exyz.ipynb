{
 "cells": [
  {
   "cell_type": "markdown",
   "id": "804060a9-de7f-4b23-a696-56a886d0301f",
   "metadata": {},
   "source": [
    "# Machine Learning Potential Energy Surface example\n",
    "See sGDML [documentation](http://www.sgdml.org/#code)"
   ]
  },
  {
   "cell_type": "code",
   "execution_count": 34,
   "id": "7d60bb13-f140-469c-ad9e-9381febefe00",
   "metadata": {},
   "outputs": [],
   "source": [
    "import numpy as np\n",
    "from sgdml.predict import GDMLPredict\n",
    "from sgdml.utils import io, ui\n",
    "import argparse\n",
    "import os\n",
    "import sys\n",
    "from sgdml import __version__"
   ]
  },
  {
   "cell_type": "code",
   "execution_count": 3,
   "id": "c590f571-df57-41cd-bdaf-7889db2eac51",
   "metadata": {},
   "outputs": [],
   "source": [
    "model = np.load('ethanol-aims.PBE.TS.light.tier.1-train2000-sym6.npz')\n",
    "gdml = GDMLPredict(model)\n",
    "\n",
    "r,_ = io.read_xyz('ethanol.xyz')\n",
    "e,f = gdml.predict(r)"
   ]
  },
  {
   "cell_type": "code",
   "execution_count": 4,
   "id": "4ad8761e-99c2-406c-910a-63d81db1100f",
   "metadata": {},
   "outputs": [
    {
     "data": {
      "text/plain": [
       "array([[-0.2161   ,  0.383454 ,  0.373037 ,  0.350325 ,  0.8106   ,\n",
       "        -0.960099 , -0.0932569, -1.07753  ,  0.52357  ,  0.349465 ,\n",
       "         0.810199 ,  1.39163  , -1.27296  ,  0.679169 ,  0.406791 ,\n",
       "        -0.298937 ,  1.17559  , -1.78152  ,  1.07352  ,  1.51199  ,\n",
       "        -0.739556 ,  1.05098  , -0.0143825, -1.32549  , -1.02219  ,\n",
       "        -1.28851  ,  0.732807 ]])"
      ]
     },
     "execution_count": 4,
     "metadata": {},
     "output_type": "execute_result"
    }
   ],
   "source": [
    "r\n"
   ]
  },
  {
   "cell_type": "code",
   "execution_count": 5,
   "id": "9ce05202-1935-4b06-81e7-97d72410de46",
   "metadata": {},
   "outputs": [
    {
     "data": {
      "text/plain": [
       "array([-97191.46041679])"
      ]
     },
     "execution_count": 5,
     "metadata": {},
     "output_type": "execute_result"
    }
   ],
   "source": [
    "e\n"
   ]
  },
  {
   "cell_type": "code",
   "execution_count": 6,
   "id": "c099b574-7133-491d-bd0f-b73e8d19d1b4",
   "metadata": {},
   "outputs": [
    {
     "data": {
      "text/plain": [
       "array([[ 20.97050004,  -6.01890852,  47.41609147,  18.73324658,\n",
       "        -45.41669271, -14.88330225, -25.84944428,  19.28499601,\n",
       "         -2.19671618, -27.56934791,  -9.7952442 , -60.83653668,\n",
       "         -2.62430803,   0.35265037,   9.36149942,  -1.09654287,\n",
       "         -8.57081708,  13.19251026,  36.09374324,  55.29134824,\n",
       "          3.96433017, -26.17099472,  11.60620654,   2.17812029,\n",
       "          7.51314796, -16.73353864,   1.80400349]])"
      ]
     },
     "execution_count": 6,
     "metadata": {},
     "output_type": "execute_result"
    }
   ],
   "source": [
    "f"
   ]
  },
  {
   "cell_type": "markdown",
   "id": "a3447c32-5c1e-4379-974f-4e49da2184fd",
   "metadata": {},
   "source": [
    "## Now use Atomic Simulation Environment"
   ]
  },
  {
   "cell_type": "code",
   "execution_count": 2,
   "id": "10a58188-8c26-46d7-be69-1008fc9379c0",
   "metadata": {},
   "outputs": [
    {
     "name": "stdout",
     "output_type": "stream",
     "text": [
      "Requirement already satisfied: sgdml[ase] in /opt/conda/lib/python3.10/site-packages (1.0.0)\n",
      "Requirement already satisfied: numpy>=1.19.0 in /opt/conda/lib/python3.10/site-packages (from sgdml[ase]) (1.23.5)\n",
      "Requirement already satisfied: torch>=1.8 in /opt/conda/lib/python3.10/site-packages (from sgdml[ase]) (1.13.1)\n",
      "Requirement already satisfied: psutil in /opt/conda/lib/python3.10/site-packages (from sgdml[ase]) (5.9.4)\n",
      "Requirement already satisfied: future in /opt/conda/lib/python3.10/site-packages (from sgdml[ase]) (0.18.3)\n",
      "Requirement already satisfied: scipy>=1.1.0 in /opt/conda/lib/python3.10/site-packages (from sgdml[ase]) (1.10.0)\n",
      "Collecting ase>=3.16.2\n",
      "  Using cached ase-3.22.1-py3-none-any.whl (2.2 MB)\n",
      "Requirement already satisfied: matplotlib>=3.1.0 in /opt/conda/lib/python3.10/site-packages (from ase>=3.16.2->sgdml[ase]) (3.6.3)\n",
      "Requirement already satisfied: nvidia-cudnn-cu11==8.5.0.96 in /opt/conda/lib/python3.10/site-packages (from torch>=1.8->sgdml[ase]) (8.5.0.96)\n",
      "Requirement already satisfied: typing-extensions in /opt/conda/lib/python3.10/site-packages (from torch>=1.8->sgdml[ase]) (4.4.0)\n",
      "Requirement already satisfied: nvidia-cuda-nvrtc-cu11==11.7.99 in /opt/conda/lib/python3.10/site-packages (from torch>=1.8->sgdml[ase]) (11.7.99)\n",
      "Requirement already satisfied: nvidia-cublas-cu11==11.10.3.66 in /opt/conda/lib/python3.10/site-packages (from torch>=1.8->sgdml[ase]) (11.10.3.66)\n",
      "Requirement already satisfied: nvidia-cuda-runtime-cu11==11.7.99 in /opt/conda/lib/python3.10/site-packages (from torch>=1.8->sgdml[ase]) (11.7.99)\n",
      "Requirement already satisfied: setuptools in /opt/conda/lib/python3.10/site-packages (from nvidia-cublas-cu11==11.10.3.66->torch>=1.8->sgdml[ase]) (66.1.1)\n",
      "Requirement already satisfied: wheel in /opt/conda/lib/python3.10/site-packages (from nvidia-cublas-cu11==11.10.3.66->torch>=1.8->sgdml[ase]) (0.38.4)\n",
      "Requirement already satisfied: contourpy>=1.0.1 in /opt/conda/lib/python3.10/site-packages (from matplotlib>=3.1.0->ase>=3.16.2->sgdml[ase]) (1.0.7)\n",
      "Requirement already satisfied: kiwisolver>=1.0.1 in /opt/conda/lib/python3.10/site-packages (from matplotlib>=3.1.0->ase>=3.16.2->sgdml[ase]) (1.4.4)\n",
      "Requirement already satisfied: cycler>=0.10 in /opt/conda/lib/python3.10/site-packages (from matplotlib>=3.1.0->ase>=3.16.2->sgdml[ase]) (0.11.0)\n",
      "Requirement already satisfied: python-dateutil>=2.7 in /opt/conda/lib/python3.10/site-packages (from matplotlib>=3.1.0->ase>=3.16.2->sgdml[ase]) (2.8.2)\n",
      "Requirement already satisfied: packaging>=20.0 in /opt/conda/lib/python3.10/site-packages (from matplotlib>=3.1.0->ase>=3.16.2->sgdml[ase]) (23.0)\n",
      "Requirement already satisfied: pyparsing>=2.2.1 in /opt/conda/lib/python3.10/site-packages (from matplotlib>=3.1.0->ase>=3.16.2->sgdml[ase]) (3.0.9)\n",
      "Requirement already satisfied: pillow>=6.2.0 in /opt/conda/lib/python3.10/site-packages (from matplotlib>=3.1.0->ase>=3.16.2->sgdml[ase]) (9.4.0)\n",
      "Requirement already satisfied: fonttools>=4.22.0 in /opt/conda/lib/python3.10/site-packages (from matplotlib>=3.1.0->ase>=3.16.2->sgdml[ase]) (4.38.0)\n",
      "Requirement already satisfied: six>=1.5 in /opt/conda/lib/python3.10/site-packages (from python-dateutil>=2.7->matplotlib>=3.1.0->ase>=3.16.2->sgdml[ase]) (1.16.0)\n",
      "Installing collected packages: ase\n",
      "Successfully installed ase-3.22.1\n"
     ]
    }
   ],
   "source": [
    "!pip install sgdml[ase]"
   ]
  },
  {
   "cell_type": "markdown",
   "id": "3e5e2066-1663-4c03-93e1-3503e42ba18c",
   "metadata": {},
   "source": [
    "## Now read extended xyz data"
   ]
  },
  {
   "cell_type": "code",
   "execution_count": 3,
   "id": "ef623325-cd72-48d7-99ca-ac83022fe210",
   "metadata": {},
   "outputs": [],
   "source": [
    "from ase.io import read"
   ]
  },
  {
   "cell_type": "code",
   "execution_count": 14,
   "id": "703b70fd-0a54-4c29-a4b0-13ab55cbd525",
   "metadata": {},
   "outputs": [],
   "source": [
    "filename = 'ethanol_ccsd_t-train.xyz'"
   ]
  },
  {
   "cell_type": "code",
   "execution_count": 36,
   "id": "75b62bac-4c62-4da3-a7e1-cdcef2db83f7",
   "metadata": {},
   "outputs": [],
   "source": [
    "filename = \"syn-MVK-oxo-4000K.xyz\""
   ]
  },
  {
   "cell_type": "code",
   "execution_count": 37,
   "id": "b18ef97c-1dcc-4f7a-ad2b-4305ed2f1a48",
   "metadata": {},
   "outputs": [],
   "source": [
    "mols = read(filename, index=':')"
   ]
  },
  {
   "cell_type": "code",
   "execution_count": 38,
   "id": "ce19df0d-cfab-4037-a539-e685177a94d5",
   "metadata": {},
   "outputs": [
    {
     "data": {
      "text/plain": [
       "Atoms(symbols='C4H3O2H3', pbc=False)"
      ]
     },
     "execution_count": 38,
     "metadata": {},
     "output_type": "execute_result"
    }
   ],
   "source": [
    "mols[0]"
   ]
  },
  {
   "cell_type": "code",
   "execution_count": 39,
   "id": "1718f255-8789-42cf-bc8c-3ed59716a082",
   "metadata": {},
   "outputs": [],
   "source": [
    "calc = mols[0].get_calculator()"
   ]
  },
  {
   "cell_type": "code",
   "execution_count": 40,
   "id": "db37860a-005a-445e-b3f0-167588b54b89",
   "metadata": {},
   "outputs": [
    {
     "data": {
      "text/plain": [
       "False"
      ]
     },
     "execution_count": 40,
     "metadata": {},
     "output_type": "execute_result"
    }
   ],
   "source": [
    "calc is not None"
   ]
  },
  {
   "cell_type": "code",
   "execution_count": 41,
   "id": "812a3a47-c8d5-49b5-9c5f-78344d957684",
   "metadata": {},
   "outputs": [
    {
     "data": {
      "text/plain": [
       "{'-306.3647098134': True}"
      ]
     },
     "execution_count": 41,
     "metadata": {},
     "output_type": "execute_result"
    }
   ],
   "source": [
    "mols[0].info"
   ]
  },
  {
   "cell_type": "code",
   "execution_count": 42,
   "id": "ccc6eeff-cac3-4a1d-a7c6-8eafab0c9a23",
   "metadata": {},
   "outputs": [],
   "source": [
    "def read_nonstd_ext_xyz(f):\n",
    "    n_atoms = None\n",
    "\n",
    "    R, z, E, F = [], [], [], []\n",
    "    for i, line in enumerate(f):\n",
    "        line = line.strip()\n",
    "        if not n_atoms:\n",
    "            n_atoms = int(line)\n",
    "            print('Number atoms per geometry: {:,}'.format(n_atoms))\n",
    "\n",
    "        file_i, line_i = divmod(i, n_atoms + 2)\n",
    "\n",
    "        if line_i == 1:\n",
    "            try:\n",
    "                e = float(line)\n",
    "            except ValueError:\n",
    "                pass\n",
    "            else:\n",
    "                E.append(e)\n",
    "\n",
    "        cols = line.split()\n",
    "        if line_i >= 2:\n",
    "            R.append(list(map(float, cols[1:4])))\n",
    "            if file_i == 0:  # first molecule\n",
    "                z.append(io._z_str_to_z_dict[cols[0]])\n",
    "            F.append(list(map(float, cols[4:7])))\n",
    "\n",
    "        if file_i % 1000 == 0:\n",
    "            sys.stdout.write('\\rNumber geometries found so far: {:,}'.format(file_i))\n",
    "            sys.stdout.flush()\n",
    "    sys.stdout.write('\\rNumber geometries found so far: {:,}'.format(file_i))\n",
    "    sys.stdout.flush()\n",
    "    print()\n",
    "\n",
    "    R = np.array(R).reshape(-1, n_atoms, 3)\n",
    "    z = np.array(z)\n",
    "    E = None if not E else np.array(E)\n",
    "    F = np.array(F).reshape(-1, n_atoms, 3)\n",
    "\n",
    "    if F.shape[0] != R.shape[0]:\n",
    "        sys.exit(\n",
    "            ui.color_str('[FAIL]', fore_color=ui.RED, bold=True)\n",
    "            + ' Force labels are missing from dataset or are incomplete!'\n",
    "        )\n",
    "\n",
    "    f.close()\n",
    "    return (R, z, E, F)\n"
   ]
  },
  {
   "cell_type": "code",
   "execution_count": 43,
   "id": "9c163d8a-c88f-4390-9593-d6c1601869a2",
   "metadata": {},
   "outputs": [
    {
     "name": "stdout",
     "output_type": "stream",
     "text": [
      "Number atoms per geometry: 12\n",
      "Number geometries found so far: 999\n"
     ]
    }
   ],
   "source": [
    "with open(filename) as f:\n",
    "    R, z, E, F = read_nonstd_ext_xyz(f)\n",
    "\n",
    "name = filename\n",
    "# Base variables contained in every model file.\n",
    "base_vars = {\n",
    "    'type': 'd',\n",
    "    'code_version': __version__,\n",
    "    'name': name,\n",
    "    'theory': 'unknown',\n",
    "    'R': R,\n",
    "    'z': z,\n",
    "    'F': F,\n",
    "}"
   ]
  },
  {
   "cell_type": "code",
   "execution_count": 44,
   "id": "ecd6f725-d0b0-4514-b57c-ecd8cf248372",
   "metadata": {},
   "outputs": [
    {
     "name": "stdout",
     "output_type": "stream",
     "text": [
      "Please provide a description of the length unit used in your input file, e.g. 'Ang' or 'au': \n",
      "Note: This string will be stored in the dataset file and passed on to models files for later reference.\n",
      "Please provide a description of the energy unit used in your input file, e.g. 'kcal/mol' or 'eV': \n",
      "Note: This string will be stored in the dataset file and passed on to models files for later reference.\n",
      "[DONE]\n"
     ]
    }
   ],
   "source": [
    "base_vars['F_min'], base_vars['F_max'] = np.min(F.ravel()), np.max(F.ravel())\n",
    "base_vars['F_mean'], base_vars['F_var'] = np.mean(F.ravel()), np.var(F.ravel())\n",
    "\n",
    "print('Please provide a description of the length unit used in your input file, e.g. \\'Ang\\' or \\'au\\': ')\n",
    "print('Note: This string will be stored in the dataset file and passed on to models files for later reference.')\n",
    "base_vars['r_unit'] = 'Ang'\n",
    "\n",
    "print('Please provide a description of the energy unit used in your input file, e.g. \\'kcal/mol\\' or \\'eV\\': ')\n",
    "print('Note: This string will be stored in the dataset file and passed on to models files for later reference.')\n",
    "base_vars['e_unit'] = 'kcal/mol'\n",
    "\n",
    "if E is not None:\n",
    "    base_vars['E'] = E\n",
    "    base_vars['E_min'], base_vars['E_max'] = np.min(E), np.max(E)\n",
    "    base_vars['E_mean'], base_vars['E_var'] = np.mean(E), np.var(E)\n",
    "else:\n",
    "    print(ui.color_str('[INFO]', bold=True) + ' No energy labels found in dataset.')\n",
    "\n",
    "dataset_file_name = filename + '.npz'\n",
    "base_vars['md5'] = io.dataset_md5(base_vars)\n",
    "np.savez_compressed(dataset_file_name, **base_vars)\n",
    "print(ui.color_str('[DONE]', fore_color=ui.GREEN, bold=True))"
   ]
  },
  {
   "cell_type": "markdown",
   "id": "aadfbe4c-5b59-41b7-80a7-c446b9e88998",
   "metadata": {},
   "source": [
    "### Calculator"
   ]
  },
  {
   "cell_type": "code",
   "execution_count": null,
   "id": "107efb04-35dd-4473-bf9e-2372683a2379",
   "metadata": {},
   "outputs": [],
   "source": []
  },
  {
   "cell_type": "code",
   "execution_count": 8,
   "id": "c147c7ff-9a2d-4d94-9b02-e3fe84583d46",
   "metadata": {},
   "outputs": [],
   "source": [
    "from sgdml.intf.ase_calc import SGDMLCalculator\n",
    "\n",
    "from ase.io import read\n",
    "from ase.optimize import QuasiNewton\n",
    "from ase.md.velocitydistribution import (MaxwellBoltzmannDistribution, Stationary, ZeroRotation)\n",
    "from ase.md.verlet import VelocityVerlet\n",
    "from ase import units\n",
    "from IPython.display import HTML\n",
    "from  ase.build import  molecule"
   ]
  },
  {
   "cell_type": "markdown",
   "id": "6a08094d-193b-4d2e-b207-b9289d31cda6",
   "metadata": {},
   "source": [
    "### Function to create html to display molecule"
   ]
  },
  {
   "cell_type": "code",
   "execution_count": 9,
   "id": "6e366ba0-c88e-4da4-92a8-20eb858c014c",
   "metadata": {},
   "outputs": [],
   "source": [
    "def atoms_to_html(atoms):\n",
    "    'Return the html representation the atoms object as string'\n",
    "\n",
    "    from tempfile import NamedTemporaryFile\n",
    "\n",
    "    with NamedTemporaryFile('r+', suffix='.html') as ntf:\n",
    "        atoms.write(ntf.name, format='html')\n",
    "        ntf.seek(0)\n",
    "        html = ntf.read()\n",
    "    return html"
   ]
  },
  {
   "cell_type": "code",
   "execution_count": 11,
   "id": "264ebc6e-e8c1-4bff-b887-f2622bcb049a",
   "metadata": {},
   "outputs": [
    {
     "name": "stderr",
     "output_type": "stream",
     "text": [
      "[WARN] Please remember to specify the proper conversion factors, if your model does not use\n",
      "       'kcal/mol' and 'Ang' as units.\n"
     ]
    }
   ],
   "source": [
    "model_path = 'ethanol-aims.PBE.TS.light.tier.1-train2000-sym6.npz'\n",
    "calc = SGDMLCalculator(model_path)\n",
    "\n",
    "mol = read('ethanol.xyz')\n",
    "mol.set_calculator(calc)"
   ]
  },
  {
   "cell_type": "code",
   "execution_count": 50,
   "id": "3cdb49b8-df0f-49c2-a948-c5b88b091c9a",
   "metadata": {},
   "outputs": [
    {
     "data": {
      "text/html": [
       "<html>\n",
       "\n",
       " <head>\n",
       "\n",
       "  <title>ASE atomic visualization</title>\n",
       "\n",
       "  <link rel=\"stylesheet\" type=\"text/css\"\n",
       "\n",
       "   href=\"https://www.x3dom.org/x3dom/release/x3dom.css\">\n",
       "\n",
       "  </link>\n",
       "\n",
       "  <script type=\"text/javascript\"\n",
       "\n",
       "   src=\"https://www.x3dom.org/x3dom/release/x3dom.js\">\n",
       "\n",
       "  </script>\n",
       "\n",
       " </head>\n",
       "\n",
       " <body>\n",
       "\n",
       "  <X3D>\n",
       "\n",
       "   <Scene>\n",
       "\n",
       "    <Transform translation=\"-0.07 0.30 0.38\">\n",
       "\n",
       "     <Shape>\n",
       "\n",
       "      <Appearance>\n",
       "\n",
       "       <Material diffuseColor=\"0.565 0.565 0.565\" specularColor=\"0.5 0.5 0.5\">\n",
       "\n",
       "       </Material>\n",
       "\n",
       "      </Appearance>\n",
       "\n",
       "      <Sphere radius=\"0.76\">\n",
       "\n",
       "      </Sphere>\n",
       "\n",
       "     </Shape>\n",
       "\n",
       "    </Transform>\n",
       "\n",
       "    <Transform translation=\"0.45 0.84 -0.94\">\n",
       "\n",
       "     <Shape>\n",
       "\n",
       "      <Appearance>\n",
       "\n",
       "       <Material diffuseColor=\"0.565 0.565 0.565\" specularColor=\"0.5 0.5 0.5\">\n",
       "\n",
       "       </Material>\n",
       "\n",
       "      </Appearance>\n",
       "\n",
       "      <Sphere radius=\"0.76\">\n",
       "\n",
       "      </Sphere>\n",
       "\n",
       "     </Shape>\n",
       "\n",
       "    </Transform>\n",
       "\n",
       "    <Transform translation=\"-0.31 -1.11 0.22\">\n",
       "\n",
       "     <Shape>\n",
       "\n",
       "      <Appearance>\n",
       "\n",
       "       <Material diffuseColor=\"1.000 0.051 0.051\" specularColor=\"0.5 0.5 0.5\">\n",
       "\n",
       "       </Material>\n",
       "\n",
       "      </Appearance>\n",
       "\n",
       "      <Sphere radius=\"0.66\">\n",
       "\n",
       "      </Sphere>\n",
       "\n",
       "     </Shape>\n",
       "\n",
       "    </Transform>\n",
       "\n",
       "    <Transform translation=\"0.66 0.48 1.18\">\n",
       "\n",
       "     <Shape>\n",
       "\n",
       "      <Appearance>\n",
       "\n",
       "       <Material diffuseColor=\"1.000 1.000 1.000\" specularColor=\"0.5 0.5 0.5\">\n",
       "\n",
       "       </Material>\n",
       "\n",
       "      </Appearance>\n",
       "\n",
       "      <Sphere radius=\"0.31\">\n",
       "\n",
       "      </Sphere>\n",
       "\n",
       "     </Shape>\n",
       "\n",
       "    </Transform>\n",
       "\n",
       "    <Transform translation=\"-1.01 0.82 0.65\">\n",
       "\n",
       "     <Shape>\n",
       "\n",
       "      <Appearance>\n",
       "\n",
       "       <Material diffuseColor=\"1.000 1.000 1.000\" specularColor=\"0.5 0.5 0.5\">\n",
       "\n",
       "       </Material>\n",
       "\n",
       "      </Appearance>\n",
       "\n",
       "      <Sphere radius=\"0.31\">\n",
       "\n",
       "      </Sphere>\n",
       "\n",
       "     </Shape>\n",
       "\n",
       "    </Transform>\n",
       "\n",
       "    <Transform translation=\"-0.28 0.67 -1.74\">\n",
       "\n",
       "     <Shape>\n",
       "\n",
       "      <Appearance>\n",
       "\n",
       "       <Material diffuseColor=\"1.000 1.000 1.000\" specularColor=\"0.5 0.5 0.5\">\n",
       "\n",
       "       </Material>\n",
       "\n",
       "      </Appearance>\n",
       "\n",
       "      <Sphere radius=\"0.31\">\n",
       "\n",
       "      </Sphere>\n",
       "\n",
       "     </Shape>\n",
       "\n",
       "    </Transform>\n",
       "\n",
       "    <Transform translation=\"0.65 1.92 -0.86\">\n",
       "\n",
       "     <Shape>\n",
       "\n",
       "      <Appearance>\n",
       "\n",
       "       <Material diffuseColor=\"1.000 1.000 1.000\" specularColor=\"0.5 0.5 0.5\">\n",
       "\n",
       "       </Material>\n",
       "\n",
       "      </Appearance>\n",
       "\n",
       "      <Sphere radius=\"0.31\">\n",
       "\n",
       "      </Sphere>\n",
       "\n",
       "     </Shape>\n",
       "\n",
       "    </Transform>\n",
       "\n",
       "    <Transform translation=\"1.39 0.34 -1.21\">\n",
       "\n",
       "     <Shape>\n",
       "\n",
       "      <Appearance>\n",
       "\n",
       "       <Material diffuseColor=\"1.000 1.000 1.000\" specularColor=\"0.5 0.5 0.5\">\n",
       "\n",
       "       </Material>\n",
       "\n",
       "      </Appearance>\n",
       "\n",
       "      <Sphere radius=\"0.31\">\n",
       "\n",
       "      </Sphere>\n",
       "\n",
       "     </Shape>\n",
       "\n",
       "    </Transform>\n",
       "\n",
       "    <Transform translation=\"-0.65 -1.46 1.06\">\n",
       "\n",
       "     <Shape>\n",
       "\n",
       "      <Appearance>\n",
       "\n",
       "       <Material diffuseColor=\"1.000 1.000 1.000\" specularColor=\"0.5 0.5 0.5\">\n",
       "\n",
       "       </Material>\n",
       "\n",
       "      </Appearance>\n",
       "\n",
       "      <Sphere radius=\"0.31\">\n",
       "\n",
       "      </Sphere>\n",
       "\n",
       "     </Shape>\n",
       "\n",
       "    </Transform>\n",
       "\n",
       "   </Scene>\n",
       "\n",
       "  </X3D>\n",
       "\n",
       " </body>\n",
       "\n",
       "</html>\n",
       "\n"
      ],
      "text/plain": [
       "<IPython.core.display.HTML object>"
      ]
     },
     "execution_count": 50,
     "metadata": {},
     "output_type": "execute_result"
    }
   ],
   "source": [
    "ethanol_html = atoms_to_html(mol)\n",
    "HTML(ethanol_html)"
   ]
  },
  {
   "cell_type": "code",
   "execution_count": 49,
   "id": "0c46bfe8-d321-4f7c-aeba-e8dcc8966e41",
   "metadata": {},
   "outputs": [
    {
     "name": "stdout",
     "output_type": "stream",
     "text": [
      "                Step[ FC]     Time          Energy          fmax\n",
      "BFGSLineSearch:    0[  0] 20:57:20    -4214.070540        5.3959\n",
      "BFGSLineSearch:    1[  2] 20:57:20    -4214.581003        3.3624\n",
      "BFGSLineSearch:    2[  4] 20:57:21    -4214.820229        2.7413\n",
      "BFGSLineSearch:    3[  6] 20:57:21    -4215.079685        1.1698\n",
      "BFGSLineSearch:    4[  8] 20:57:21    -4215.156243        0.9178\n",
      "BFGSLineSearch:    5[ 10] 20:57:21    -4215.200981        0.7243\n",
      "BFGSLineSearch:    6[ 12] 20:57:21    -4215.235723        0.5901\n",
      "BFGSLineSearch:    7[ 14] 20:57:21    -4215.261799        0.6091\n",
      "BFGSLineSearch:    8[ 16] 20:57:21    -4215.270879        0.5386\n",
      "BFGSLineSearch:    9[ 17] 20:57:21    -4215.281794        0.4116\n",
      "BFGSLineSearch:   10[ 19] 20:57:21    -4215.284509        0.2042\n",
      "BFGSLineSearch:   11[ 20] 20:57:21    -4215.288114        0.1619\n",
      "BFGSLineSearch:   12[ 22] 20:57:21    -4215.288789        0.1212\n",
      "BFGSLineSearch:   13[ 24] 20:57:21    -4215.290373        0.1075\n",
      "BFGSLineSearch:   14[ 26] 20:57:21    -4215.295194        0.3673\n",
      "BFGSLineSearch:   15[ 29] 20:57:21    -4215.308748        0.3286\n",
      "BFGSLineSearch:   16[ 31] 20:57:21    -4215.320014        0.4637\n",
      "BFGSLineSearch:   17[ 32] 20:57:21    -4215.348750        0.6486\n",
      "BFGSLineSearch:   18[ 33] 20:57:21    -4215.369712        0.3488\n",
      "BFGSLineSearch:   19[ 35] 20:57:21    -4215.383581        0.2949\n",
      "BFGSLineSearch:   20[ 36] 20:57:21    -4215.392743        0.3184\n",
      "BFGSLineSearch:   21[ 37] 20:57:21    -4215.397350        0.3005\n",
      "BFGSLineSearch:   22[ 38] 20:57:21    -4215.400537        0.0914\n",
      "BFGSLineSearch:   23[ 40] 20:57:21    -4215.401140        0.0619\n",
      "BFGSLineSearch:   24[ 41] 20:57:21    -4215.401392        0.0522\n",
      "BFGSLineSearch:   25[ 42] 20:57:21    -4215.401520        0.0202\n",
      "BFGSLineSearch:   26[ 44] 20:57:21    -4215.401605        0.0278\n",
      "BFGSLineSearch:   27[ 46] 20:57:21    -4215.401682        0.0283\n",
      "BFGSLineSearch:   28[ 48] 20:57:21    -4215.401758        0.0201\n",
      "BFGSLineSearch:   29[ 50] 20:57:21    -4215.401813        0.0227\n",
      "BFGSLineSearch:   30[ 51] 20:57:21    -4215.401836        0.0130\n",
      "BFGSLineSearch:   31[ 52] 20:57:21    -4215.401853        0.0081\n",
      "BFGSLineSearch:   32[ 53] 20:57:22    -4215.401858        0.0026\n",
      "BFGSLineSearch:   33[ 54] 20:57:22    -4215.401858        0.0013\n",
      "BFGSLineSearch:   34[ 55] 20:57:22    -4215.401858        0.0002\n",
      "BFGSLineSearch:   35[ 56] 20:57:22    -4215.401858        0.0001\n"
     ]
    },
    {
     "data": {
      "text/plain": [
       "True"
      ]
     },
     "execution_count": 49,
     "metadata": {},
     "output_type": "execute_result"
    }
   ],
   "source": [
    "# do a quick geometry relaxation\n",
    "qn = QuasiNewton(mol)\n",
    "qn.run(1e-4, 100)"
   ]
  },
  {
   "cell_type": "markdown",
   "id": "ec78a3f8-9799-43e6-b061-382044fb3900",
   "metadata": {},
   "source": [
    "### Now display optimized structure"
   ]
  },
  {
   "cell_type": "code",
   "execution_count": 13,
   "id": "cc61b855-e448-4443-b78a-852758fa97f2",
   "metadata": {},
   "outputs": [
    {
     "data": {
      "text/plain": [
       "['C', 'C', 'O', 'H', 'H', 'H', 'H', 'H', 'H']"
      ]
     },
     "execution_count": 13,
     "metadata": {},
     "output_type": "execute_result"
    }
   ],
   "source": [
    "mol.get_chemical_symbols()"
   ]
  },
  {
   "cell_type": "code",
   "execution_count": 61,
   "id": "0fb52940-a12c-4300-aaf3-695f078b68bb",
   "metadata": {},
   "outputs": [
    {
     "data": {
      "text/plain": [
       "array([[0.        , 1.51758622, 1.39521498, 1.10664395, 1.10664323,\n",
       "        2.16480082, 2.16246053, 2.16480284, 2.46227034],\n",
       "       [1.51758622, 0.        , 2.26155164, 2.1631559 , 2.16315068,\n",
       "        1.0991375 , 1.09940672, 1.09913468, 3.54704883],\n",
       "       [1.39521498, 2.26155164, 0.        , 2.09986187, 2.0998624 ,\n",
       "        2.51243138, 3.24357749, 2.51243969, 1.29      ],\n",
       "       [1.10664395, 2.1631559 , 2.09986187, 0.        , 1.78578272,\n",
       "        3.0813838 , 2.49928769, 2.51279248, 2.8980128 ],\n",
       "       [1.10664323, 2.16315068, 2.0998624 , 1.78578272, 0.        ,\n",
       "        2.51278629, 2.49927823, 3.0813802 , 2.89801438],\n",
       "       [2.16480082, 1.0991375 , 2.51243138, 3.0813838 , 2.51278629,\n",
       "        0.        , 1.78339811, 1.78118228, 3.73457667],\n",
       "       [2.16246053, 1.09940672, 3.24357749, 2.49928769, 2.49927823,\n",
       "        1.78339811, 0.        , 1.78339437, 4.49554326],\n",
       "       [2.16480284, 1.09913468, 2.51243969, 2.51279248, 3.0813802 ,\n",
       "        1.78118228, 1.78339437, 0.        , 3.7345868 ],\n",
       "       [2.46227034, 3.54704883, 1.29      , 2.8980128 , 2.89801438,\n",
       "        3.73457667, 4.49554326, 3.7345868 , 0.        ]])"
      ]
     },
     "execution_count": 61,
     "metadata": {},
     "output_type": "execute_result"
    }
   ],
   "source": [
    "mol.get_all_distances()"
   ]
  },
  {
   "cell_type": "code",
   "execution_count": 70,
   "id": "518382a3-b241-4b4f-a855-2c405d6197c3",
   "metadata": {},
   "outputs": [
    {
     "data": {
      "text/plain": [
       "1.290000000000006"
      ]
     },
     "execution_count": 70,
     "metadata": {},
     "output_type": "execute_result"
    }
   ],
   "source": [
    "mol.get_distance(2,8) # O-H distance"
   ]
  },
  {
   "cell_type": "code",
   "execution_count": 24,
   "id": "76db2bee-4eca-4d89-81a7-55336d0b7a9b",
   "metadata": {},
   "outputs": [
    {
     "data": {
      "text/plain": [
       "array([-4214.62058776])"
      ]
     },
     "execution_count": 24,
     "metadata": {},
     "output_type": "execute_result"
    }
   ],
   "source": [
    "mol.get_potential_energy()"
   ]
  },
  {
   "cell_type": "code",
   "execution_count": 28,
   "id": "d0dedfa6-4766-4a77-8934-0b6f8a8d5317",
   "metadata": {},
   "outputs": [],
   "source": [
    "mol.set_distance(2,8,1.7) # O-H distance"
   ]
  },
  {
   "cell_type": "code",
   "execution_count": 29,
   "id": "a7a8c3a6-620d-4b6b-b5f0-ab1cd22d2a85",
   "metadata": {},
   "outputs": [
    {
     "data": {
      "text/plain": [
       "array([-4210.59518789])"
      ]
     },
     "execution_count": 29,
     "metadata": {},
     "output_type": "execute_result"
    }
   ],
   "source": [
    "mol.get_potential_energy()"
   ]
  },
  {
   "cell_type": "code",
   "execution_count": 112,
   "id": "fc189814-f844-4543-afde-fab383903e97",
   "metadata": {},
   "outputs": [],
   "source": [
    "import numpy as np\n",
    "en = np.array([])\n",
    "dist =  np.array([])\n",
    "for r in np.arange(0.8,4.0,0.01):\n",
    "    mol.set_distance(2,8,r) # O-H distance\n",
    "    dist = np.append(dist,mol.get_distance(2,8))\n",
    "    en = np.append(en,mol.get_potential_energy())"
   ]
  },
  {
   "cell_type": "code",
   "execution_count": 113,
   "id": "b75a8f20-b80c-448e-89d1-06da7212cd37",
   "metadata": {},
   "outputs": [],
   "source": [
    "en = en - min(en) # Remove minimum energy offset"
   ]
  },
  {
   "cell_type": "code",
   "execution_count": 114,
   "id": "f244e38e-09f2-43dc-a9ea-7328f0f3c114",
   "metadata": {},
   "outputs": [
    {
     "data": {
      "application/vnd.plotly.v1+json": {
       "config": {
        "plotlyServerURL": "https://plot.ly"
       },
       "data": [
        {
         "hovertemplate": "variable=wide_variable_0<br>x=%{x}<br>value=%{y}<extra></extra>",
         "legendgroup": "wide_variable_0",
         "line": {
          "color": "#636efa",
          "dash": "solid"
         },
         "marker": {
          "symbol": "circle"
         },
         "mode": "lines",
         "name": "wide_variable_0",
         "orientation": "v",
         "showlegend": true,
         "type": "scatter",
         "x": [
          0.7999999999999999,
          0.8100000000000002,
          0.82,
          0.8300000000000002,
          0.8400000000000002,
          0.8500000000000002,
          0.8600000000000002,
          0.8700000000000001,
          0.8800000000000002,
          0.8900000000000001,
          0.9000000000000001,
          0.9100000000000001,
          0.9200000000000002,
          0.9300000000000002,
          0.9400000000000003,
          0.9500000000000001,
          0.9600000000000001,
          0.9700000000000003,
          0.9800000000000002,
          0.99,
          1.0000000000000004,
          1.01,
          1.0200000000000002,
          1.0300000000000005,
          1.0400000000000003,
          1.0500000000000003,
          1.0600000000000003,
          1.0700000000000003,
          1.0800000000000005,
          1.0900000000000003,
          1.1000000000000003,
          1.1100000000000003,
          1.12,
          1.1300000000000003,
          1.1400000000000006,
          1.1500000000000001,
          1.1600000000000004,
          1.1700000000000004,
          1.1800000000000004,
          1.1900000000000004,
          1.2000000000000006,
          1.2100000000000002,
          1.2200000000000004,
          1.2300000000000002,
          1.2400000000000004,
          1.2500000000000004,
          1.2600000000000005,
          1.2700000000000005,
          1.2800000000000005,
          1.2900000000000007,
          1.3000000000000003,
          1.3100000000000005,
          1.3200000000000003,
          1.3300000000000005,
          1.3400000000000005,
          1.3500000000000005,
          1.3600000000000003,
          1.3700000000000006,
          1.3800000000000008,
          1.3900000000000003,
          1.4000000000000008,
          1.4100000000000004,
          1.4200000000000006,
          1.4300000000000006,
          1.4400000000000006,
          1.4500000000000008,
          1.4600000000000004,
          1.4700000000000006,
          1.4800000000000006,
          1.4900000000000009,
          1.5000000000000007,
          1.5100000000000007,
          1.5200000000000007,
          1.5300000000000007,
          1.540000000000001,
          1.5500000000000005,
          1.5600000000000007,
          1.5700000000000005,
          1.580000000000001,
          1.5900000000000005,
          1.6000000000000008,
          1.610000000000001,
          1.6200000000000008,
          1.630000000000001,
          1.640000000000001,
          1.6500000000000008,
          1.6600000000000008,
          1.670000000000001,
          1.6800000000000008,
          1.6900000000000008,
          1.7000000000000008,
          1.7100000000000006,
          1.7200000000000009,
          1.730000000000001,
          1.740000000000001,
          1.7500000000000007,
          1.7600000000000007,
          1.7700000000000011,
          1.7800000000000007,
          1.7900000000000011,
          1.8000000000000007,
          1.8100000000000014,
          1.8200000000000007,
          1.8300000000000012,
          1.840000000000001,
          1.8500000000000008,
          1.8600000000000012,
          1.8700000000000008,
          1.8800000000000006,
          1.8900000000000012,
          1.9000000000000008,
          1.9100000000000006,
          1.920000000000001,
          1.930000000000001,
          1.9400000000000008,
          1.9500000000000015,
          1.9600000000000009,
          1.9700000000000015,
          1.9800000000000009,
          1.9900000000000013,
          2.000000000000001,
          2.0100000000000016,
          2.020000000000001,
          2.030000000000001,
          2.0400000000000005,
          2.0500000000000016,
          2.060000000000001,
          2.0700000000000016,
          2.080000000000001,
          2.0900000000000016,
          2.100000000000001,
          2.1100000000000017,
          2.120000000000001,
          2.1300000000000012,
          2.1400000000000015,
          2.150000000000001,
          2.1600000000000015,
          2.170000000000001,
          2.1800000000000015,
          2.1900000000000013,
          2.200000000000001,
          2.2100000000000013,
          2.2200000000000015,
          2.2300000000000013,
          2.240000000000001,
          2.2500000000000018,
          2.260000000000001,
          2.2700000000000014,
          2.280000000000001,
          2.290000000000002,
          2.300000000000001,
          2.310000000000002,
          2.3200000000000016,
          2.3300000000000014,
          2.3400000000000016,
          2.350000000000001,
          2.3600000000000017,
          2.3700000000000014,
          2.3800000000000026,
          2.390000000000001,
          2.4000000000000017,
          2.4100000000000015,
          2.4200000000000013,
          2.430000000000002,
          2.440000000000001,
          2.4500000000000015,
          2.4600000000000013,
          2.470000000000001,
          2.480000000000002,
          2.490000000000001,
          2.5000000000000018,
          2.510000000000002,
          2.5200000000000014,
          2.530000000000001,
          2.5400000000000014,
          2.5500000000000016,
          2.5600000000000014,
          2.570000000000001,
          2.580000000000002,
          2.5900000000000016,
          2.600000000000002,
          2.6100000000000017,
          2.6200000000000014,
          2.630000000000002,
          2.6400000000000015,
          2.6500000000000017,
          2.660000000000002,
          2.6700000000000017,
          2.6800000000000015,
          2.6900000000000013,
          2.7000000000000024,
          2.7100000000000017,
          2.7200000000000015,
          2.7300000000000018,
          2.7400000000000015,
          2.7500000000000018,
          2.760000000000002,
          2.770000000000002,
          2.7800000000000016,
          2.790000000000002,
          2.8000000000000016,
          2.8100000000000014,
          2.820000000000002,
          2.830000000000002,
          2.8400000000000016,
          2.850000000000002,
          2.860000000000001,
          2.8700000000000023,
          2.8800000000000017,
          2.8900000000000015,
          2.9000000000000017,
          2.9100000000000024,
          2.9200000000000017,
          2.9300000000000015,
          2.940000000000002,
          2.950000000000002,
          2.960000000000002,
          2.9700000000000006,
          2.9800000000000026,
          2.990000000000002,
          3.0000000000000018,
          3.0100000000000016,
          3.0200000000000022,
          3.030000000000002,
          3.0400000000000014,
          3.0500000000000016,
          3.0600000000000023,
          3.0700000000000025,
          3.080000000000002,
          3.090000000000002,
          3.1000000000000023,
          3.1100000000000017,
          3.120000000000002,
          3.1300000000000017,
          3.1400000000000023,
          3.150000000000002,
          3.160000000000002,
          3.1700000000000017,
          3.1800000000000024,
          3.190000000000002,
          3.2000000000000015,
          3.2100000000000017,
          3.220000000000002,
          3.2300000000000026,
          3.2400000000000024,
          3.2500000000000018,
          3.260000000000002,
          3.2700000000000022,
          3.280000000000002,
          3.2900000000000014,
          3.3000000000000025,
          3.310000000000002,
          3.320000000000003,
          3.3300000000000014,
          3.340000000000002,
          3.350000000000002,
          3.3600000000000025,
          3.370000000000002,
          3.3800000000000026,
          3.3900000000000023,
          3.4000000000000017,
          3.410000000000002,
          3.4200000000000026,
          3.4300000000000024,
          3.440000000000002,
          3.450000000000002,
          3.4600000000000026,
          3.470000000000002,
          3.4800000000000026,
          3.4900000000000024,
          3.5000000000000018,
          3.5100000000000025,
          3.5200000000000022,
          3.530000000000002,
          3.5400000000000027,
          3.5500000000000025,
          3.5600000000000023,
          3.5700000000000016,
          3.5800000000000023,
          3.590000000000002,
          3.600000000000002,
          3.610000000000002,
          3.6200000000000028,
          3.6300000000000026,
          3.640000000000002,
          3.650000000000002,
          3.6600000000000024,
          3.6700000000000035,
          3.6800000000000015,
          3.6900000000000026,
          3.7000000000000037,
          3.710000000000002,
          3.720000000000003,
          3.7300000000000026,
          3.740000000000002,
          3.7500000000000027,
          3.760000000000003,
          3.770000000000002,
          3.7800000000000034,
          3.7900000000000027,
          3.800000000000003,
          3.8100000000000023,
          3.8200000000000025,
          3.830000000000003,
          3.840000000000003,
          3.8500000000000023,
          3.8600000000000025,
          3.870000000000003,
          3.880000000000002,
          3.8900000000000023,
          3.900000000000003,
          3.910000000000003,
          3.920000000000002,
          3.9300000000000024,
          3.9400000000000035,
          3.950000000000003,
          3.9600000000000035,
          3.9700000000000015,
          3.9800000000000026,
          3.9900000000000024
         ],
         "xaxis": "x",
         "y": [
          0.6693153875312419,
          0.5447591390438902,
          0.43544049811316654,
          0.340392623693333,
          0.25872064342365775,
          0.18959961678319814,
          0.13227152926265262,
          0.08604087964522478,
          0.05026867087690334,
          0.0243649933981942,
          0.007780833633660222,
          0,
          0.0005321230428307899,
          0.008907423123673652,
          0.024673527045706578,
          0.04739415096173616,
          0.07664918869340909,
          0.11203562662740296,
          0.1531687853857875,
          0.19968354452157655,
          0.25123534583417495,
          0.3075008914238424,
          0.36817850547959097,
          0.4329881442881742,
          0.5016710781519578,
          0.5739892598721781,
          0.6497244318125013,
          0.7286770233449715,
          0.8106649114024549,
          0.8955220996494972,
          0.9830973788348274,
          1.0732530079831122,
          1.1658634504274232,
          1.2608141861273907,
          1.3580006105667053,
          1.4573270274977403,
          1.55870573519951,
          1.6620562014704774,
          1.7673043227277958,
          1.8743817666736504,
          1.983225381367447,
          2.0937766718334387,
          2.205981337407138,
          2.3197888587492344,
          2.43515212953389,
          2.5520271359182516,
          2.670372662087175,
          2.790150037886633,
          2.911322905142697,
          3.0338570127751154,
          3.15772003332404,
          3.2828813951773554,
          3.409312132326704,
          3.5369847496667717,
          3.665873097113945,
          3.7959522578639735,
          3.927198444511305,
          4.059588903115582,
          4.193101826753264,
          4.327716272869111,
          4.46341208726335,
          4.600169834867302,
          4.737970736058742,
          4.876796597966859,
          5.016629766917504,
          5.1574530647849315,
          5.299249743522523,
          5.442003436754021,
          5.5856981093002105,
          5.730318020438972,
          5.875847677905767,
          6.022271800251474,
          6.169575283605809,
          6.317743160952887,
          6.466760573040119,
          6.6166127345386485,
          6.767284904029111,
          6.918762357222477,
          7.071030358531061,
          7.2240741333616825,
          7.377878846951717,
          7.532429578541269,
          7.687711299847251,
          7.843708853882163,
          8.000406937325351,
          8.157790075409139,
          8.31584261376247,
          8.474548690184747,
          8.633892230395759,
          8.79385692458527,
          8.95442621739403,
          9.115583293078998,
          9.277311066494804,
          9.439592168978379,
          9.602408939401357,
          9.765743413833661,
          9.929577319841883,
          10.093892063899148,
          10.258668726940414,
          10.423888063707636,
          10.589530486504373,
          10.75557607004066,
          10.922004542547256,
          11.088795288031179,
          11.255927337196226,
          11.423379373341959,
          11.591129727325097,
          11.759156379614979,
          11.927436960228079,
          12.095948752437835,
          12.264668694365355,
          12.433573380706548,
          12.602639071404155,
          12.77184168907479,
          12.941156833714558,
          13.110559780380754,
          13.280025494967049,
          13.449528632540023,
          13.619043551666437,
          13.788544325467228,
          13.958004743086349,
          14.127398332746452,
          14.296698359566108,
          14.465877848157106,
          14.634909588990013,
          14.803766155750964,
          14.972419914162856,
          15.140843043454879,
          15.309007545110035,
          15.476885262618453,
          15.644447895652775,
          15.811667017705076,
          15.978514097288098,
          16.144960506950156,
          16.31097755310202,
          16.476536483829477,
          16.641608517531495,
          16.806164860940044,
          16.97017672383936,
          17.133615348351668,
          17.296452022328594,
          17.458658108510463,
          17.620205059640284,
          17.78106444576042,
          17.941207976486112,
          18.10060751916444,
          18.25923512737063,
          18.417063061981935,
          18.57406381305009,
          18.73021012922345,
          18.88547503193604,
          19.039831850920564,
          19.193254238796726,
          19.34571619691451,
          19.497192103585803,
          19.647656731582174,
          19.797085279414205,
          19.94545338710941,
          20.092737164835853,
          20.23891321450901,
          20.383958652725596,
          20.527851135282617,
          20.67056887560102,
          20.812090671763144,
          20.95239592428061,
          21.091464663523766,
          21.229277561125855,
          21.365815960732107,
          21.501061888603545,
          21.63499808396864,
          21.76760800486136,
          21.898875861645138,
          22.028786617553124,
          22.157326022218513,
          22.28448062015468,
          22.41023776149632,
          22.53458562771175,
          22.657513242073037,
          22.779010480259785,
          22.8990680821571,
          23.017677671474303,
          23.13483175719466,
          23.25052375492851,
          23.36474798332256,
          23.477499685403927,
          23.588775025802533,
          23.698571102007918,
          23.80688595709944,
          23.913718569406228,
          24.019068868281465,
          24.122937737150096,
          24.225327010060028,
          24.326239477254603,
          24.425678881854765,
          24.52364992436469,
          24.62015826055722,
          24.715210492716324,
          24.808814177601562,
          24.900977811856137,
          24.991710835725826,
          25.08102362086356,
          25.168927471122515,
          25.25543460850713,
          25.34055816628097,
          25.424312186979478,
          25.506711605439705,
          25.587772241917264,
          25.667510791071436,
          25.745944814423638,
          25.823092716223073,
          25.898973750877303,
          25.9736079910017,
          26.047016321461342,
          26.119220429027337,
          26.190242782231508,
          26.26010661917462,
          26.32883593294173,
          26.396455451721522,
          26.462990631386674,
          26.52846763083653,
          26.592913301526096,
          26.656355164805063,
          26.718821408863732,
          26.78034085254876,
          26.840942945765164,
          26.90065774521463,
          26.959515897298843,
          27.017548626459757,
          27.074787713698242,
          27.13126548319633,
          27.187014785474275,
          27.242068986796767,
          27.296461944776638,
          27.350227994990746,
          27.403401950317857,
          27.45601906262982,
          27.508115035254377,
          27.55972598466542,
          27.61088845149061,
          27.661639368294345,
          27.71201606475188,
          27.76205624339582,
          27.811797978148206,
          27.861279700549858,
          27.910540197626688,
          27.959618593340565,
          28.00855435309404,
          28.057387272197047,
          28.10615746910935,
          28.15490538623544,
          28.203671784093785,
          28.25249773786436,
          28.301424641106678,
          28.35049420310861,
          28.399748446761805,
          28.449229718106835,
          28.49898068447692,
          28.549044346033043,
          28.599464028998227,
          28.65028341217021,
          28.701546517116185,
          28.75329772884197,
          28.80558180746266,
          28.858443898274345,
          28.911929547925865,
          28.966084719459104,
          29.02095581371941,
          29.07658968393571,
          29.133033661431,
          29.190335573119228,
          29.248543773653182,
          29.307707166029104,
          29.36787523611929,
          29.42909807142314,
          29.491426412036162,
          29.554911662908125,
          29.61960595130313,
          29.685562155028492,
          29.752833941874997,
          29.821475815334452,
          29.89154316855911,
          29.963092325042453,
          30.036180585215334,
          30.110866292719948,
          30.18720888059579,
          30.26526893935079,
          30.345108267987598,
          30.426789955187814,
          30.510378439951637,
          30.595939581787206,
          30.683540742684272,
          30.773250869294316,
          30.865140562850684,
          30.959282188520774,
          31.055749951617145,
          31.154619999329043,
          31.25597052483772,
          31.35988186911254,
          31.466436639738276,
          31.575719828020738,
          31.6878189138979,
          31.80282402353805,
          31.92082804286474,
          32.041926770385544,
          32.16621906643468,
          32.29380699885132,
          32.424796020316535,
          32.559295131725776,
          32.697417069999574,
          32.8392784930611,
          32.98500018501181,
          33.13470725919615,
          33.28852938465843,
          33.44660102373109,
          33.609061659086365,
          33.7760560716888,
          33.947734596480586,
          34.124253416894135,
          34.30577486679704,
          34.492467730710814
         ],
         "yaxis": "y"
        }
       ],
       "layout": {
        "autosize": true,
        "legend": {
         "title": {
          "text": "variable"
         },
         "tracegroupgap": 0
        },
        "margin": {
         "t": 60
        },
        "template": {
         "data": {
          "bar": [
           {
            "error_x": {
             "color": "#2a3f5f"
            },
            "error_y": {
             "color": "#2a3f5f"
            },
            "marker": {
             "line": {
              "color": "#E5ECF6",
              "width": 0.5
             },
             "pattern": {
              "fillmode": "overlay",
              "size": 10,
              "solidity": 0.2
             }
            },
            "type": "bar"
           }
          ],
          "barpolar": [
           {
            "marker": {
             "line": {
              "color": "#E5ECF6",
              "width": 0.5
             },
             "pattern": {
              "fillmode": "overlay",
              "size": 10,
              "solidity": 0.2
             }
            },
            "type": "barpolar"
           }
          ],
          "carpet": [
           {
            "aaxis": {
             "endlinecolor": "#2a3f5f",
             "gridcolor": "white",
             "linecolor": "white",
             "minorgridcolor": "white",
             "startlinecolor": "#2a3f5f"
            },
            "baxis": {
             "endlinecolor": "#2a3f5f",
             "gridcolor": "white",
             "linecolor": "white",
             "minorgridcolor": "white",
             "startlinecolor": "#2a3f5f"
            },
            "type": "carpet"
           }
          ],
          "choropleth": [
           {
            "colorbar": {
             "outlinewidth": 0,
             "ticks": ""
            },
            "type": "choropleth"
           }
          ],
          "contour": [
           {
            "colorbar": {
             "outlinewidth": 0,
             "ticks": ""
            },
            "colorscale": [
             [
              0,
              "#0d0887"
             ],
             [
              0.1111111111111111,
              "#46039f"
             ],
             [
              0.2222222222222222,
              "#7201a8"
             ],
             [
              0.3333333333333333,
              "#9c179e"
             ],
             [
              0.4444444444444444,
              "#bd3786"
             ],
             [
              0.5555555555555556,
              "#d8576b"
             ],
             [
              0.6666666666666666,
              "#ed7953"
             ],
             [
              0.7777777777777778,
              "#fb9f3a"
             ],
             [
              0.8888888888888888,
              "#fdca26"
             ],
             [
              1,
              "#f0f921"
             ]
            ],
            "type": "contour"
           }
          ],
          "contourcarpet": [
           {
            "colorbar": {
             "outlinewidth": 0,
             "ticks": ""
            },
            "type": "contourcarpet"
           }
          ],
          "heatmap": [
           {
            "colorbar": {
             "outlinewidth": 0,
             "ticks": ""
            },
            "colorscale": [
             [
              0,
              "#0d0887"
             ],
             [
              0.1111111111111111,
              "#46039f"
             ],
             [
              0.2222222222222222,
              "#7201a8"
             ],
             [
              0.3333333333333333,
              "#9c179e"
             ],
             [
              0.4444444444444444,
              "#bd3786"
             ],
             [
              0.5555555555555556,
              "#d8576b"
             ],
             [
              0.6666666666666666,
              "#ed7953"
             ],
             [
              0.7777777777777778,
              "#fb9f3a"
             ],
             [
              0.8888888888888888,
              "#fdca26"
             ],
             [
              1,
              "#f0f921"
             ]
            ],
            "type": "heatmap"
           }
          ],
          "heatmapgl": [
           {
            "colorbar": {
             "outlinewidth": 0,
             "ticks": ""
            },
            "colorscale": [
             [
              0,
              "#0d0887"
             ],
             [
              0.1111111111111111,
              "#46039f"
             ],
             [
              0.2222222222222222,
              "#7201a8"
             ],
             [
              0.3333333333333333,
              "#9c179e"
             ],
             [
              0.4444444444444444,
              "#bd3786"
             ],
             [
              0.5555555555555556,
              "#d8576b"
             ],
             [
              0.6666666666666666,
              "#ed7953"
             ],
             [
              0.7777777777777778,
              "#fb9f3a"
             ],
             [
              0.8888888888888888,
              "#fdca26"
             ],
             [
              1,
              "#f0f921"
             ]
            ],
            "type": "heatmapgl"
           }
          ],
          "histogram": [
           {
            "marker": {
             "pattern": {
              "fillmode": "overlay",
              "size": 10,
              "solidity": 0.2
             }
            },
            "type": "histogram"
           }
          ],
          "histogram2d": [
           {
            "colorbar": {
             "outlinewidth": 0,
             "ticks": ""
            },
            "colorscale": [
             [
              0,
              "#0d0887"
             ],
             [
              0.1111111111111111,
              "#46039f"
             ],
             [
              0.2222222222222222,
              "#7201a8"
             ],
             [
              0.3333333333333333,
              "#9c179e"
             ],
             [
              0.4444444444444444,
              "#bd3786"
             ],
             [
              0.5555555555555556,
              "#d8576b"
             ],
             [
              0.6666666666666666,
              "#ed7953"
             ],
             [
              0.7777777777777778,
              "#fb9f3a"
             ],
             [
              0.8888888888888888,
              "#fdca26"
             ],
             [
              1,
              "#f0f921"
             ]
            ],
            "type": "histogram2d"
           }
          ],
          "histogram2dcontour": [
           {
            "colorbar": {
             "outlinewidth": 0,
             "ticks": ""
            },
            "colorscale": [
             [
              0,
              "#0d0887"
             ],
             [
              0.1111111111111111,
              "#46039f"
             ],
             [
              0.2222222222222222,
              "#7201a8"
             ],
             [
              0.3333333333333333,
              "#9c179e"
             ],
             [
              0.4444444444444444,
              "#bd3786"
             ],
             [
              0.5555555555555556,
              "#d8576b"
             ],
             [
              0.6666666666666666,
              "#ed7953"
             ],
             [
              0.7777777777777778,
              "#fb9f3a"
             ],
             [
              0.8888888888888888,
              "#fdca26"
             ],
             [
              1,
              "#f0f921"
             ]
            ],
            "type": "histogram2dcontour"
           }
          ],
          "mesh3d": [
           {
            "colorbar": {
             "outlinewidth": 0,
             "ticks": ""
            },
            "type": "mesh3d"
           }
          ],
          "parcoords": [
           {
            "line": {
             "colorbar": {
              "outlinewidth": 0,
              "ticks": ""
             }
            },
            "type": "parcoords"
           }
          ],
          "pie": [
           {
            "automargin": true,
            "type": "pie"
           }
          ],
          "scatter": [
           {
            "fillpattern": {
             "fillmode": "overlay",
             "size": 10,
             "solidity": 0.2
            },
            "type": "scatter"
           }
          ],
          "scatter3d": [
           {
            "line": {
             "colorbar": {
              "outlinewidth": 0,
              "ticks": ""
             }
            },
            "marker": {
             "colorbar": {
              "outlinewidth": 0,
              "ticks": ""
             }
            },
            "type": "scatter3d"
           }
          ],
          "scattercarpet": [
           {
            "marker": {
             "colorbar": {
              "outlinewidth": 0,
              "ticks": ""
             }
            },
            "type": "scattercarpet"
           }
          ],
          "scattergeo": [
           {
            "marker": {
             "colorbar": {
              "outlinewidth": 0,
              "ticks": ""
             }
            },
            "type": "scattergeo"
           }
          ],
          "scattergl": [
           {
            "marker": {
             "colorbar": {
              "outlinewidth": 0,
              "ticks": ""
             }
            },
            "type": "scattergl"
           }
          ],
          "scattermapbox": [
           {
            "marker": {
             "colorbar": {
              "outlinewidth": 0,
              "ticks": ""
             }
            },
            "type": "scattermapbox"
           }
          ],
          "scatterpolar": [
           {
            "marker": {
             "colorbar": {
              "outlinewidth": 0,
              "ticks": ""
             }
            },
            "type": "scatterpolar"
           }
          ],
          "scatterpolargl": [
           {
            "marker": {
             "colorbar": {
              "outlinewidth": 0,
              "ticks": ""
             }
            },
            "type": "scatterpolargl"
           }
          ],
          "scatterternary": [
           {
            "marker": {
             "colorbar": {
              "outlinewidth": 0,
              "ticks": ""
             }
            },
            "type": "scatterternary"
           }
          ],
          "surface": [
           {
            "colorbar": {
             "outlinewidth": 0,
             "ticks": ""
            },
            "colorscale": [
             [
              0,
              "#0d0887"
             ],
             [
              0.1111111111111111,
              "#46039f"
             ],
             [
              0.2222222222222222,
              "#7201a8"
             ],
             [
              0.3333333333333333,
              "#9c179e"
             ],
             [
              0.4444444444444444,
              "#bd3786"
             ],
             [
              0.5555555555555556,
              "#d8576b"
             ],
             [
              0.6666666666666666,
              "#ed7953"
             ],
             [
              0.7777777777777778,
              "#fb9f3a"
             ],
             [
              0.8888888888888888,
              "#fdca26"
             ],
             [
              1,
              "#f0f921"
             ]
            ],
            "type": "surface"
           }
          ],
          "table": [
           {
            "cells": {
             "fill": {
              "color": "#EBF0F8"
             },
             "line": {
              "color": "white"
             }
            },
            "header": {
             "fill": {
              "color": "#C8D4E3"
             },
             "line": {
              "color": "white"
             }
            },
            "type": "table"
           }
          ]
         },
         "layout": {
          "annotationdefaults": {
           "arrowcolor": "#2a3f5f",
           "arrowhead": 0,
           "arrowwidth": 1
          },
          "autotypenumbers": "strict",
          "coloraxis": {
           "colorbar": {
            "outlinewidth": 0,
            "ticks": ""
           }
          },
          "colorscale": {
           "diverging": [
            [
             0,
             "#8e0152"
            ],
            [
             0.1,
             "#c51b7d"
            ],
            [
             0.2,
             "#de77ae"
            ],
            [
             0.3,
             "#f1b6da"
            ],
            [
             0.4,
             "#fde0ef"
            ],
            [
             0.5,
             "#f7f7f7"
            ],
            [
             0.6,
             "#e6f5d0"
            ],
            [
             0.7,
             "#b8e186"
            ],
            [
             0.8,
             "#7fbc41"
            ],
            [
             0.9,
             "#4d9221"
            ],
            [
             1,
             "#276419"
            ]
           ],
           "sequential": [
            [
             0,
             "#0d0887"
            ],
            [
             0.1111111111111111,
             "#46039f"
            ],
            [
             0.2222222222222222,
             "#7201a8"
            ],
            [
             0.3333333333333333,
             "#9c179e"
            ],
            [
             0.4444444444444444,
             "#bd3786"
            ],
            [
             0.5555555555555556,
             "#d8576b"
            ],
            [
             0.6666666666666666,
             "#ed7953"
            ],
            [
             0.7777777777777778,
             "#fb9f3a"
            ],
            [
             0.8888888888888888,
             "#fdca26"
            ],
            [
             1,
             "#f0f921"
            ]
           ],
           "sequentialminus": [
            [
             0,
             "#0d0887"
            ],
            [
             0.1111111111111111,
             "#46039f"
            ],
            [
             0.2222222222222222,
             "#7201a8"
            ],
            [
             0.3333333333333333,
             "#9c179e"
            ],
            [
             0.4444444444444444,
             "#bd3786"
            ],
            [
             0.5555555555555556,
             "#d8576b"
            ],
            [
             0.6666666666666666,
             "#ed7953"
            ],
            [
             0.7777777777777778,
             "#fb9f3a"
            ],
            [
             0.8888888888888888,
             "#fdca26"
            ],
            [
             1,
             "#f0f921"
            ]
           ]
          },
          "colorway": [
           "#636efa",
           "#EF553B",
           "#00cc96",
           "#ab63fa",
           "#FFA15A",
           "#19d3f3",
           "#FF6692",
           "#B6E880",
           "#FF97FF",
           "#FECB52"
          ],
          "font": {
           "color": "#2a3f5f"
          },
          "geo": {
           "bgcolor": "white",
           "lakecolor": "white",
           "landcolor": "#E5ECF6",
           "showlakes": true,
           "showland": true,
           "subunitcolor": "white"
          },
          "hoverlabel": {
           "align": "left"
          },
          "hovermode": "closest",
          "mapbox": {
           "style": "light"
          },
          "paper_bgcolor": "white",
          "plot_bgcolor": "#E5ECF6",
          "polar": {
           "angularaxis": {
            "gridcolor": "white",
            "linecolor": "white",
            "ticks": ""
           },
           "bgcolor": "#E5ECF6",
           "radialaxis": {
            "gridcolor": "white",
            "linecolor": "white",
            "ticks": ""
           }
          },
          "scene": {
           "xaxis": {
            "backgroundcolor": "#E5ECF6",
            "gridcolor": "white",
            "gridwidth": 2,
            "linecolor": "white",
            "showbackground": true,
            "ticks": "",
            "zerolinecolor": "white"
           },
           "yaxis": {
            "backgroundcolor": "#E5ECF6",
            "gridcolor": "white",
            "gridwidth": 2,
            "linecolor": "white",
            "showbackground": true,
            "ticks": "",
            "zerolinecolor": "white"
           },
           "zaxis": {
            "backgroundcolor": "#E5ECF6",
            "gridcolor": "white",
            "gridwidth": 2,
            "linecolor": "white",
            "showbackground": true,
            "ticks": "",
            "zerolinecolor": "white"
           }
          },
          "shapedefaults": {
           "line": {
            "color": "#2a3f5f"
           }
          },
          "ternary": {
           "aaxis": {
            "gridcolor": "white",
            "linecolor": "white",
            "ticks": ""
           },
           "baxis": {
            "gridcolor": "white",
            "linecolor": "white",
            "ticks": ""
           },
           "bgcolor": "#E5ECF6",
           "caxis": {
            "gridcolor": "white",
            "linecolor": "white",
            "ticks": ""
           }
          },
          "title": {
           "x": 0.05
          },
          "xaxis": {
           "automargin": true,
           "gridcolor": "white",
           "linecolor": "white",
           "ticks": "",
           "title": {
            "standoff": 15
           },
           "zerolinecolor": "white",
           "zerolinewidth": 2
          },
          "yaxis": {
           "automargin": true,
           "gridcolor": "white",
           "linecolor": "white",
           "ticks": "",
           "title": {
            "standoff": 15
           },
           "zerolinecolor": "white",
           "zerolinewidth": 2
          }
         }
        },
        "xaxis": {
         "anchor": "y",
         "autorange": true,
         "domain": [
          0,
          1
         ],
         "range": [
          0.7999999999999999,
          3.9900000000000024
         ],
         "title": {
          "text": "x"
         },
         "type": "linear"
        },
        "yaxis": {
         "anchor": "x",
         "autorange": true,
         "domain": [
          0,
          1
         ],
         "range": [
          -1.916248207261712,
          36.408715937972524
         ],
         "title": {
          "text": "value"
         },
         "type": "linear"
        }
       }
      },
      "image/png": "[encoded data removed]",
      "text/html": [
       "<div>                            <div id=\"aa65872c-86f3-4fca-ab6a-72725a02c016\" class=\"plotly-graph-div\" style=\"height:525px; width:100%;\"></div>            <script type=\"text/javascript\">                require([\"plotly\"], function(Plotly) {                    window.PLOTLYENV=window.PLOTLYENV || {};                                    if (document.getElementById(\"aa65872c-86f3-4fca-ab6a-72725a02c016\")) {                    Plotly.newPlot(                        \"aa65872c-86f3-4fca-ab6a-72725a02c016\",                        [{\"hovertemplate\":\"variable=wide_variable_0<br>x=%{x}<br>value=%{y}<extra></extra>\",\"legendgroup\":\"wide_variable_0\",\"line\":{\"color\":\"#636efa\",\"dash\":\"solid\"},\"marker\":{\"symbol\":\"circle\"},\"mode\":\"lines\",\"name\":\"wide_variable_0\",\"orientation\":\"v\",\"showlegend\":true,\"x\":[0.7999999999999999,0.8100000000000002,0.82,0.8300000000000002,0.8400000000000002,0.8500000000000002,0.8600000000000002,0.8700000000000001,0.8800000000000002,0.8900000000000001,0.9000000000000001,0.9100000000000001,0.9200000000000002,0.9300000000000002,0.9400000000000003,0.9500000000000001,0.9600000000000001,0.9700000000000003,0.9800000000000002,0.99,1.0000000000000004,1.01,1.0200000000000002,1.0300000000000005,1.0400000000000003,1.0500000000000003,1.0600000000000003,1.0700000000000003,1.0800000000000005,1.0900000000000003,1.1000000000000003,1.1100000000000003,1.12,1.1300000000000003,1.1400000000000006,1.1500000000000001,1.1600000000000004,1.1700000000000004,1.1800000000000004,1.1900000000000004,1.2000000000000006,1.2100000000000002,1.2200000000000004,1.2300000000000002,1.2400000000000004,1.2500000000000004,1.2600000000000005,1.2700000000000005,1.2800000000000005,1.2900000000000007,1.3000000000000003,1.3100000000000005,1.3200000000000003,1.3300000000000005,1.3400000000000005,1.3500000000000005,1.3600000000000003,1.3700000000000006,1.3800000000000008,1.3900000000000003,1.4000000000000008,1.4100000000000004,1.4200000000000006,1.4300000000000006,1.4400000000000006,1.4500000000000008,1.4600000000000004,1.4700000000000006,1.4800000000000006,1.4900000000000009,1.5000000000000007,1.5100000000000007,1.5200000000000007,1.5300000000000007,1.540000000000001,1.5500000000000005,1.5600000000000007,1.5700000000000005,1.580000000000001,1.5900000000000005,1.6000000000000008,1.610000000000001,1.6200000000000008,1.630000000000001,1.640000000000001,1.6500000000000008,1.6600000000000008,1.670000000000001,1.6800000000000008,1.6900000000000008,1.7000000000000008,1.7100000000000006,1.7200000000000009,1.730000000000001,1.740000000000001,1.7500000000000007,1.7600000000000007,1.7700000000000011,1.7800000000000007,1.7900000000000011,1.8000000000000007,1.8100000000000014,1.8200000000000007,1.8300000000000012,1.840000000000001,1.8500000000000008,1.8600000000000012,1.8700000000000008,1.8800000000000006,1.8900000000000012,1.9000000000000008,1.9100000000000006,1.920000000000001,1.930000000000001,1.9400000000000008,1.9500000000000015,1.9600000000000009,1.9700000000000015,1.9800000000000009,1.9900000000000013,2.000000000000001,2.0100000000000016,2.020000000000001,2.030000000000001,2.0400000000000005,2.0500000000000016,2.060000000000001,2.0700000000000016,2.080000000000001,2.0900000000000016,2.100000000000001,2.1100000000000017,2.120000000000001,2.1300000000000012,2.1400000000000015,2.150000000000001,2.1600000000000015,2.170000000000001,2.1800000000000015,2.1900000000000013,2.200000000000001,2.2100000000000013,2.2200000000000015,2.2300000000000013,2.240000000000001,2.2500000000000018,2.260000000000001,2.2700000000000014,2.280000000000001,2.290000000000002,2.300000000000001,2.310000000000002,2.3200000000000016,2.3300000000000014,2.3400000000000016,2.350000000000001,2.3600000000000017,2.3700000000000014,2.3800000000000026,2.390000000000001,2.4000000000000017,2.4100000000000015,2.4200000000000013,2.430000000000002,2.440000000000001,2.4500000000000015,2.4600000000000013,2.470000000000001,2.480000000000002,2.490000000000001,2.5000000000000018,2.510000000000002,2.5200000000000014,2.530000000000001,2.5400000000000014,2.5500000000000016,2.5600000000000014,2.570000000000001,2.580000000000002,2.5900000000000016,2.600000000000002,2.6100000000000017,2.6200000000000014,2.630000000000002,2.6400000000000015,2.6500000000000017,2.660000000000002,2.6700000000000017,2.6800000000000015,2.6900000000000013,2.7000000000000024,2.7100000000000017,2.7200000000000015,2.7300000000000018,2.7400000000000015,2.7500000000000018,2.760000000000002,2.770000000000002,2.7800000000000016,2.790000000000002,2.8000000000000016,2.8100000000000014,2.820000000000002,2.830000000000002,2.8400000000000016,2.850000000000002,2.860000000000001,2.8700000000000023,2.8800000000000017,2.8900000000000015,2.9000000000000017,2.9100000000000024,2.9200000000000017,2.9300000000000015,2.940000000000002,2.950000000000002,2.960000000000002,2.9700000000000006,2.9800000000000026,2.990000000000002,3.0000000000000018,3.0100000000000016,3.0200000000000022,3.030000000000002,3.0400000000000014,3.0500000000000016,3.0600000000000023,3.0700000000000025,3.080000000000002,3.090000000000002,3.1000000000000023,3.1100000000000017,3.120000000000002,3.1300000000000017,3.1400000000000023,3.150000000000002,3.160000000000002,3.1700000000000017,3.1800000000000024,3.190000000000002,3.2000000000000015,3.2100000000000017,3.220000000000002,3.2300000000000026,3.2400000000000024,3.2500000000000018,3.260000000000002,3.2700000000000022,3.280000000000002,3.2900000000000014,3.3000000000000025,3.310000000000002,3.320000000000003,3.3300000000000014,3.340000000000002,3.350000000000002,3.3600000000000025,3.370000000000002,3.3800000000000026,3.3900000000000023,3.4000000000000017,3.410000000000002,3.4200000000000026,3.4300000000000024,3.440000000000002,3.450000000000002,3.4600000000000026,3.470000000000002,3.4800000000000026,3.4900000000000024,3.5000000000000018,3.5100000000000025,3.5200000000000022,3.530000000000002,3.5400000000000027,3.5500000000000025,3.5600000000000023,3.5700000000000016,3.5800000000000023,3.590000000000002,3.600000000000002,3.610000000000002,3.6200000000000028,3.6300000000000026,3.640000000000002,3.650000000000002,3.6600000000000024,3.6700000000000035,3.6800000000000015,3.6900000000000026,3.7000000000000037,3.710000000000002,3.720000000000003,3.7300000000000026,3.740000000000002,3.7500000000000027,3.760000000000003,3.770000000000002,3.7800000000000034,3.7900000000000027,3.800000000000003,3.8100000000000023,3.8200000000000025,3.830000000000003,3.840000000000003,3.8500000000000023,3.8600000000000025,3.870000000000003,3.880000000000002,3.8900000000000023,3.900000000000003,3.910000000000003,3.920000000000002,3.9300000000000024,3.9400000000000035,3.950000000000003,3.9600000000000035,3.9700000000000015,3.9800000000000026,3.9900000000000024],\"xaxis\":\"x\",\"y\":[0.6693153875312419,0.5447591390438902,0.43544049811316654,0.340392623693333,0.25872064342365775,0.18959961678319814,0.13227152926265262,0.08604087964522478,0.05026867087690334,0.0243649933981942,0.007780833633660222,0.0,0.0005321230428307899,0.008907423123673652,0.024673527045706578,0.04739415096173616,0.07664918869340909,0.11203562662740296,0.1531687853857875,0.19968354452157655,0.25123534583417495,0.3075008914238424,0.36817850547959097,0.4329881442881742,0.5016710781519578,0.5739892598721781,0.6497244318125013,0.7286770233449715,0.8106649114024549,0.8955220996494972,0.9830973788348274,1.0732530079831122,1.1658634504274232,1.2608141861273907,1.3580006105667053,1.4573270274977403,1.55870573519951,1.6620562014704774,1.7673043227277958,1.8743817666736504,1.983225381367447,2.0937766718334387,2.205981337407138,2.3197888587492344,2.43515212953389,2.5520271359182516,2.670372662087175,2.790150037886633,2.911322905142697,3.0338570127751154,3.15772003332404,3.2828813951773554,3.409312132326704,3.5369847496667717,3.665873097113945,3.7959522578639735,3.927198444511305,4.059588903115582,4.193101826753264,4.327716272869111,4.46341208726335,4.600169834867302,4.737970736058742,4.876796597966859,5.016629766917504,5.1574530647849315,5.299249743522523,5.442003436754021,5.5856981093002105,5.730318020438972,5.875847677905767,6.022271800251474,6.169575283605809,6.317743160952887,6.466760573040119,6.6166127345386485,6.767284904029111,6.918762357222477,7.071030358531061,7.2240741333616825,7.377878846951717,7.532429578541269,7.687711299847251,7.843708853882163,8.000406937325351,8.157790075409139,8.31584261376247,8.474548690184747,8.633892230395759,8.79385692458527,8.95442621739403,9.115583293078998,9.277311066494804,9.439592168978379,9.602408939401357,9.765743413833661,9.929577319841883,10.093892063899148,10.258668726940414,10.423888063707636,10.589530486504373,10.75557607004066,10.922004542547256,11.088795288031179,11.255927337196226,11.423379373341959,11.591129727325097,11.759156379614979,11.927436960228079,12.095948752437835,12.264668694365355,12.433573380706548,12.602639071404155,12.77184168907479,12.941156833714558,13.110559780380754,13.280025494967049,13.449528632540023,13.619043551666437,13.788544325467228,13.958004743086349,14.127398332746452,14.296698359566108,14.465877848157106,14.634909588990013,14.803766155750964,14.972419914162856,15.140843043454879,15.309007545110035,15.476885262618453,15.644447895652775,15.811667017705076,15.978514097288098,16.144960506950156,16.31097755310202,16.476536483829477,16.641608517531495,16.806164860940044,16.97017672383936,17.133615348351668,17.296452022328594,17.458658108510463,17.620205059640284,17.78106444576042,17.941207976486112,18.10060751916444,18.25923512737063,18.417063061981935,18.57406381305009,18.73021012922345,18.88547503193604,19.039831850920564,19.193254238796726,19.34571619691451,19.497192103585803,19.647656731582174,19.797085279414205,19.94545338710941,20.092737164835853,20.23891321450901,20.383958652725596,20.527851135282617,20.67056887560102,20.812090671763144,20.95239592428061,21.091464663523766,21.229277561125855,21.365815960732107,21.501061888603545,21.63499808396864,21.76760800486136,21.898875861645138,22.028786617553124,22.157326022218513,22.28448062015468,22.41023776149632,22.53458562771175,22.657513242073037,22.779010480259785,22.8990680821571,23.017677671474303,23.13483175719466,23.25052375492851,23.36474798332256,23.477499685403927,23.588775025802533,23.698571102007918,23.80688595709944,23.913718569406228,24.019068868281465,24.122937737150096,24.225327010060028,24.326239477254603,24.425678881854765,24.52364992436469,24.62015826055722,24.715210492716324,24.808814177601562,24.900977811856137,24.991710835725826,25.08102362086356,25.168927471122515,25.25543460850713,25.34055816628097,25.424312186979478,25.506711605439705,25.587772241917264,25.667510791071436,25.745944814423638,25.823092716223073,25.898973750877303,25.9736079910017,26.047016321461342,26.119220429027337,26.190242782231508,26.26010661917462,26.32883593294173,26.396455451721522,26.462990631386674,26.52846763083653,26.592913301526096,26.656355164805063,26.718821408863732,26.78034085254876,26.840942945765164,26.90065774521463,26.959515897298843,27.017548626459757,27.074787713698242,27.13126548319633,27.187014785474275,27.242068986796767,27.296461944776638,27.350227994990746,27.403401950317857,27.45601906262982,27.508115035254377,27.55972598466542,27.61088845149061,27.661639368294345,27.71201606475188,27.76205624339582,27.811797978148206,27.861279700549858,27.910540197626688,27.959618593340565,28.00855435309404,28.057387272197047,28.10615746910935,28.15490538623544,28.203671784093785,28.25249773786436,28.301424641106678,28.35049420310861,28.399748446761805,28.449229718106835,28.49898068447692,28.549044346033043,28.599464028998227,28.65028341217021,28.701546517116185,28.75329772884197,28.80558180746266,28.858443898274345,28.911929547925865,28.966084719459104,29.02095581371941,29.07658968393571,29.133033661431,29.190335573119228,29.248543773653182,29.307707166029104,29.36787523611929,29.42909807142314,29.491426412036162,29.554911662908125,29.61960595130313,29.685562155028492,29.752833941874997,29.821475815334452,29.89154316855911,29.963092325042453,30.036180585215334,30.110866292719948,30.18720888059579,30.26526893935079,30.345108267987598,30.426789955187814,30.510378439951637,30.595939581787206,30.683540742684272,30.773250869294316,30.865140562850684,30.959282188520774,31.055749951617145,31.154619999329043,31.25597052483772,31.35988186911254,31.466436639738276,31.575719828020738,31.6878189138979,31.80282402353805,31.92082804286474,32.041926770385544,32.16621906643468,32.29380699885132,32.424796020316535,32.559295131725776,32.697417069999574,32.8392784930611,32.98500018501181,33.13470725919615,33.28852938465843,33.44660102373109,33.609061659086365,33.7760560716888,33.947734596480586,34.124253416894135,34.30577486679704,34.492467730710814],\"yaxis\":\"y\",\"type\":\"scatter\"}],                        {\"template\":{\"data\":{\"histogram2dcontour\":[{\"type\":\"histogram2dcontour\",\"colorbar\":{\"outlinewidth\":0,\"ticks\":\"\"},\"colorscale\":[[0.0,\"#0d0887\"],[0.1111111111111111,\"#46039f\"],[0.2222222222222222,\"#7201a8\"],[0.3333333333333333,\"#9c179e\"],[0.4444444444444444,\"#bd3786\"],[0.5555555555555556,\"#d8576b\"],[0.6666666666666666,\"#ed7953\"],[0.7777777777777778,\"#fb9f3a\"],[0.8888888888888888,\"#fdca26\"],[1.0,\"#f0f921\"]]}],\"choropleth\":[{\"type\":\"choropleth\",\"colorbar\":{\"outlinewidth\":0,\"ticks\":\"\"}}],\"histogram2d\":[{\"type\":\"histogram2d\",\"colorbar\":{\"outlinewidth\":0,\"ticks\":\"\"},\"colorscale\":[[0.0,\"#0d0887\"],[0.1111111111111111,\"#46039f\"],[0.2222222222222222,\"#7201a8\"],[0.3333333333333333,\"#9c179e\"],[0.4444444444444444,\"#bd3786\"],[0.5555555555555556,\"#d8576b\"],[0.6666666666666666,\"#ed7953\"],[0.7777777777777778,\"#fb9f3a\"],[0.8888888888888888,\"#fdca26\"],[1.0,\"#f0f921\"]]}],\"heatmap\":[{\"type\":\"heatmap\",\"colorbar\":{\"outlinewidth\":0,\"ticks\":\"\"},\"colorscale\":[[0.0,\"#0d0887\"],[0.1111111111111111,\"#46039f\"],[0.2222222222222222,\"#7201a8\"],[0.3333333333333333,\"#9c179e\"],[0.4444444444444444,\"#bd3786\"],[0.5555555555555556,\"#d8576b\"],[0.6666666666666666,\"#ed7953\"],[0.7777777777777778,\"#fb9f3a\"],[0.8888888888888888,\"#fdca26\"],[1.0,\"#f0f921\"]]}],\"heatmapgl\":[{\"type\":\"heatmapgl\",\"colorbar\":{\"outlinewidth\":0,\"ticks\":\"\"},\"colorscale\":[[0.0,\"#0d0887\"],[0.1111111111111111,\"#46039f\"],[0.2222222222222222,\"#7201a8\"],[0.3333333333333333,\"#9c179e\"],[0.4444444444444444,\"#bd3786\"],[0.5555555555555556,\"#d8576b\"],[0.6666666666666666,\"#ed7953\"],[0.7777777777777778,\"#fb9f3a\"],[0.8888888888888888,\"#fdca26\"],[1.0,\"#f0f921\"]]}],\"contourcarpet\":[{\"type\":\"contourcarpet\",\"colorbar\":{\"outlinewidth\":0,\"ticks\":\"\"}}],\"contour\":[{\"type\":\"contour\",\"colorbar\":{\"outlinewidth\":0,\"ticks\":\"\"},\"colorscale\":[[0.0,\"#0d0887\"],[0.1111111111111111,\"#46039f\"],[0.2222222222222222,\"#7201a8\"],[0.3333333333333333,\"#9c179e\"],[0.4444444444444444,\"#bd3786\"],[0.5555555555555556,\"#d8576b\"],[0.6666666666666666,\"#ed7953\"],[0.7777777777777778,\"#fb9f3a\"],[0.8888888888888888,\"#fdca26\"],[1.0,\"#f0f921\"]]}],\"surface\":[{\"type\":\"surface\",\"colorbar\":{\"outlinewidth\":0,\"ticks\":\"\"},\"colorscale\":[[0.0,\"#0d0887\"],[0.1111111111111111,\"#46039f\"],[0.2222222222222222,\"#7201a8\"],[0.3333333333333333,\"#9c179e\"],[0.4444444444444444,\"#bd3786\"],[0.5555555555555556,\"#d8576b\"],[0.6666666666666666,\"#ed7953\"],[0.7777777777777778,\"#fb9f3a\"],[0.8888888888888888,\"#fdca26\"],[1.0,\"#f0f921\"]]}],\"mesh3d\":[{\"type\":\"mesh3d\",\"colorbar\":{\"outlinewidth\":0,\"ticks\":\"\"}}],\"scatter\":[{\"fillpattern\":{\"fillmode\":\"overlay\",\"size\":10,\"solidity\":0.2},\"type\":\"scatter\"}],\"parcoords\":[{\"type\":\"parcoords\",\"line\":{\"colorbar\":{\"outlinewidth\":0,\"ticks\":\"\"}}}],\"scatterpolargl\":[{\"type\":\"scatterpolargl\",\"marker\":{\"colorbar\":{\"outlinewidth\":0,\"ticks\":\"\"}}}],\"bar\":[{\"error_x\":{\"color\":\"#2a3f5f\"},\"error_y\":{\"color\":\"#2a3f5f\"},\"marker\":{\"line\":{\"color\":\"#E5ECF6\",\"width\":0.5},\"pattern\":{\"fillmode\":\"overlay\",\"size\":10,\"solidity\":0.2}},\"type\":\"bar\"}],\"scattergeo\":[{\"type\":\"scattergeo\",\"marker\":{\"colorbar\":{\"outlinewidth\":0,\"ticks\":\"\"}}}],\"scatterpolar\":[{\"type\":\"scatterpolar\",\"marker\":{\"colorbar\":{\"outlinewidth\":0,\"ticks\":\"\"}}}],\"histogram\":[{\"marker\":{\"pattern\":{\"fillmode\":\"overlay\",\"size\":10,\"solidity\":0.2}},\"type\":\"histogram\"}],\"scattergl\":[{\"type\":\"scattergl\",\"marker\":{\"colorbar\":{\"outlinewidth\":0,\"ticks\":\"\"}}}],\"scatter3d\":[{\"type\":\"scatter3d\",\"line\":{\"colorbar\":{\"outlinewidth\":0,\"ticks\":\"\"}},\"marker\":{\"colorbar\":{\"outlinewidth\":0,\"ticks\":\"\"}}}],\"scattermapbox\":[{\"type\":\"scattermapbox\",\"marker\":{\"colorbar\":{\"outlinewidth\":0,\"ticks\":\"\"}}}],\"scatterternary\":[{\"type\":\"scatterternary\",\"marker\":{\"colorbar\":{\"outlinewidth\":0,\"ticks\":\"\"}}}],\"scattercarpet\":[{\"type\":\"scattercarpet\",\"marker\":{\"colorbar\":{\"outlinewidth\":0,\"ticks\":\"\"}}}],\"carpet\":[{\"aaxis\":{\"endlinecolor\":\"#2a3f5f\",\"gridcolor\":\"white\",\"linecolor\":\"white\",\"minorgridcolor\":\"white\",\"startlinecolor\":\"#2a3f5f\"},\"baxis\":{\"endlinecolor\":\"#2a3f5f\",\"gridcolor\":\"white\",\"linecolor\":\"white\",\"minorgridcolor\":\"white\",\"startlinecolor\":\"#2a3f5f\"},\"type\":\"carpet\"}],\"table\":[{\"cells\":{\"fill\":{\"color\":\"#EBF0F8\"},\"line\":{\"color\":\"white\"}},\"header\":{\"fill\":{\"color\":\"#C8D4E3\"},\"line\":{\"color\":\"white\"}},\"type\":\"table\"}],\"barpolar\":[{\"marker\":{\"line\":{\"color\":\"#E5ECF6\",\"width\":0.5},\"pattern\":{\"fillmode\":\"overlay\",\"size\":10,\"solidity\":0.2}},\"type\":\"barpolar\"}],\"pie\":[{\"automargin\":true,\"type\":\"pie\"}]},\"layout\":{\"autotypenumbers\":\"strict\",\"colorway\":[\"#636efa\",\"#EF553B\",\"#00cc96\",\"#ab63fa\",\"#FFA15A\",\"#19d3f3\",\"#FF6692\",\"#B6E880\",\"#FF97FF\",\"#FECB52\"],\"font\":{\"color\":\"#2a3f5f\"},\"hovermode\":\"closest\",\"hoverlabel\":{\"align\":\"left\"},\"paper_bgcolor\":\"white\",\"plot_bgcolor\":\"#E5ECF6\",\"polar\":{\"bgcolor\":\"#E5ECF6\",\"angularaxis\":{\"gridcolor\":\"white\",\"linecolor\":\"white\",\"ticks\":\"\"},\"radialaxis\":{\"gridcolor\":\"white\",\"linecolor\":\"white\",\"ticks\":\"\"}},\"ternary\":{\"bgcolor\":\"#E5ECF6\",\"aaxis\":{\"gridcolor\":\"white\",\"linecolor\":\"white\",\"ticks\":\"\"},\"baxis\":{\"gridcolor\":\"white\",\"linecolor\":\"white\",\"ticks\":\"\"},\"caxis\":{\"gridcolor\":\"white\",\"linecolor\":\"white\",\"ticks\":\"\"}},\"coloraxis\":{\"colorbar\":{\"outlinewidth\":0,\"ticks\":\"\"}},\"colorscale\":{\"sequential\":[[0.0,\"#0d0887\"],[0.1111111111111111,\"#46039f\"],[0.2222222222222222,\"#7201a8\"],[0.3333333333333333,\"#9c179e\"],[0.4444444444444444,\"#bd3786\"],[0.5555555555555556,\"#d8576b\"],[0.6666666666666666,\"#ed7953\"],[0.7777777777777778,\"#fb9f3a\"],[0.8888888888888888,\"#fdca26\"],[1.0,\"#f0f921\"]],\"sequentialminus\":[[0.0,\"#0d0887\"],[0.1111111111111111,\"#46039f\"],[0.2222222222222222,\"#7201a8\"],[0.3333333333333333,\"#9c179e\"],[0.4444444444444444,\"#bd3786\"],[0.5555555555555556,\"#d8576b\"],[0.6666666666666666,\"#ed7953\"],[0.7777777777777778,\"#fb9f3a\"],[0.8888888888888888,\"#fdca26\"],[1.0,\"#f0f921\"]],\"diverging\":[[0,\"#8e0152\"],[0.1,\"#c51b7d\"],[0.2,\"#de77ae\"],[0.3,\"#f1b6da\"],[0.4,\"#fde0ef\"],[0.5,\"#f7f7f7\"],[0.6,\"#e6f5d0\"],[0.7,\"#b8e186\"],[0.8,\"#7fbc41\"],[0.9,\"#4d9221\"],[1,\"#276419\"]]},\"xaxis\":{\"gridcolor\":\"white\",\"linecolor\":\"white\",\"ticks\":\"\",\"title\":{\"standoff\":15},\"zerolinecolor\":\"white\",\"automargin\":true,\"zerolinewidth\":2},\"yaxis\":{\"gridcolor\":\"white\",\"linecolor\":\"white\",\"ticks\":\"\",\"title\":{\"standoff\":15},\"zerolinecolor\":\"white\",\"automargin\":true,\"zerolinewidth\":2},\"scene\":{\"xaxis\":{\"backgroundcolor\":\"#E5ECF6\",\"gridcolor\":\"white\",\"linecolor\":\"white\",\"showbackground\":true,\"ticks\":\"\",\"zerolinecolor\":\"white\",\"gridwidth\":2},\"yaxis\":{\"backgroundcolor\":\"#E5ECF6\",\"gridcolor\":\"white\",\"linecolor\":\"white\",\"showbackground\":true,\"ticks\":\"\",\"zerolinecolor\":\"white\",\"gridwidth\":2},\"zaxis\":{\"backgroundcolor\":\"#E5ECF6\",\"gridcolor\":\"white\",\"linecolor\":\"white\",\"showbackground\":true,\"ticks\":\"\",\"zerolinecolor\":\"white\",\"gridwidth\":2}},\"shapedefaults\":{\"line\":{\"color\":\"#2a3f5f\"}},\"annotationdefaults\":{\"arrowcolor\":\"#2a3f5f\",\"arrowhead\":0,\"arrowwidth\":1},\"geo\":{\"bgcolor\":\"white\",\"landcolor\":\"#E5ECF6\",\"subunitcolor\":\"white\",\"showland\":true,\"showlakes\":true,\"lakecolor\":\"white\"},\"title\":{\"x\":0.05},\"mapbox\":{\"style\":\"light\"}}},\"xaxis\":{\"anchor\":\"y\",\"domain\":[0.0,1.0],\"title\":{\"text\":\"x\"}},\"yaxis\":{\"anchor\":\"x\",\"domain\":[0.0,1.0],\"title\":{\"text\":\"value\"}},\"legend\":{\"title\":{\"text\":\"variable\"},\"tracegroupgap\":0},\"margin\":{\"t\":60}},                        {\"responsive\": true}                    ).then(function(){\n",
       "                            \n",
       "var gd = document.getElementById('aa65872c-86f3-4fca-ab6a-72725a02c016');\n",
       "var x = new MutationObserver(function (mutations, observer) {{\n",
       "        var display = window.getComputedStyle(gd).display;\n",
       "        if (!display || display === 'none') {{\n",
       "            console.log([gd, 'removed!']);\n",
       "            Plotly.purge(gd);\n",
       "            observer.disconnect();\n",
       "        }}\n",
       "}});\n",
       "\n",
       "// Listen for the removal of the full notebook cells\n",
       "var notebookContainer = gd.closest('#notebook-container');\n",
       "if (notebookContainer) {{\n",
       "    x.observe(notebookContainer, {childList: true});\n",
       "}}\n",
       "\n",
       "// Listen for the clearing of the current output cell\n",
       "var outputEl = gd.closest('.output');\n",
       "if (outputEl) {{\n",
       "    x.observe(outputEl, {childList: true});\n",
       "}}\n",
       "\n",
       "                        })                };                });            </script>        </div>"
      ]
     },
     "metadata": {},
     "output_type": "display_data"
    }
   ],
   "source": [
    "import plotly.express as px\n",
    "\n",
    "fig = px.line(x=dist, y=[en])\n",
    "\n",
    "fig.show()"
   ]
  },
  {
   "cell_type": "code",
   "execution_count": 111,
   "id": "e9ed16c8-c6af-4aa2-9bff-4d72287e1f17",
   "metadata": {},
   "outputs": [
    {
     "data": {
      "text/plain": [
       "1.509794181492236"
      ]
     },
     "execution_count": 111,
     "metadata": {},
     "output_type": "execute_result"
    }
   ],
   "source": [
    "mol.get_angle(1,2,8)"
   ]
  },
  {
   "cell_type": "code",
   "execution_count": 84,
   "id": "aa5f0e45-c4b2-4754-b031-ac782c56d944",
   "metadata": {},
   "outputs": [],
   "source": [
    "mol.set_angle(1,2,8, 20)\n",
    "mol.set_distance(2,8, 0.97) # O-H distance"
   ]
  },
  {
   "cell_type": "code",
   "execution_count": 94,
   "id": "a975be0a-d895-4079-ab27-d4fbc1ee9fa8",
   "metadata": {},
   "outputs": [],
   "source": [
    "ena = np.array([])\n",
    "ang = np.array([])\n",
    "for a in np.arange(100,180,1):\n",
    "    mol.set_angle(1,2,8,a) # O-H distance\n",
    "    ang = np.append(ang,mol.get_angle(1,2,8))\n",
    "    ena = np.append(ena,mol.get_potential_energy())"
   ]
  },
  {
   "cell_type": "code",
   "execution_count": 95,
   "id": "1707cc5e-7f31-4d34-863d-df82308a9f3f",
   "metadata": {},
   "outputs": [],
   "source": [
    "ena = ena - min(ena) # Remove minimum energy offset"
   ]
  },
  {
   "cell_type": "code",
   "execution_count": 96,
   "id": "470c2365-ac39-4102-96e1-2da564a3fe0e",
   "metadata": {},
   "outputs": [
    {
     "data": {
      "application/vnd.plotly.v1+json": {
       "config": {
        "plotlyServerURL": "https://plot.ly"
       },
       "data": [
        {
         "hovertemplate": "variable=wide_variable_0<br>x=%{x}<br>value=%{y}<extra></extra>",
         "legendgroup": "wide_variable_0",
         "line": {
          "color": "#636efa",
          "dash": "solid"
         },
         "marker": {
          "symbol": "circle"
         },
         "mode": "lines",
         "name": "wide_variable_0",
         "orientation": "v",
         "showlegend": true,
         "type": "scatter",
         "x": [
          100.00000000000045,
          101,
          102,
          103.00000000000001,
          104,
          105,
          106,
          107,
          108,
          108.99999999999999,
          110,
          111,
          112,
          113,
          114.00000000000001,
          115,
          115.99999999999999,
          117.00000000000003,
          117.99999999999999,
          119,
          119.99999999999999,
          121,
          122.00000000000001,
          123.00000000000001,
          124,
          124.99999999999999,
          126,
          126.99999999999999,
          128,
          129,
          130,
          131,
          132,
          133,
          134,
          135,
          136,
          137,
          138.00000000000003,
          138.99999999999997,
          140,
          140.99999999999997,
          142.00000000000003,
          142.99999999999997,
          144.00000000000003,
          145,
          146,
          147,
          147.99999999999997,
          149.00000000000006,
          149.99999999999997,
          151,
          151.99999999999997,
          153.00000000000003,
          154,
          154.99999999999997,
          156.00000000000003,
          156.99999999999997,
          158.00000000000003,
          158.99999999999997,
          160.00000000000003,
          160.99999999999997,
          162.00000000000003,
          162.99999999999997,
          163.99999999999997,
          165.00000000000003,
          166.00000000000003,
          167,
          167.99999999999997,
          169.00000000000006,
          169.99999999999997,
          171.00000000000003,
          172,
          172.99999999999991,
          174.00000000000003,
          175,
          175.99999999999997,
          176.99999999999994,
          178.00000000000006,
          179.0000000000001
         ],
         "xaxis": "x",
         "y": [
          3.1428264728037902,
          3.0461178375062445,
          2.9517101371920944,
          2.8593117472391896,
          2.7686791169408025,
          2.6796108009257296,
          2.5919422556398786,
          2.5055413019999833,
          2.4203041452847174,
          2.3361519082400264,
          2.2530275565222837,
          2.170893212505689,
          2.0897277580470472,
          2.009524720884656,
          1.9302903630605215,
          1.8520419747683263,
          1.7748063304561583,
          1.6986182708351407,
          1.6235194230139314,
          1.54955700174105,
          1.4767827143050454,
          1.405251725078415,
          1.3350217149691161,
          1.2661519806279102,
          1.1987026052393048,
          1.132733684181403,
          1.0683046027788805,
          1.0054733751621825,
          0.9442960366686748,
          0.8848260895347266,
          0.8271140160532013,
          0.7712068463351898,
          0.717147796854988,
          0.6649759621495832,
          0.6147260848465521,
          0.5664283877304115,
          0.5201084720747531,
          0.47578728331882303,
          0.4334811378366794,
          0.3932018145287657,
          0.3549566920082725,
          0.31874894212069194,
          0.28457775593233237,
          0.2524386065051658,
          0.2223235309638767,
          0.19422142208441073,
          0.16811832388793846,
          0.14399772415981715,
          0.12184082213752845,
          0.10162678113647416,
          0.08333294997464691,
          0.06693505152179569,
          0.05240733631126204,
          0.03972270118265442,
          0.028852770722551213,
          0.01976795058544667,
          0.012437444257557217,
          0.006829255315096816,
          0.002910160183091648,
          0.0006456728087869124,
          0,
          0.0009359916148241609,
          0.0034150954152210033,
          0.007397315432172036,
          0.012841184440731013,
          0.019703744881553575,
          0.02794055002868845,
          0.03750567622137169,
          0.04835175911557599,
          0.060430042162806785,
          0.07369044405822933,
          0.08808164212950942,
          0.10355116812115739,
          0.12004551827249088,
          0.13751027149828587,
          0.15589021859159402,
          0.1751294947343922,
          0.19517171744973894,
          0.2159601260373165,
          0.23743772074703884
         ],
         "yaxis": "y"
        }
       ],
       "layout": {
        "autosize": true,
        "legend": {
         "title": {
          "text": "variable"
         },
         "tracegroupgap": 0
        },
        "margin": {
         "t": 60
        },
        "template": {
         "data": {
          "bar": [
           {
            "error_x": {
             "color": "#2a3f5f"
            },
            "error_y": {
             "color": "#2a3f5f"
            },
            "marker": {
             "line": {
              "color": "#E5ECF6",
              "width": 0.5
             },
             "pattern": {
              "fillmode": "overlay",
              "size": 10,
              "solidity": 0.2
             }
            },
            "type": "bar"
           }
          ],
          "barpolar": [
           {
            "marker": {
             "line": {
              "color": "#E5ECF6",
              "width": 0.5
             },
             "pattern": {
              "fillmode": "overlay",
              "size": 10,
              "solidity": 0.2
             }
            },
            "type": "barpolar"
           }
          ],
          "carpet": [
           {
            "aaxis": {
             "endlinecolor": "#2a3f5f",
             "gridcolor": "white",
             "linecolor": "white",
             "minorgridcolor": "white",
             "startlinecolor": "#2a3f5f"
            },
            "baxis": {
             "endlinecolor": "#2a3f5f",
             "gridcolor": "white",
             "linecolor": "white",
             "minorgridcolor": "white",
             "startlinecolor": "#2a3f5f"
            },
            "type": "carpet"
           }
          ],
          "choropleth": [
           {
            "colorbar": {
             "outlinewidth": 0,
             "ticks": ""
            },
            "type": "choropleth"
           }
          ],
          "contour": [
           {
            "colorbar": {
             "outlinewidth": 0,
             "ticks": ""
            },
            "colorscale": [
             [
              0,
              "#0d0887"
             ],
             [
              0.1111111111111111,
              "#46039f"
             ],
             [
              0.2222222222222222,
              "#7201a8"
             ],
             [
              0.3333333333333333,
              "#9c179e"
             ],
             [
              0.4444444444444444,
              "#bd3786"
             ],
             [
              0.5555555555555556,
              "#d8576b"
             ],
             [
              0.6666666666666666,
              "#ed7953"
             ],
             [
              0.7777777777777778,
              "#fb9f3a"
             ],
             [
              0.8888888888888888,
              "#fdca26"
             ],
             [
              1,
              "#f0f921"
             ]
            ],
            "type": "contour"
           }
          ],
          "contourcarpet": [
           {
            "colorbar": {
             "outlinewidth": 0,
             "ticks": ""
            },
            "type": "contourcarpet"
           }
          ],
          "heatmap": [
           {
            "colorbar": {
             "outlinewidth": 0,
             "ticks": ""
            },
            "colorscale": [
             [
              0,
              "#0d0887"
             ],
             [
              0.1111111111111111,
              "#46039f"
             ],
             [
              0.2222222222222222,
              "#7201a8"
             ],
             [
              0.3333333333333333,
              "#9c179e"
             ],
             [
              0.4444444444444444,
              "#bd3786"
             ],
             [
              0.5555555555555556,
              "#d8576b"
             ],
             [
              0.6666666666666666,
              "#ed7953"
             ],
             [
              0.7777777777777778,
              "#fb9f3a"
             ],
             [
              0.8888888888888888,
              "#fdca26"
             ],
             [
              1,
              "#f0f921"
             ]
            ],
            "type": "heatmap"
           }
          ],
          "heatmapgl": [
           {
            "colorbar": {
             "outlinewidth": 0,
             "ticks": ""
            },
            "colorscale": [
             [
              0,
              "#0d0887"
             ],
             [
              0.1111111111111111,
              "#46039f"
             ],
             [
              0.2222222222222222,
              "#7201a8"
             ],
             [
              0.3333333333333333,
              "#9c179e"
             ],
             [
              0.4444444444444444,
              "#bd3786"
             ],
             [
              0.5555555555555556,
              "#d8576b"
             ],
             [
              0.6666666666666666,
              "#ed7953"
             ],
             [
              0.7777777777777778,
              "#fb9f3a"
             ],
             [
              0.8888888888888888,
              "#fdca26"
             ],
             [
              1,
              "#f0f921"
             ]
            ],
            "type": "heatmapgl"
           }
          ],
          "histogram": [
           {
            "marker": {
             "pattern": {
              "fillmode": "overlay",
              "size": 10,
              "solidity": 0.2
             }
            },
            "type": "histogram"
           }
          ],
          "histogram2d": [
           {
            "colorbar": {
             "outlinewidth": 0,
             "ticks": ""
            },
            "colorscale": [
             [
              0,
              "#0d0887"
             ],
             [
              0.1111111111111111,
              "#46039f"
             ],
             [
              0.2222222222222222,
              "#7201a8"
             ],
             [
              0.3333333333333333,
              "#9c179e"
             ],
             [
              0.4444444444444444,
              "#bd3786"
             ],
             [
              0.5555555555555556,
              "#d8576b"
             ],
             [
              0.6666666666666666,
              "#ed7953"
             ],
             [
              0.7777777777777778,
              "#fb9f3a"
             ],
             [
              0.8888888888888888,
              "#fdca26"
             ],
             [
              1,
              "#f0f921"
             ]
            ],
            "type": "histogram2d"
           }
          ],
          "histogram2dcontour": [
           {
            "colorbar": {
             "outlinewidth": 0,
             "ticks": ""
            },
            "colorscale": [
             [
              0,
              "#0d0887"
             ],
             [
              0.1111111111111111,
              "#46039f"
             ],
             [
              0.2222222222222222,
              "#7201a8"
             ],
             [
              0.3333333333333333,
              "#9c179e"
             ],
             [
              0.4444444444444444,
              "#bd3786"
             ],
             [
              0.5555555555555556,
              "#d8576b"
             ],
             [
              0.6666666666666666,
              "#ed7953"
             ],
             [
              0.7777777777777778,
              "#fb9f3a"
             ],
             [
              0.8888888888888888,
              "#fdca26"
             ],
             [
              1,
              "#f0f921"
             ]
            ],
            "type": "histogram2dcontour"
           }
          ],
          "mesh3d": [
           {
            "colorbar": {
             "outlinewidth": 0,
             "ticks": ""
            },
            "type": "mesh3d"
           }
          ],
          "parcoords": [
           {
            "line": {
             "colorbar": {
              "outlinewidth": 0,
              "ticks": ""
             }
            },
            "type": "parcoords"
           }
          ],
          "pie": [
           {
            "automargin": true,
            "type": "pie"
           }
          ],
          "scatter": [
           {
            "fillpattern": {
             "fillmode": "overlay",
             "size": 10,
             "solidity": 0.2
            },
            "type": "scatter"
           }
          ],
          "scatter3d": [
           {
            "line": {
             "colorbar": {
              "outlinewidth": 0,
              "ticks": ""
             }
            },
            "marker": {
             "colorbar": {
              "outlinewidth": 0,
              "ticks": ""
             }
            },
            "type": "scatter3d"
           }
          ],
          "scattercarpet": [
           {
            "marker": {
             "colorbar": {
              "outlinewidth": 0,
              "ticks": ""
             }
            },
            "type": "scattercarpet"
           }
          ],
          "scattergeo": [
           {
            "marker": {
             "colorbar": {
              "outlinewidth": 0,
              "ticks": ""
             }
            },
            "type": "scattergeo"
           }
          ],
          "scattergl": [
           {
            "marker": {
             "colorbar": {
              "outlinewidth": 0,
              "ticks": ""
             }
            },
            "type": "scattergl"
           }
          ],
          "scattermapbox": [
           {
            "marker": {
             "colorbar": {
              "outlinewidth": 0,
              "ticks": ""
             }
            },
            "type": "scattermapbox"
           }
          ],
          "scatterpolar": [
           {
            "marker": {
             "colorbar": {
              "outlinewidth": 0,
              "ticks": ""
             }
            },
            "type": "scatterpolar"
           }
          ],
          "scatterpolargl": [
           {
            "marker": {
             "colorbar": {
              "outlinewidth": 0,
              "ticks": ""
             }
            },
            "type": "scatterpolargl"
           }
          ],
          "scatterternary": [
           {
            "marker": {
             "colorbar": {
              "outlinewidth": 0,
              "ticks": ""
             }
            },
            "type": "scatterternary"
           }
          ],
          "surface": [
           {
            "colorbar": {
             "outlinewidth": 0,
             "ticks": ""
            },
            "colorscale": [
             [
              0,
              "#0d0887"
             ],
             [
              0.1111111111111111,
              "#46039f"
             ],
             [
              0.2222222222222222,
              "#7201a8"
             ],
             [
              0.3333333333333333,
              "#9c179e"
             ],
             [
              0.4444444444444444,
              "#bd3786"
             ],
             [
              0.5555555555555556,
              "#d8576b"
             ],
             [
              0.6666666666666666,
              "#ed7953"
             ],
             [
              0.7777777777777778,
              "#fb9f3a"
             ],
             [
              0.8888888888888888,
              "#fdca26"
             ],
             [
              1,
              "#f0f921"
             ]
            ],
            "type": "surface"
           }
          ],
          "table": [
           {
            "cells": {
             "fill": {
              "color": "#EBF0F8"
             },
             "line": {
              "color": "white"
             }
            },
            "header": {
             "fill": {
              "color": "#C8D4E3"
             },
             "line": {
              "color": "white"
             }
            },
            "type": "table"
           }
          ]
         },
         "layout": {
          "annotationdefaults": {
           "arrowcolor": "#2a3f5f",
           "arrowhead": 0,
           "arrowwidth": 1
          },
          "autotypenumbers": "strict",
          "coloraxis": {
           "colorbar": {
            "outlinewidth": 0,
            "ticks": ""
           }
          },
          "colorscale": {
           "diverging": [
            [
             0,
             "#8e0152"
            ],
            [
             0.1,
             "#c51b7d"
            ],
            [
             0.2,
             "#de77ae"
            ],
            [
             0.3,
             "#f1b6da"
            ],
            [
             0.4,
             "#fde0ef"
            ],
            [
             0.5,
             "#f7f7f7"
            ],
            [
             0.6,
             "#e6f5d0"
            ],
            [
             0.7,
             "#b8e186"
            ],
            [
             0.8,
             "#7fbc41"
            ],
            [
             0.9,
             "#4d9221"
            ],
            [
             1,
             "#276419"
            ]
           ],
           "sequential": [
            [
             0,
             "#0d0887"
            ],
            [
             0.1111111111111111,
             "#46039f"
            ],
            [
             0.2222222222222222,
             "#7201a8"
            ],
            [
             0.3333333333333333,
             "#9c179e"
            ],
            [
             0.4444444444444444,
             "#bd3786"
            ],
            [
             0.5555555555555556,
             "#d8576b"
            ],
            [
             0.6666666666666666,
             "#ed7953"
            ],
            [
             0.7777777777777778,
             "#fb9f3a"
            ],
            [
             0.8888888888888888,
             "#fdca26"
            ],
            [
             1,
             "#f0f921"
            ]
           ],
           "sequentialminus": [
            [
             0,
             "#0d0887"
            ],
            [
             0.1111111111111111,
             "#46039f"
            ],
            [
             0.2222222222222222,
             "#7201a8"
            ],
            [
             0.3333333333333333,
             "#9c179e"
            ],
            [
             0.4444444444444444,
             "#bd3786"
            ],
            [
             0.5555555555555556,
             "#d8576b"
            ],
            [
             0.6666666666666666,
             "#ed7953"
            ],
            [
             0.7777777777777778,
             "#fb9f3a"
            ],
            [
             0.8888888888888888,
             "#fdca26"
            ],
            [
             1,
             "#f0f921"
            ]
           ]
          },
          "colorway": [
           "#636efa",
           "#EF553B",
           "#00cc96",
           "#ab63fa",
           "#FFA15A",
           "#19d3f3",
           "#FF6692",
           "#B6E880",
           "#FF97FF",
           "#FECB52"
          ],
          "font": {
           "color": "#2a3f5f"
          },
          "geo": {
           "bgcolor": "white",
           "lakecolor": "white",
           "landcolor": "#E5ECF6",
           "showlakes": true,
           "showland": true,
           "subunitcolor": "white"
          },
          "hoverlabel": {
           "align": "left"
          },
          "hovermode": "closest",
          "mapbox": {
           "style": "light"
          },
          "paper_bgcolor": "white",
          "plot_bgcolor": "#E5ECF6",
          "polar": {
           "angularaxis": {
            "gridcolor": "white",
            "linecolor": "white",
            "ticks": ""
           },
           "bgcolor": "#E5ECF6",
           "radialaxis": {
            "gridcolor": "white",
            "linecolor": "white",
            "ticks": ""
           }
          },
          "scene": {
           "xaxis": {
            "backgroundcolor": "#E5ECF6",
            "gridcolor": "white",
            "gridwidth": 2,
            "linecolor": "white",
            "showbackground": true,
            "ticks": "",
            "zerolinecolor": "white"
           },
           "yaxis": {
            "backgroundcolor": "#E5ECF6",
            "gridcolor": "white",
            "gridwidth": 2,
            "linecolor": "white",
            "showbackground": true,
            "ticks": "",
            "zerolinecolor": "white"
           },
           "zaxis": {
            "backgroundcolor": "#E5ECF6",
            "gridcolor": "white",
            "gridwidth": 2,
            "linecolor": "white",
            "showbackground": true,
            "ticks": "",
            "zerolinecolor": "white"
           }
          },
          "shapedefaults": {
           "line": {
            "color": "#2a3f5f"
           }
          },
          "ternary": {
           "aaxis": {
            "gridcolor": "white",
            "linecolor": "white",
            "ticks": ""
           },
           "baxis": {
            "gridcolor": "white",
            "linecolor": "white",
            "ticks": ""
           },
           "bgcolor": "#E5ECF6",
           "caxis": {
            "gridcolor": "white",
            "linecolor": "white",
            "ticks": ""
           }
          },
          "title": {
           "x": 0.05
          },
          "xaxis": {
           "automargin": true,
           "gridcolor": "white",
           "linecolor": "white",
           "ticks": "",
           "title": {
            "standoff": 15
           },
           "zerolinecolor": "white",
           "zerolinewidth": 2
          },
          "yaxis": {
           "automargin": true,
           "gridcolor": "white",
           "linecolor": "white",
           "ticks": "",
           "title": {
            "standoff": 15
           },
           "zerolinecolor": "white",
           "zerolinewidth": 2
          }
         }
        },
        "xaxis": {
         "anchor": "y",
         "autorange": true,
         "domain": [
          0,
          1
         ],
         "range": [
          100.00000000000045,
          179.0000000000001
         ],
         "title": {
          "text": "x"
         },
         "type": "linear"
        },
        "yaxis": {
         "anchor": "x",
         "autorange": true,
         "domain": [
          0,
          1
         ],
         "range": [
          -0.17460147071132168,
          3.3174279435151117
         ],
         "title": {
          "text": "value"
         },
         "type": "linear"
        }
       }
      },
      "image/png": "[encoded data removed]",
      "text/html": [
       "<div>                            <div id=\"40790d27-6889-488b-a935-44fbbad9d9fd\" class=\"plotly-graph-div\" style=\"height:525px; width:100%;\"></div>            <script type=\"text/javascript\">                require([\"plotly\"], function(Plotly) {                    window.PLOTLYENV=window.PLOTLYENV || {};                                    if (document.getElementById(\"40790d27-6889-488b-a935-44fbbad9d9fd\")) {                    Plotly.newPlot(                        \"40790d27-6889-488b-a935-44fbbad9d9fd\",                        [{\"hovertemplate\":\"variable=wide_variable_0<br>x=%{x}<br>value=%{y}<extra></extra>\",\"legendgroup\":\"wide_variable_0\",\"line\":{\"color\":\"#636efa\",\"dash\":\"solid\"},\"marker\":{\"symbol\":\"circle\"},\"mode\":\"lines\",\"name\":\"wide_variable_0\",\"orientation\":\"v\",\"showlegend\":true,\"x\":[100.00000000000045,101.0,102.0,103.00000000000001,104.0,105.0,106.0,107.0,108.0,108.99999999999999,110.0,111.0,112.0,113.0,114.00000000000001,115.0,115.99999999999999,117.00000000000003,117.99999999999999,119.0,119.99999999999999,121.0,122.00000000000001,123.00000000000001,124.0,124.99999999999999,126.0,126.99999999999999,128.0,129.0,130.0,131.0,132.0,133.0,134.0,135.0,136.0,137.0,138.00000000000003,138.99999999999997,140.0,140.99999999999997,142.00000000000003,142.99999999999997,144.00000000000003,145.0,146.0,147.0,147.99999999999997,149.00000000000006,149.99999999999997,151.0,151.99999999999997,153.00000000000003,154.0,154.99999999999997,156.00000000000003,156.99999999999997,158.00000000000003,158.99999999999997,160.00000000000003,160.99999999999997,162.00000000000003,162.99999999999997,163.99999999999997,165.00000000000003,166.00000000000003,167.0,167.99999999999997,169.00000000000006,169.99999999999997,171.00000000000003,172.0,172.99999999999991,174.00000000000003,175.0,175.99999999999997,176.99999999999994,178.00000000000006,179.0000000000001],\"xaxis\":\"x\",\"y\":[3.1428264728037902,3.0461178375062445,2.9517101371920944,2.8593117472391896,2.7686791169408025,2.6796108009257296,2.5919422556398786,2.5055413019999833,2.4203041452847174,2.3361519082400264,2.2530275565222837,2.170893212505689,2.0897277580470472,2.009524720884656,1.9302903630605215,1.8520419747683263,1.7748063304561583,1.6986182708351407,1.6235194230139314,1.54955700174105,1.4767827143050454,1.405251725078415,1.3350217149691161,1.2661519806279102,1.1987026052393048,1.132733684181403,1.0683046027788805,1.0054733751621825,0.9442960366686748,0.8848260895347266,0.8271140160532013,0.7712068463351898,0.717147796854988,0.6649759621495832,0.6147260848465521,0.5664283877304115,0.5201084720747531,0.47578728331882303,0.4334811378366794,0.3932018145287657,0.3549566920082725,0.31874894212069194,0.28457775593233237,0.2524386065051658,0.2223235309638767,0.19422142208441073,0.16811832388793846,0.14399772415981715,0.12184082213752845,0.10162678113647416,0.08333294997464691,0.06693505152179569,0.05240733631126204,0.03972270118265442,0.028852770722551213,0.01976795058544667,0.012437444257557217,0.006829255315096816,0.002910160183091648,0.0006456728087869124,0.0,0.0009359916148241609,0.0034150954152210033,0.007397315432172036,0.012841184440731013,0.019703744881553575,0.02794055002868845,0.03750567622137169,0.04835175911557599,0.060430042162806785,0.07369044405822933,0.08808164212950942,0.10355116812115739,0.12004551827249088,0.13751027149828587,0.15589021859159402,0.1751294947343922,0.19517171744973894,0.2159601260373165,0.23743772074703884],\"yaxis\":\"y\",\"type\":\"scatter\"}],                        {\"template\":{\"data\":{\"histogram2dcontour\":[{\"type\":\"histogram2dcontour\",\"colorbar\":{\"outlinewidth\":0,\"ticks\":\"\"},\"colorscale\":[[0.0,\"#0d0887\"],[0.1111111111111111,\"#46039f\"],[0.2222222222222222,\"#7201a8\"],[0.3333333333333333,\"#9c179e\"],[0.4444444444444444,\"#bd3786\"],[0.5555555555555556,\"#d8576b\"],[0.6666666666666666,\"#ed7953\"],[0.7777777777777778,\"#fb9f3a\"],[0.8888888888888888,\"#fdca26\"],[1.0,\"#f0f921\"]]}],\"choropleth\":[{\"type\":\"choropleth\",\"colorbar\":{\"outlinewidth\":0,\"ticks\":\"\"}}],\"histogram2d\":[{\"type\":\"histogram2d\",\"colorbar\":{\"outlinewidth\":0,\"ticks\":\"\"},\"colorscale\":[[0.0,\"#0d0887\"],[0.1111111111111111,\"#46039f\"],[0.2222222222222222,\"#7201a8\"],[0.3333333333333333,\"#9c179e\"],[0.4444444444444444,\"#bd3786\"],[0.5555555555555556,\"#d8576b\"],[0.6666666666666666,\"#ed7953\"],[0.7777777777777778,\"#fb9f3a\"],[0.8888888888888888,\"#fdca26\"],[1.0,\"#f0f921\"]]}],\"heatmap\":[{\"type\":\"heatmap\",\"colorbar\":{\"outlinewidth\":0,\"ticks\":\"\"},\"colorscale\":[[0.0,\"#0d0887\"],[0.1111111111111111,\"#46039f\"],[0.2222222222222222,\"#7201a8\"],[0.3333333333333333,\"#9c179e\"],[0.4444444444444444,\"#bd3786\"],[0.5555555555555556,\"#d8576b\"],[0.6666666666666666,\"#ed7953\"],[0.7777777777777778,\"#fb9f3a\"],[0.8888888888888888,\"#fdca26\"],[1.0,\"#f0f921\"]]}],\"heatmapgl\":[{\"type\":\"heatmapgl\",\"colorbar\":{\"outlinewidth\":0,\"ticks\":\"\"},\"colorscale\":[[0.0,\"#0d0887\"],[0.1111111111111111,\"#46039f\"],[0.2222222222222222,\"#7201a8\"],[0.3333333333333333,\"#9c179e\"],[0.4444444444444444,\"#bd3786\"],[0.5555555555555556,\"#d8576b\"],[0.6666666666666666,\"#ed7953\"],[0.7777777777777778,\"#fb9f3a\"],[0.8888888888888888,\"#fdca26\"],[1.0,\"#f0f921\"]]}],\"contourcarpet\":[{\"type\":\"contourcarpet\",\"colorbar\":{\"outlinewidth\":0,\"ticks\":\"\"}}],\"contour\":[{\"type\":\"contour\",\"colorbar\":{\"outlinewidth\":0,\"ticks\":\"\"},\"colorscale\":[[0.0,\"#0d0887\"],[0.1111111111111111,\"#46039f\"],[0.2222222222222222,\"#7201a8\"],[0.3333333333333333,\"#9c179e\"],[0.4444444444444444,\"#bd3786\"],[0.5555555555555556,\"#d8576b\"],[0.6666666666666666,\"#ed7953\"],[0.7777777777777778,\"#fb9f3a\"],[0.8888888888888888,\"#fdca26\"],[1.0,\"#f0f921\"]]}],\"surface\":[{\"type\":\"surface\",\"colorbar\":{\"outlinewidth\":0,\"ticks\":\"\"},\"colorscale\":[[0.0,\"#0d0887\"],[0.1111111111111111,\"#46039f\"],[0.2222222222222222,\"#7201a8\"],[0.3333333333333333,\"#9c179e\"],[0.4444444444444444,\"#bd3786\"],[0.5555555555555556,\"#d8576b\"],[0.6666666666666666,\"#ed7953\"],[0.7777777777777778,\"#fb9f3a\"],[0.8888888888888888,\"#fdca26\"],[1.0,\"#f0f921\"]]}],\"mesh3d\":[{\"type\":\"mesh3d\",\"colorbar\":{\"outlinewidth\":0,\"ticks\":\"\"}}],\"scatter\":[{\"fillpattern\":{\"fillmode\":\"overlay\",\"size\":10,\"solidity\":0.2},\"type\":\"scatter\"}],\"parcoords\":[{\"type\":\"parcoords\",\"line\":{\"colorbar\":{\"outlinewidth\":0,\"ticks\":\"\"}}}],\"scatterpolargl\":[{\"type\":\"scatterpolargl\",\"marker\":{\"colorbar\":{\"outlinewidth\":0,\"ticks\":\"\"}}}],\"bar\":[{\"error_x\":{\"color\":\"#2a3f5f\"},\"error_y\":{\"color\":\"#2a3f5f\"},\"marker\":{\"line\":{\"color\":\"#E5ECF6\",\"width\":0.5},\"pattern\":{\"fillmode\":\"overlay\",\"size\":10,\"solidity\":0.2}},\"type\":\"bar\"}],\"scattergeo\":[{\"type\":\"scattergeo\",\"marker\":{\"colorbar\":{\"outlinewidth\":0,\"ticks\":\"\"}}}],\"scatterpolar\":[{\"type\":\"scatterpolar\",\"marker\":{\"colorbar\":{\"outlinewidth\":0,\"ticks\":\"\"}}}],\"histogram\":[{\"marker\":{\"pattern\":{\"fillmode\":\"overlay\",\"size\":10,\"solidity\":0.2}},\"type\":\"histogram\"}],\"scattergl\":[{\"type\":\"scattergl\",\"marker\":{\"colorbar\":{\"outlinewidth\":0,\"ticks\":\"\"}}}],\"scatter3d\":[{\"type\":\"scatter3d\",\"line\":{\"colorbar\":{\"outlinewidth\":0,\"ticks\":\"\"}},\"marker\":{\"colorbar\":{\"outlinewidth\":0,\"ticks\":\"\"}}}],\"scattermapbox\":[{\"type\":\"scattermapbox\",\"marker\":{\"colorbar\":{\"outlinewidth\":0,\"ticks\":\"\"}}}],\"scatterternary\":[{\"type\":\"scatterternary\",\"marker\":{\"colorbar\":{\"outlinewidth\":0,\"ticks\":\"\"}}}],\"scattercarpet\":[{\"type\":\"scattercarpet\",\"marker\":{\"colorbar\":{\"outlinewidth\":0,\"ticks\":\"\"}}}],\"carpet\":[{\"aaxis\":{\"endlinecolor\":\"#2a3f5f\",\"gridcolor\":\"white\",\"linecolor\":\"white\",\"minorgridcolor\":\"white\",\"startlinecolor\":\"#2a3f5f\"},\"baxis\":{\"endlinecolor\":\"#2a3f5f\",\"gridcolor\":\"white\",\"linecolor\":\"white\",\"minorgridcolor\":\"white\",\"startlinecolor\":\"#2a3f5f\"},\"type\":\"carpet\"}],\"table\":[{\"cells\":{\"fill\":{\"color\":\"#EBF0F8\"},\"line\":{\"color\":\"white\"}},\"header\":{\"fill\":{\"color\":\"#C8D4E3\"},\"line\":{\"color\":\"white\"}},\"type\":\"table\"}],\"barpolar\":[{\"marker\":{\"line\":{\"color\":\"#E5ECF6\",\"width\":0.5},\"pattern\":{\"fillmode\":\"overlay\",\"size\":10,\"solidity\":0.2}},\"type\":\"barpolar\"}],\"pie\":[{\"automargin\":true,\"type\":\"pie\"}]},\"layout\":{\"autotypenumbers\":\"strict\",\"colorway\":[\"#636efa\",\"#EF553B\",\"#00cc96\",\"#ab63fa\",\"#FFA15A\",\"#19d3f3\",\"#FF6692\",\"#B6E880\",\"#FF97FF\",\"#FECB52\"],\"font\":{\"color\":\"#2a3f5f\"},\"hovermode\":\"closest\",\"hoverlabel\":{\"align\":\"left\"},\"paper_bgcolor\":\"white\",\"plot_bgcolor\":\"#E5ECF6\",\"polar\":{\"bgcolor\":\"#E5ECF6\",\"angularaxis\":{\"gridcolor\":\"white\",\"linecolor\":\"white\",\"ticks\":\"\"},\"radialaxis\":{\"gridcolor\":\"white\",\"linecolor\":\"white\",\"ticks\":\"\"}},\"ternary\":{\"bgcolor\":\"#E5ECF6\",\"aaxis\":{\"gridcolor\":\"white\",\"linecolor\":\"white\",\"ticks\":\"\"},\"baxis\":{\"gridcolor\":\"white\",\"linecolor\":\"white\",\"ticks\":\"\"},\"caxis\":{\"gridcolor\":\"white\",\"linecolor\":\"white\",\"ticks\":\"\"}},\"coloraxis\":{\"colorbar\":{\"outlinewidth\":0,\"ticks\":\"\"}},\"colorscale\":{\"sequential\":[[0.0,\"#0d0887\"],[0.1111111111111111,\"#46039f\"],[0.2222222222222222,\"#7201a8\"],[0.3333333333333333,\"#9c179e\"],[0.4444444444444444,\"#bd3786\"],[0.5555555555555556,\"#d8576b\"],[0.6666666666666666,\"#ed7953\"],[0.7777777777777778,\"#fb9f3a\"],[0.8888888888888888,\"#fdca26\"],[1.0,\"#f0f921\"]],\"sequentialminus\":[[0.0,\"#0d0887\"],[0.1111111111111111,\"#46039f\"],[0.2222222222222222,\"#7201a8\"],[0.3333333333333333,\"#9c179e\"],[0.4444444444444444,\"#bd3786\"],[0.5555555555555556,\"#d8576b\"],[0.6666666666666666,\"#ed7953\"],[0.7777777777777778,\"#fb9f3a\"],[0.8888888888888888,\"#fdca26\"],[1.0,\"#f0f921\"]],\"diverging\":[[0,\"#8e0152\"],[0.1,\"#c51b7d\"],[0.2,\"#de77ae\"],[0.3,\"#f1b6da\"],[0.4,\"#fde0ef\"],[0.5,\"#f7f7f7\"],[0.6,\"#e6f5d0\"],[0.7,\"#b8e186\"],[0.8,\"#7fbc41\"],[0.9,\"#4d9221\"],[1,\"#276419\"]]},\"xaxis\":{\"gridcolor\":\"white\",\"linecolor\":\"white\",\"ticks\":\"\",\"title\":{\"standoff\":15},\"zerolinecolor\":\"white\",\"automargin\":true,\"zerolinewidth\":2},\"yaxis\":{\"gridcolor\":\"white\",\"linecolor\":\"white\",\"ticks\":\"\",\"title\":{\"standoff\":15},\"zerolinecolor\":\"white\",\"automargin\":true,\"zerolinewidth\":2},\"scene\":{\"xaxis\":{\"backgroundcolor\":\"#E5ECF6\",\"gridcolor\":\"white\",\"linecolor\":\"white\",\"showbackground\":true,\"ticks\":\"\",\"zerolinecolor\":\"white\",\"gridwidth\":2},\"yaxis\":{\"backgroundcolor\":\"#E5ECF6\",\"gridcolor\":\"white\",\"linecolor\":\"white\",\"showbackground\":true,\"ticks\":\"\",\"zerolinecolor\":\"white\",\"gridwidth\":2},\"zaxis\":{\"backgroundcolor\":\"#E5ECF6\",\"gridcolor\":\"white\",\"linecolor\":\"white\",\"showbackground\":true,\"ticks\":\"\",\"zerolinecolor\":\"white\",\"gridwidth\":2}},\"shapedefaults\":{\"line\":{\"color\":\"#2a3f5f\"}},\"annotationdefaults\":{\"arrowcolor\":\"#2a3f5f\",\"arrowhead\":0,\"arrowwidth\":1},\"geo\":{\"bgcolor\":\"white\",\"landcolor\":\"#E5ECF6\",\"subunitcolor\":\"white\",\"showland\":true,\"showlakes\":true,\"lakecolor\":\"white\"},\"title\":{\"x\":0.05},\"mapbox\":{\"style\":\"light\"}}},\"xaxis\":{\"anchor\":\"y\",\"domain\":[0.0,1.0],\"title\":{\"text\":\"x\"}},\"yaxis\":{\"anchor\":\"x\",\"domain\":[0.0,1.0],\"title\":{\"text\":\"value\"}},\"legend\":{\"title\":{\"text\":\"variable\"},\"tracegroupgap\":0},\"margin\":{\"t\":60}},                        {\"responsive\": true}                    ).then(function(){\n",
       "                            \n",
       "var gd = document.getElementById('40790d27-6889-488b-a935-44fbbad9d9fd');\n",
       "var x = new MutationObserver(function (mutations, observer) {{\n",
       "        var display = window.getComputedStyle(gd).display;\n",
       "        if (!display || display === 'none') {{\n",
       "            console.log([gd, 'removed!']);\n",
       "            Plotly.purge(gd);\n",
       "            observer.disconnect();\n",
       "        }}\n",
       "}});\n",
       "\n",
       "// Listen for the removal of the full notebook cells\n",
       "var notebookContainer = gd.closest('#notebook-container');\n",
       "if (notebookContainer) {{\n",
       "    x.observe(notebookContainer, {childList: true});\n",
       "}}\n",
       "\n",
       "// Listen for the clearing of the current output cell\n",
       "var outputEl = gd.closest('.output');\n",
       "if (outputEl) {{\n",
       "    x.observe(outputEl, {childList: true});\n",
       "}}\n",
       "\n",
       "                        })                };                });            </script>        </div>"
      ]
     },
     "metadata": {},
     "output_type": "display_data"
    }
   ],
   "source": [
    "fig = px.line(x=ang, y=[ena])\n",
    "\n",
    "fig.show()"
   ]
  },
  {
   "cell_type": "code",
   "execution_count": 97,
   "id": "9b86d8ce-bbf1-4e55-9e8a-97fd2a13d62b",
   "metadata": {},
   "outputs": [
    {
     "data": {
      "text/plain": [
       "3.1428264728037902"
      ]
     },
     "execution_count": 97,
     "metadata": {},
     "output_type": "execute_result"
    }
   ],
   "source": [
    "max(ena)"
   ]
  },
  {
   "cell_type": "markdown",
   "id": "1c18f2dd-d185-41a1-accd-fee04d5e1dff",
   "metadata": {},
   "source": [
    "## Now scan both bond and angle"
   ]
  },
  {
   "cell_type": "code",
   "execution_count": 37,
   "id": "942cc7bf-4ea0-40d7-bc2b-7eb438def194",
   "metadata": {},
   "outputs": [],
   "source": [
    "from ase.visualize import view"
   ]
  },
  {
   "cell_type": "code",
   "execution_count": 98,
   "id": "5f6c611b-d309-4b5b-b8e9-767b5954fde7",
   "metadata": {},
   "outputs": [],
   "source": [
    "from ase.io import write\n",
    "write('molecule.png', mol)"
   ]
  },
  {
   "cell_type": "markdown",
   "id": "b37c2ec2-218e-4110-9537-492f5199b212",
   "metadata": {},
   "source": [
    "### 3D Plot concept\n",
    "Need grid of data"
   ]
  },
  {
   "cell_type": "code",
   "execution_count": null,
   "id": "f7b761c9-7c80-4afe-ae2a-6cd59d3158aa",
   "metadata": {},
   "outputs": [],
   "source": []
  },
  {
   "cell_type": "code",
   "execution_count": 46,
   "id": "52d72d2c-d30a-44be-abff-4b242a693ece",
   "metadata": {},
   "outputs": [
    {
     "data": {
      "image/png": "[encoded data removed]",
      "text/plain": [
       "<Figure size 640x480 with 2 Axes>"
      ]
     },
     "metadata": {},
     "output_type": "display_data"
    }
   ],
   "source": [
    "import matplotlib.pyplot as plt\n",
    "from matplotlib import cm\n",
    "from matplotlib.ticker import LinearLocator\n",
    "import numpy as np\n",
    "\n",
    "fig, ax = plt.subplots(subplot_kw={\"projection\": \"3d\"})\n",
    "\n",
    "# Make data.\n",
    "X = np.arange(-5, 5, 0.25)\n",
    "Y = np.arange(-5, 5, 0.25)\n",
    "X, Y = np.meshgrid(X, Y)\n",
    "R = np.sqrt(X**2 + Y**2)\n",
    "Z = np.sin(R)\n",
    "\n",
    "# Plot the surface.\n",
    "surf = ax.plot_surface(X, Y, Z, cmap=cm.coolwarm,\n",
    "                       linewidth=0, antialiased=False)\n",
    "\n",
    "# Customize the z axis.\n",
    "ax.set_zlim(-1.01, 1.01)\n",
    "ax.zaxis.set_major_locator(LinearLocator(10))\n",
    "# A StrMethodFormatter is used automatically\n",
    "ax.zaxis.set_major_formatter('{x:.02f}')\n",
    "\n",
    "# Add a color bar which maps values to colors.\n",
    "fig.colorbar(surf, shrink=0.5, aspect=5)\n",
    "\n",
    "plt.show()"
   ]
  },
  {
   "cell_type": "code",
   "execution_count": 47,
   "id": "99fa322f-d3e9-4c12-a46a-97cd00516e55",
   "metadata": {},
   "outputs": [],
   "source": [
    "from mpl_toolkits.mplot3d.axes3d import get_test_data"
   ]
  },
  {
   "cell_type": "code",
   "execution_count": 48,
   "id": "fd70df03-96f1-4f86-bd73-def9f227f378",
   "metadata": {},
   "outputs": [],
   "source": [
    "X, Y, Z = get_test_data(0.05)"
   ]
  },
  {
   "cell_type": "code",
   "execution_count": 50,
   "id": "a1fd818b-d717-4c75-9c5a-d0c2fb797a1e",
   "metadata": {},
   "outputs": [
    {
     "data": {
      "text/plain": [
       "array([[-30. , -30. , -30. , ..., -30. , -30. , -30. ],\n",
       "       [-29.5, -29.5, -29.5, ..., -29.5, -29.5, -29.5],\n",
       "       [-29. , -29. , -29. , ..., -29. , -29. , -29. ],\n",
       "       ...,\n",
       "       [ 28.5,  28.5,  28.5, ...,  28.5,  28.5,  28.5],\n",
       "       [ 29. ,  29. ,  29. , ...,  29. ,  29. ,  29. ],\n",
       "       [ 29.5,  29.5,  29.5, ...,  29.5,  29.5,  29.5]])"
      ]
     },
     "execution_count": 50,
     "metadata": {},
     "output_type": "execute_result"
    }
   ],
   "source": [
    "Y"
   ]
  },
  {
   "cell_type": "code",
   "execution_count": 51,
   "id": "3b06cfa4-f2b7-40f8-be33-c8d57ac25e04",
   "metadata": {},
   "outputs": [
    {
     "data": {
      "image/png": "[encoded data removed]",
      "text/plain": [
       "<Figure size 1000x1000 with 1 Axes>"
      ]
     },
     "metadata": {},
     "output_type": "display_data"
    }
   ],
   "source": [
    "import numpy as np\n",
    "import matplotlib.pyplot as plt\n",
    "from scipy.interpolate import RegularGridInterpolator\n",
    "\n",
    "vel=np.random.random((21,30))\n",
    "#grid old\n",
    "x=np.arange(0,21,1)\n",
    "y=np.arange(0,30,1)\n",
    "grid_old=(x,y)\n",
    "\n",
    "#grid new\n",
    "# the limits of the interpolated x and y val have to be less than the original grid\n",
    "x_new=np.arange(0.1,19.9,0.1)\n",
    "y_new=np.arange(0.1,28.9,0.1)\n",
    "grid_new = np.meshgrid(x_new, y_new)\n",
    "grid_flattened = np.transpose(np.array([k.flatten() for k in grid_new]))\n",
    "\n",
    "#Interpolation onto a finer grid\n",
    "grid_interpol = RegularGridInterpolator(grid_old,vel,method='linear')\n",
    "vel_interpol = grid_interpol(grid_flattened)\n",
    "\n",
    "#Unflatten the interpolated velocities and store into a new variable.\n",
    "index=0\n",
    "vel_new=np.zeros((len(x_new),len(y_new)))\n",
    "for i in  range(len(x_new)):\n",
    "    for j in range(len(y_new)):\n",
    "        vel_new[i,j] =vel_interpol[index]\n",
    "        index+=1\n",
    "\n",
    "fig=plt.figure()\n",
    "ax=fig.add_subplot(111,projection='3d')\n",
    "surf=ax.plot_surface(grid_new[0],grid_new[1],vel_new.T, cmap=\"RdBu\") \n",
    "fig.set_size_inches(10,10) \n",
    "plt.show()"
   ]
  },
  {
   "cell_type": "code",
   "execution_count": 52,
   "id": "414e1ea4-7ce9-4072-afbd-efc65e837169",
   "metadata": {},
   "outputs": [
    {
     "data": {
      "text/plain": [
       "<Figure size 640x480 with 0 Axes>"
      ]
     },
     "metadata": {},
     "output_type": "display_data"
    }
   ],
   "source": [
    "import numpy as np\n",
    "import scipy as sp\n",
    "import matplotlib.pyplot as plt\n",
    "import scipy.interpolate\n",
    "from mpl_toolkits.mplot3d import Axes3D\n",
    "\n",
    "x = np.random.random(10)\n",
    "y = np.random.random(10)\n",
    "z = np.random.random(10)\n",
    "\n",
    "spline = sp.interpolate.Rbf(x,y,z,function='thin-plate')\n",
    "\n",
    "xi = np.linspace(x.min(), x.max(), 50)\n",
    "yi = np.linspace(y.min(), y.max(), 50)\n",
    "xi, yi = np.meshgrid(xi, yi)\n",
    "\n",
    "zi = spline(xi,yi)\n",
    "\n",
    "fig = plt.figure()\n",
    "ax = Axes3D(fig)\n",
    "ax.plot_surface(xi,yi,zi)\n",
    "plt.show()"
   ]
  },
  {
   "cell_type": "code",
   "execution_count": null,
   "id": "5c962915-7549-4be5-a6f1-a0dc6f4d574d",
   "metadata": {},
   "outputs": [],
   "source": []
  }
 ],
 "metadata": {
  "kernelspec": {
   "display_name": "Python 3 (ipykernel)",
   "language": "python",
   "name": "python3"
  },
  "language_info": {
   "codemirror_mode": {
    "name": "ipython",
    "version": 3
   },
   "file_extension": ".py",
   "mimetype": "text/x-python",
   "name": "python",
   "nbconvert_exporter": "python",
   "pygments_lexer": "ipython3",
   "version": "3.10.8"
  }
 },
 "nbformat": 4,
 "nbformat_minor": 5
}
