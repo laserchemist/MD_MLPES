{
 "cells": [
  {
   "cell_type": "markdown",
   "id": "804060a9-de7f-4b23-a696-56a886d0301f",
   "metadata": {},
   "source": [
    "# Machine Learning Potential Energy Surface example\n",
    "See sGDML [documentation](http://www.sgdml.org/#code)"
   ]
  },
  {
   "cell_type": "code",
   "execution_count": 1,
   "id": "7d60bb13-f140-469c-ad9e-9381febefe00",
   "metadata": {},
   "outputs": [],
   "source": [
    "import numpy as np\n",
    "from sgdml.predict import GDMLPredict\n",
    "from sgdml.utils import io"
   ]
  },
  {
   "cell_type": "code",
   "execution_count": 17,
   "id": "c590f571-df57-41cd-bdaf-7889db2eac51",
   "metadata": {},
   "outputs": [],
   "source": [
    "model = np.load('H2O-QChem-train1200-sym2.npz')\n",
    "gdml = GDMLPredict(model)\n",
    "\n",
    "r,_ = io.read_xyz('data_h2o/H2O.xyz')\n",
    "e,f = gdml.predict(r)"
   ]
  },
  {
   "cell_type": "code",
   "execution_count": 18,
   "id": "4ad8761e-99c2-406c-910a-63d81db1100f",
   "metadata": {},
   "outputs": [
    {
     "data": {
      "text/plain": [
       "array([[ 0.145928 , -0.104312 ,  0.926277 ,  0.0382234,  0.0198018,\n",
       "        -0.0503268, -0.75256  ,  0.574674 , -0.127562 ]])"
      ]
     },
     "execution_count": 18,
     "metadata": {},
     "output_type": "execute_result"
    }
   ],
   "source": [
    "r\n"
   ]
  },
  {
   "cell_type": "code",
   "execution_count": 19,
   "id": "9ce05202-1935-4b06-81e7-97d72410de46",
   "metadata": {},
   "outputs": [
    {
     "data": {
      "text/plain": [
       "array([0.00103217])"
      ]
     },
     "execution_count": 19,
     "metadata": {},
     "output_type": "execute_result"
    }
   ],
   "source": [
    "e\n"
   ]
  },
  {
   "cell_type": "code",
   "execution_count": 20,
   "id": "c099b574-7133-491d-bd0f-b73e8d19d1b4",
   "metadata": {},
   "outputs": [
    {
     "data": {
      "text/plain": [
       "array([[ 0.00323622, -0.00224524, -0.00019206,  0.00177477, -0.00147296,\n",
       "         0.00470431, -0.00501099,  0.00371821, -0.00451226]])"
      ]
     },
     "execution_count": 20,
     "metadata": {},
     "output_type": "execute_result"
    }
   ],
   "source": [
    "f"
   ]
  },
  {
   "cell_type": "markdown",
   "id": "a3447c32-5c1e-4379-974f-4e49da2184fd",
   "metadata": {},
   "source": [
    "## Now use Atomic Simulation Environment"
   ]
  },
  {
   "cell_type": "code",
   "execution_count": 6,
   "id": "10a58188-8c26-46d7-be69-1008fc9379c0",
   "metadata": {},
   "outputs": [
    {
     "name": "stdout",
     "output_type": "stream",
     "text": [
      "Requirement already satisfied: sgdml[ase] in /opt/conda/lib/python3.10/site-packages (1.0.0)\n",
      "Requirement already satisfied: numpy>=1.19.0 in /opt/conda/lib/python3.10/site-packages (from sgdml[ase]) (1.23.5)\n",
      "Requirement already satisfied: scipy>=1.1.0 in /opt/conda/lib/python3.10/site-packages (from sgdml[ase]) (1.10.0)\n",
      "Requirement already satisfied: torch>=1.8 in /opt/conda/lib/python3.10/site-packages (from sgdml[ase]) (1.13.1)\n",
      "Requirement already satisfied: future in /opt/conda/lib/python3.10/site-packages (from sgdml[ase]) (0.18.3)\n",
      "Requirement already satisfied: psutil in /opt/conda/lib/python3.10/site-packages (from sgdml[ase]) (5.9.4)\n",
      "Collecting ase>=3.16.2\n",
      "  Using cached ase-3.22.1-py3-none-any.whl (2.2 MB)\n",
      "Requirement already satisfied: matplotlib>=3.1.0 in /opt/conda/lib/python3.10/site-packages (from ase>=3.16.2->sgdml[ase]) (3.6.3)\n",
      "Requirement already satisfied: nvidia-cublas-cu11==11.10.3.66 in /opt/conda/lib/python3.10/site-packages (from torch>=1.8->sgdml[ase]) (11.10.3.66)\n",
      "Requirement already satisfied: nvidia-cudnn-cu11==8.5.0.96 in /opt/conda/lib/python3.10/site-packages (from torch>=1.8->sgdml[ase]) (8.5.0.96)\n",
      "Requirement already satisfied: typing-extensions in /opt/conda/lib/python3.10/site-packages (from torch>=1.8->sgdml[ase]) (4.4.0)\n",
      "Requirement already satisfied: nvidia-cuda-runtime-cu11==11.7.99 in /opt/conda/lib/python3.10/site-packages (from torch>=1.8->sgdml[ase]) (11.7.99)\n",
      "Requirement already satisfied: nvidia-cuda-nvrtc-cu11==11.7.99 in /opt/conda/lib/python3.10/site-packages (from torch>=1.8->sgdml[ase]) (11.7.99)\n",
      "Requirement already satisfied: setuptools in /opt/conda/lib/python3.10/site-packages (from nvidia-cublas-cu11==11.10.3.66->torch>=1.8->sgdml[ase]) (66.1.1)\n",
      "Requirement already satisfied: wheel in /opt/conda/lib/python3.10/site-packages (from nvidia-cublas-cu11==11.10.3.66->torch>=1.8->sgdml[ase]) (0.38.4)\n",
      "Requirement already satisfied: contourpy>=1.0.1 in /opt/conda/lib/python3.10/site-packages (from matplotlib>=3.1.0->ase>=3.16.2->sgdml[ase]) (1.0.7)\n",
      "Requirement already satisfied: kiwisolver>=1.0.1 in /opt/conda/lib/python3.10/site-packages (from matplotlib>=3.1.0->ase>=3.16.2->sgdml[ase]) (1.4.4)\n",
      "Requirement already satisfied: pillow>=6.2.0 in /opt/conda/lib/python3.10/site-packages (from matplotlib>=3.1.0->ase>=3.16.2->sgdml[ase]) (9.4.0)\n",
      "Requirement already satisfied: packaging>=20.0 in /opt/conda/lib/python3.10/site-packages (from matplotlib>=3.1.0->ase>=3.16.2->sgdml[ase]) (23.0)\n",
      "Requirement already satisfied: python-dateutil>=2.7 in /opt/conda/lib/python3.10/site-packages (from matplotlib>=3.1.0->ase>=3.16.2->sgdml[ase]) (2.8.2)\n",
      "Requirement already satisfied: cycler>=0.10 in /opt/conda/lib/python3.10/site-packages (from matplotlib>=3.1.0->ase>=3.16.2->sgdml[ase]) (0.11.0)\n",
      "Requirement already satisfied: fonttools>=4.22.0 in /opt/conda/lib/python3.10/site-packages (from matplotlib>=3.1.0->ase>=3.16.2->sgdml[ase]) (4.38.0)\n",
      "Requirement already satisfied: pyparsing>=2.2.1 in /opt/conda/lib/python3.10/site-packages (from matplotlib>=3.1.0->ase>=3.16.2->sgdml[ase]) (3.0.9)\n",
      "Requirement already satisfied: six>=1.5 in /opt/conda/lib/python3.10/site-packages (from python-dateutil>=2.7->matplotlib>=3.1.0->ase>=3.16.2->sgdml[ase]) (1.16.0)\n",
      "Installing collected packages: ase\n",
      "Successfully installed ase-3.22.1\n"
     ]
    }
   ],
   "source": [
    "!pip install sgdml[ase]"
   ]
  },
  {
   "cell_type": "code",
   "execution_count": 7,
   "id": "c147c7ff-9a2d-4d94-9b02-e3fe84583d46",
   "metadata": {},
   "outputs": [],
   "source": [
    "from sgdml.intf.ase_calc import SGDMLCalculator\n",
    "\n",
    "from ase.io import read\n",
    "from ase.optimize import QuasiNewton\n",
    "from ase.md.velocitydistribution import (MaxwellBoltzmannDistribution, Stationary, ZeroRotation)\n",
    "from ase.md.verlet import VelocityVerlet\n",
    "from ase import units\n",
    "from IPython.display import HTML\n",
    "from  ase.build import  molecule"
   ]
  },
  {
   "cell_type": "markdown",
   "id": "6a08094d-193b-4d2e-b207-b9289d31cda6",
   "metadata": {},
   "source": [
    "### Function to create html to display molecule"
   ]
  },
  {
   "cell_type": "code",
   "execution_count": 8,
   "id": "6e366ba0-c88e-4da4-92a8-20eb858c014c",
   "metadata": {},
   "outputs": [],
   "source": [
    "def atoms_to_html(atoms):\n",
    "    'Return the html representation the atoms object as string'\n",
    "\n",
    "    from tempfile import NamedTemporaryFile\n",
    "\n",
    "    with NamedTemporaryFile('r+', suffix='.html') as ntf:\n",
    "        atoms.write(ntf.name, format='html')\n",
    "        ntf.seek(0)\n",
    "        html = ntf.read()\n",
    "    return html"
   ]
  },
  {
   "cell_type": "code",
   "execution_count": 21,
   "id": "3a595605-2bee-42fd-a626-db95f38b07c5",
   "metadata": {},
   "outputs": [
    {
     "name": "stderr",
     "output_type": "stream",
     "text": [
      "[WARN] Please remember to specify the proper conversion factors, if your model does not use\n",
      "       'kcal/mol' and 'Ang' as units.\n"
     ]
    }
   ],
   "source": [
    "model_path = 'H2O-QChem-train1200-sym2.npz'\n",
    "calc = SGDMLCalculator(model_path)\n",
    "\n",
    "mol = read('data_h2o/H2O.xyz')\n",
    "mol.set_calculator(calc)"
   ]
  },
  {
   "cell_type": "code",
   "execution_count": 22,
   "id": "3cdb49b8-df0f-49c2-a948-c5b88b091c9a",
   "metadata": {},
   "outputs": [
    {
     "data": {
      "text/html": [
       "<html>\n",
       "\n",
       " <head>\n",
       "\n",
       "  <title>ASE atomic visualization</title>\n",
       "\n",
       "  <link rel=\"stylesheet\" type=\"text/css\"\n",
       "\n",
       "   href=\"https://www.x3dom.org/x3dom/release/x3dom.css\">\n",
       "\n",
       "  </link>\n",
       "\n",
       "  <script type=\"text/javascript\"\n",
       "\n",
       "   src=\"https://www.x3dom.org/x3dom/release/x3dom.js\">\n",
       "\n",
       "  </script>\n",
       "\n",
       " </head>\n",
       "\n",
       " <body>\n",
       "\n",
       "  <X3D>\n",
       "\n",
       "   <Scene>\n",
       "\n",
       "    <Transform translation=\"0.15 -0.10 0.93\">\n",
       "\n",
       "     <Shape>\n",
       "\n",
       "      <Appearance>\n",
       "\n",
       "       <Material diffuseColor=\"1.000 1.000 1.000\" specularColor=\"0.5 0.5 0.5\">\n",
       "\n",
       "       </Material>\n",
       "\n",
       "      </Appearance>\n",
       "\n",
       "      <Sphere radius=\"0.31\">\n",
       "\n",
       "      </Sphere>\n",
       "\n",
       "     </Shape>\n",
       "\n",
       "    </Transform>\n",
       "\n",
       "    <Transform translation=\"0.04 0.02 -0.05\">\n",
       "\n",
       "     <Shape>\n",
       "\n",
       "      <Appearance>\n",
       "\n",
       "       <Material diffuseColor=\"1.000 0.051 0.051\" specularColor=\"0.5 0.5 0.5\">\n",
       "\n",
       "       </Material>\n",
       "\n",
       "      </Appearance>\n",
       "\n",
       "      <Sphere radius=\"0.66\">\n",
       "\n",
       "      </Sphere>\n",
       "\n",
       "     </Shape>\n",
       "\n",
       "    </Transform>\n",
       "\n",
       "    <Transform translation=\"-0.75 0.57 -0.13\">\n",
       "\n",
       "     <Shape>\n",
       "\n",
       "      <Appearance>\n",
       "\n",
       "       <Material diffuseColor=\"1.000 1.000 1.000\" specularColor=\"0.5 0.5 0.5\">\n",
       "\n",
       "       </Material>\n",
       "\n",
       "      </Appearance>\n",
       "\n",
       "      <Sphere radius=\"0.31\">\n",
       "\n",
       "      </Sphere>\n",
       "\n",
       "     </Shape>\n",
       "\n",
       "    </Transform>\n",
       "\n",
       "   </Scene>\n",
       "\n",
       "  </X3D>\n",
       "\n",
       " </body>\n",
       "\n",
       "</html>\n",
       "\n"
      ],
      "text/plain": [
       "<IPython.core.display.HTML object>"
      ]
     },
     "execution_count": 22,
     "metadata": {},
     "output_type": "execute_result"
    }
   ],
   "source": [
    "h2o_html = atoms_to_html(mol)\n",
    "HTML(h2o_html)"
   ]
  },
  {
   "cell_type": "code",
   "execution_count": 23,
   "id": "0c46bfe8-d321-4f7c-aeba-e8dcc8966e41",
   "metadata": {},
   "outputs": [
    {
     "name": "stdout",
     "output_type": "stream",
     "text": [
      "                Step[ FC]     Time          Energy          fmax\n",
      "BFGSLineSearch:    0[  0] 20:00:43        0.000045        0.0003\n",
      "BFGSLineSearch:    1[  4] 20:00:44        0.000044        0.0003\n",
      "BFGSLineSearch:    2[  5] 20:00:44        0.000040        0.0002\n",
      "BFGSLineSearch:    3[  6] 20:00:44        0.000040        0.0001\n",
      "BFGSLineSearch:    4[  9] 20:00:44        0.000040        0.0001\n",
      "BFGSLineSearch:    5[ 13] 20:00:45        0.000038        0.0001\n"
     ]
    },
    {
     "data": {
      "text/plain": [
       "True"
      ]
     },
     "execution_count": 23,
     "metadata": {},
     "output_type": "execute_result"
    }
   ],
   "source": [
    "# do a quick geometry relaxation\n",
    "qn = QuasiNewton(mol)\n",
    "qn.run(1e-4, 100)"
   ]
  },
  {
   "cell_type": "markdown",
   "id": "7f259745-3e14-4a24-9bbd-6d7dfa864d08",
   "metadata": {},
   "source": [
    "### Vibrational Frequencies"
   ]
  },
  {
   "cell_type": "code",
   "execution_count": 24,
   "id": "280dac3f-cfe7-45c1-a3dd-82b632ed775b",
   "metadata": {},
   "outputs": [],
   "source": [
    "from ase.vibrations import Vibrations"
   ]
  },
  {
   "cell_type": "code",
   "execution_count": 25,
   "id": "a2589428-b811-4f34-89ed-fb503c137f8a",
   "metadata": {},
   "outputs": [
    {
     "name": "stdout",
     "output_type": "stream",
     "text": [
      "---------------------\n",
      "  #    meV     cm^-1\n",
      "---------------------\n",
      "  0   96.3     776.4\n",
      "  1  114.8     925.7\n",
      "  2  115.2     929.2\n",
      "  3  119.6     964.6\n",
      "  4  259.1    2089.5\n",
      "  5  407.4    3285.5\n",
      "  6  474.6    3828.2\n",
      "  7  487.9    3935.5\n",
      "  8  518.3    4180.5\n",
      "---------------------\n",
      "Zero-point energy: 1.297 eV\n"
     ]
    }
   ],
   "source": [
    "vib = Vibrations(mol)\n",
    "vib.run()\n",
    "vib.summary()"
   ]
  },
  {
   "cell_type": "code",
   "execution_count": 26,
   "id": "6fc1d415-3ea9-42ea-b6d0-2f16c3d93091",
   "metadata": {},
   "outputs": [
    {
     "name": "stdout",
     "output_type": "stream",
     "text": [
      "BFGSLineSearch:    6[ 14] 20:00:58        0.000038        0.0001\n",
      "BFGSLineSearch:    7[ 16] 20:00:58        0.000038        0.0001\n",
      "BFGSLineSearch:    8[ 19] 20:00:58        0.000038        0.0001\n",
      "BFGSLineSearch:    9[ 21] 20:00:58        0.000038        0.0000\n",
      "BFGSLineSearch:   10[ 22] 20:00:58        0.000038        0.0000\n"
     ]
    },
    {
     "data": {
      "text/plain": [
       "True"
      ]
     },
     "execution_count": 26,
     "metadata": {},
     "output_type": "execute_result"
    }
   ],
   "source": [
    "qn.run(1e-5, 100)"
   ]
  },
  {
   "cell_type": "markdown",
   "id": "6849b394-6068-4d48-adef-02ef8d4f35d3",
   "metadata": {},
   "source": [
    "### Water IR spectrum\n",
    "[water vibrations](https://physicsopenlab.org/2022/01/08/water-molecule-vibrations-with-raman-spectroscopy/)\n",
    "\n",
    "![Water Vibrational Frequency]"
   ]
  },
  {
   "cell_type": "code",
   "execution_count": 27,
   "id": "e9b2a176-281b-4c8c-ab63-d99f9f3a21b5",
   "metadata": {},
   "outputs": [
    {
     "name": "stdout",
     "output_type": "stream",
     "text": [
      "---------------------\n",
      "  #    meV     cm^-1\n",
      "---------------------\n",
      "  0   96.3     776.4\n",
      "  1  114.8     925.7\n",
      "  2  115.2     929.2\n",
      "  3  119.6     964.6\n",
      "  4  259.1    2089.5\n",
      "  5  407.4    3285.5\n",
      "  6  474.6    3828.2\n",
      "  7  487.9    3935.5\n",
      "  8  518.3    4180.5\n",
      "---------------------\n",
      "Zero-point energy: 1.297 eV\n"
     ]
    }
   ],
   "source": [
    "vib.run()\n",
    "vib.summary()"
   ]
  },
  {
   "cell_type": "code",
   "execution_count": 28,
   "id": "0fd20329-7470-4369-b7cf-b017eed72c1d",
   "metadata": {},
   "outputs": [
    {
     "data": {
      "text/plain": [
       "array([ 776.42810141+0.j,  925.68303618+0.j,  929.19317637+0.j,\n",
       "        964.61718577+0.j, 2089.54379873+0.j, 3285.51254529+0.j,\n",
       "       3828.21045288+0.j, 3935.52854336+0.j, 4180.51897283+0.j])"
      ]
     },
     "execution_count": 28,
     "metadata": {},
     "output_type": "execute_result"
    }
   ],
   "source": [
    "vib.get_frequencies(method='standard', direction='central')"
   ]
  },
  {
   "cell_type": "markdown",
   "id": "c67473c7-4add-4ee4-a150-33f4b8f9bd98",
   "metadata": {},
   "source": [
    "#### Compare to reported frequencies: [NIST](https://cccbdb.nist.gov/expvibs1x.asp)"
   ]
  },
  {
   "cell_type": "code",
   "execution_count": null,
   "id": "9b22cceb-5488-4c01-b7fd-31a2eabf21e7",
   "metadata": {},
   "outputs": [],
   "source": []
  },
  {
   "cell_type": "code",
   "execution_count": null,
   "id": "41d7c959-8c54-4617-bb9a-b7d9e20795fb",
   "metadata": {},
   "outputs": [],
   "source": []
  },
  {
   "cell_type": "markdown",
   "id": "ec78a3f8-9799-43e6-b061-382044fb3900",
   "metadata": {},
   "source": [
    "### Now display optimized structure"
   ]
  },
  {
   "cell_type": "code",
   "execution_count": null,
   "id": "cc61b855-e448-4443-b78a-852758fa97f2",
   "metadata": {},
   "outputs": [],
   "source": [
    "mol.get_chemical_symbols()"
   ]
  },
  {
   "cell_type": "code",
   "execution_count": null,
   "id": "0fb52940-a12c-4300-aaf3-695f078b68bb",
   "metadata": {},
   "outputs": [],
   "source": [
    "mol.get_all_distances()"
   ]
  },
  {
   "cell_type": "code",
   "execution_count": null,
   "id": "41e1bf06-52c8-4eff-8809-5d58a2f31175",
   "metadata": {},
   "outputs": [],
   "source": [
    "mol.get_dihedral(1,2,8,3)"
   ]
  },
  {
   "cell_type": "code",
   "execution_count": null,
   "id": "518382a3-b241-4b4f-a855-2c405d6197c3",
   "metadata": {},
   "outputs": [],
   "source": [
    "mol.get_distance(2,8) # O-H distance"
   ]
  },
  {
   "cell_type": "code",
   "execution_count": null,
   "id": "76db2bee-4eca-4d89-81a7-55336d0b7a9b",
   "metadata": {},
   "outputs": [],
   "source": [
    "mol.get_potential_energy()"
   ]
  },
  {
   "cell_type": "code",
   "execution_count": null,
   "id": "d0dedfa6-4766-4a77-8934-0b6f8a8d5317",
   "metadata": {},
   "outputs": [],
   "source": [
    "mol.set_distance(2,8,1.7) # O-H distance"
   ]
  },
  {
   "cell_type": "code",
   "execution_count": null,
   "id": "a7a8c3a6-620d-4b6b-b5f0-ab1cd22d2a85",
   "metadata": {},
   "outputs": [],
   "source": [
    "mol.get_potential_energy()"
   ]
  },
  {
   "cell_type": "code",
   "execution_count": null,
   "id": "fc189814-f844-4543-afde-fab383903e97",
   "metadata": {},
   "outputs": [],
   "source": [
    "import numpy as np\n",
    "en = np.array([])\n",
    "dist =  np.array([])\n",
    "for r in np.arange(0.8,4.0,0.01):\n",
    "    mol.set_distance(2,8,r) # O-H distance\n",
    "    dist = np.append(dist,mol.get_distance(2,8))\n",
    "    en = np.append(en,mol.get_potential_energy())"
   ]
  },
  {
   "cell_type": "code",
   "execution_count": null,
   "id": "b75a8f20-b80c-448e-89d1-06da7212cd37",
   "metadata": {},
   "outputs": [],
   "source": [
    "en = en - min(en) # Remove minimum energy offset"
   ]
  },
  {
   "cell_type": "code",
   "execution_count": null,
   "id": "f244e38e-09f2-43dc-a9ea-7328f0f3c114",
   "metadata": {},
   "outputs": [],
   "source": [
    "import plotly.express as px\n",
    "\n",
    "fig = px.line(x=dist, y=[en])\n",
    "\n",
    "fig.show()"
   ]
  },
  {
   "cell_type": "code",
   "execution_count": null,
   "id": "e9ed16c8-c6af-4aa2-9bff-4d72287e1f17",
   "metadata": {},
   "outputs": [],
   "source": [
    "mol.get_angle(1,2,8)"
   ]
  },
  {
   "cell_type": "code",
   "execution_count": null,
   "id": "aa5f0e45-c4b2-4754-b031-ac782c56d944",
   "metadata": {},
   "outputs": [],
   "source": [
    "mol.set_angle(1,2,8, 20)\n",
    "mol.set_distance(2,8, 0.97) # O-H distance"
   ]
  },
  {
   "cell_type": "code",
   "execution_count": null,
   "id": "a975be0a-d895-4079-ab27-d4fbc1ee9fa8",
   "metadata": {},
   "outputs": [],
   "source": [
    "ena = np.array([])\n",
    "ang = np.array([])\n",
    "for a in np.arange(100,180,1):\n",
    "    mol.set_angle(1,2,8,a) # O-H distance\n",
    "    ang = np.append(ang,mol.get_angle(1,2,8))\n",
    "    ena = np.append(ena,mol.get_potential_energy())"
   ]
  },
  {
   "cell_type": "code",
   "execution_count": null,
   "id": "1707cc5e-7f31-4d34-863d-df82308a9f3f",
   "metadata": {},
   "outputs": [],
   "source": [
    "ena = ena - min(ena) # Remove minimum energy offset"
   ]
  },
  {
   "cell_type": "code",
   "execution_count": null,
   "id": "470c2365-ac39-4102-96e1-2da564a3fe0e",
   "metadata": {},
   "outputs": [],
   "source": [
    "fig = px.line(x=ang, y=[ena])\n",
    "\n",
    "fig.show()"
   ]
  },
  {
   "cell_type": "code",
   "execution_count": null,
   "id": "9b86d8ce-bbf1-4e55-9e8a-97fd2a13d62b",
   "metadata": {},
   "outputs": [],
   "source": [
    "max(ena)"
   ]
  },
  {
   "cell_type": "markdown",
   "id": "1c18f2dd-d185-41a1-accd-fee04d5e1dff",
   "metadata": {},
   "source": [
    "## Now scan both bond and angle"
   ]
  },
  {
   "cell_type": "code",
   "execution_count": null,
   "id": "942cc7bf-4ea0-40d7-bc2b-7eb438def194",
   "metadata": {},
   "outputs": [],
   "source": [
    "from ase.visualize import view"
   ]
  },
  {
   "cell_type": "code",
   "execution_count": null,
   "id": "5f6c611b-d309-4b5b-b8e9-767b5954fde7",
   "metadata": {},
   "outputs": [],
   "source": [
    "from ase.io import write\n",
    "write('molecule.png', mol)"
   ]
  },
  {
   "cell_type": "markdown",
   "id": "b37c2ec2-218e-4110-9537-492f5199b212",
   "metadata": {},
   "source": [
    "### 3D Plot concept\n",
    "Need grid of data"
   ]
  },
  {
   "cell_type": "code",
   "execution_count": null,
   "id": "f7b761c9-7c80-4afe-ae2a-6cd59d3158aa",
   "metadata": {},
   "outputs": [],
   "source": []
  },
  {
   "cell_type": "code",
   "execution_count": null,
   "id": "52d72d2c-d30a-44be-abff-4b242a693ece",
   "metadata": {},
   "outputs": [],
   "source": [
    "import matplotlib.pyplot as plt\n",
    "from matplotlib import cm\n",
    "from matplotlib.ticker import LinearLocator\n",
    "import numpy as np\n",
    "\n",
    "fig, ax = plt.subplots(subplot_kw={\"projection\": \"3d\"})\n",
    "\n",
    "# Make data.\n",
    "X = np.arange(-5, 5, 0.25)\n",
    "Y = np.arange(-5, 5, 0.25)\n",
    "X, Y = np.meshgrid(X, Y)\n",
    "R = np.sqrt(X**2 + Y**2)\n",
    "Z = np.sin(R)\n",
    "\n",
    "# Plot the surface.\n",
    "surf = ax.plot_surface(X, Y, Z, cmap=cm.coolwarm,\n",
    "                       linewidth=0, antialiased=False)\n",
    "\n",
    "# Customize the z axis.\n",
    "ax.set_zlim(-1.01, 1.01)\n",
    "ax.zaxis.set_major_locator(LinearLocator(10))\n",
    "# A StrMethodFormatter is used automatically\n",
    "ax.zaxis.set_major_formatter('{x:.02f}')\n",
    "\n",
    "# Add a color bar which maps values to colors.\n",
    "fig.colorbar(surf, shrink=0.5, aspect=5)\n",
    "\n",
    "plt.show()"
   ]
  },
  {
   "cell_type": "code",
   "execution_count": null,
   "id": "99fa322f-d3e9-4c12-a46a-97cd00516e55",
   "metadata": {},
   "outputs": [],
   "source": [
    "from mpl_toolkits.mplot3d.axes3d import get_test_data"
   ]
  },
  {
   "cell_type": "code",
   "execution_count": null,
   "id": "fd70df03-96f1-4f86-bd73-def9f227f378",
   "metadata": {},
   "outputs": [],
   "source": [
    "X, Y, Z = get_test_data(0.05)"
   ]
  },
  {
   "cell_type": "code",
   "execution_count": null,
   "id": "a1fd818b-d717-4c75-9c5a-d0c2fb797a1e",
   "metadata": {},
   "outputs": [],
   "source": [
    "Y"
   ]
  },
  {
   "cell_type": "code",
   "execution_count": null,
   "id": "3b06cfa4-f2b7-40f8-be33-c8d57ac25e04",
   "metadata": {},
   "outputs": [],
   "source": [
    "import numpy as np\n",
    "import matplotlib.pyplot as plt\n",
    "from scipy.interpolate import RegularGridInterpolator\n",
    "\n",
    "vel=np.random.random((21,30))\n",
    "#grid old\n",
    "x=np.arange(0,21,1)\n",
    "y=np.arange(0,30,1)\n",
    "grid_old=(x,y)\n",
    "\n",
    "#grid new\n",
    "# the limits of the interpolated x and y val have to be less than the original grid\n",
    "x_new=np.arange(0.1,19.9,0.1)\n",
    "y_new=np.arange(0.1,28.9,0.1)\n",
    "grid_new = np.meshgrid(x_new, y_new)\n",
    "grid_flattened = np.transpose(np.array([k.flatten() for k in grid_new]))\n",
    "\n",
    "#Interpolation onto a finer grid\n",
    "grid_interpol = RegularGridInterpolator(grid_old,vel,method='linear')\n",
    "vel_interpol = grid_interpol(grid_flattened)\n",
    "\n",
    "#Unflatten the interpolated velocities and store into a new variable.\n",
    "index=0\n",
    "vel_new=np.zeros((len(x_new),len(y_new)))\n",
    "for i in  range(len(x_new)):\n",
    "    for j in range(len(y_new)):\n",
    "        vel_new[i,j] =vel_interpol[index]\n",
    "        index+=1\n",
    "\n",
    "fig=plt.figure()\n",
    "ax=fig.add_subplot(111,projection='3d')\n",
    "surf=ax.plot_surface(grid_new[0],grid_new[1],vel_new.T, cmap=\"RdBu\") \n",
    "fig.set_size_inches(10,10) \n",
    "plt.show()"
   ]
  },
  {
   "cell_type": "code",
   "execution_count": null,
   "id": "414e1ea4-7ce9-4072-afbd-efc65e837169",
   "metadata": {},
   "outputs": [],
   "source": [
    "import numpy as np\n",
    "import scipy as sp\n",
    "import matplotlib.pyplot as plt\n",
    "import scipy.interpolate\n",
    "from mpl_toolkits.mplot3d import Axes3D\n",
    "\n",
    "x = np.random.random(10)\n",
    "y = np.random.random(10)\n",
    "z = np.random.random(10)\n",
    "\n",
    "spline = sp.interpolate.Rbf(x,y,z,function='thin-plate')\n",
    "\n",
    "xi = np.linspace(x.min(), x.max(), 50)\n",
    "yi = np.linspace(y.min(), y.max(), 50)\n",
    "xi, yi = np.meshgrid(xi, yi)\n",
    "\n",
    "zi = spline(xi,yi)\n",
    "\n",
    "fig = plt.figure()\n",
    "ax = Axes3D(fig)\n",
    "ax.plot_surface(xi,yi,zi)\n",
    "plt.show()"
   ]
  },
  {
   "cell_type": "markdown",
   "id": "38cd44c4-f248-43bf-975f-8881f5a5810b",
   "metadata": {},
   "source": [
    "## Molecular Dynamics"
   ]
  },
  {
   "cell_type": "code",
   "execution_count": null,
   "id": "67526889-4ae3-409d-892b-e34681365861",
   "metadata": {},
   "outputs": [],
   "source": [
    "from ase.md.velocitydistribution import (MaxwellBoltzmannDistribution,Stationary, ZeroRotation)\n",
    "from ase.md.verlet import VelocityVerlet\n",
    "from ase.md import MDLogger\n",
    "from ase import units\n",
    "from ase.io.trajectory import Trajectory"
   ]
  },
  {
   "cell_type": "code",
   "execution_count": null,
   "id": "86374e02-36a5-4a18-b0da-7c7673127984",
   "metadata": {},
   "outputs": [],
   "source": [
    "# Set the momenta corresponding to T=300K\n",
    "MaxwellBoltzmannDistribution(mol, temperature_K=300)\n",
    "# We want to run MD with constant energy using the VelocityVerlet algorithm.\n",
    "Stationary(mol)  # zero linear momentum\n",
    "ZeroRotation(mol)  # zero angular momentum\n",
    "\n",
    "dyn = VelocityVerlet(mol, 1 * units.fs)  # 5 fs time step.\n",
    "\n",
    "def printenergy(a=mol):  # store a reference to atoms in the definition.\n",
    "    \"\"\"Function to print the potential, kinetic and total energy.\"\"\"\n",
    "    epot = a.get_potential_energy() / len(a)\n",
    "    ekin = a.get_kinetic_energy() / len(a)\n",
    "    bd = a.get_distance(1,8)\n",
    "    print('Energy per atom: Epot = %.3feV  Ekin = %.3feV (T=%3.0fK)  '\n",
    "          'Etot = %.3feV' % (epot, ekin, ekin / (1.5 * units.kB), epot + ekin))"
   ]
  },
  {
   "cell_type": "code",
   "execution_count": null,
   "id": "1f36a726-806e-4065-8f8d-072e291037cd",
   "metadata": {},
   "outputs": [],
   "source": [
    "dyn.attach(printenergy, interval=50)\n",
    "dyn.attach(MDLogger(dyn, mol, 'md.log', header=True, stress=False,\n",
    "           peratom=True, mode=\"a\"), interval=10)\n",
    "\n",
    "# We also want to save the positions of all atoms after every 100th time step.\n",
    "traj = Trajectory('moldyn3.traj', 'w', mol)\n",
    "dyn.attach(traj.write, interval=50)"
   ]
  },
  {
   "cell_type": "markdown",
   "id": "29452f26-69ab-4821-bc34-8b36e30c2b9b",
   "metadata": {},
   "source": [
    "#### Now run the dynamics"
   ]
  },
  {
   "cell_type": "code",
   "execution_count": 24,
   "id": "8d0422c1-95e8-49ee-a9ed-414c29315737",
   "metadata": {},
   "outputs": [
    {
     "ename": "KeyboardInterrupt",
     "evalue": "",
     "output_type": "error",
     "traceback": [
      "\u001b[0;31m---------------------------------------------------------------------------\u001b[0m",
      "\u001b[0;31mKeyboardInterrupt\u001b[0m                         Traceback (most recent call last)",
      "Cell \u001b[0;32mIn[24], line 1\u001b[0m\n\u001b[0;32m----> 1\u001b[0m \u001b[43mqn\u001b[49m\u001b[38;5;241;43m.\u001b[39;49m\u001b[43mrun\u001b[49m\u001b[43m(\u001b[49m\u001b[38;5;241;43m1e-5\u001b[39;49m\u001b[43m,\u001b[49m\u001b[43m \u001b[49m\u001b[38;5;241;43m100\u001b[39;49m\u001b[43m)\u001b[49m\n",
      "File \u001b[0;32m/opt/conda/lib/python3.10/site-packages/ase/optimize/optimize.py:269\u001b[0m, in \u001b[0;36mOptimizer.run\u001b[0;34m(self, fmax, steps)\u001b[0m\n\u001b[1;32m    267\u001b[0m \u001b[38;5;28;01mif\u001b[39;00m steps:\n\u001b[1;32m    268\u001b[0m     \u001b[38;5;28mself\u001b[39m\u001b[38;5;241m.\u001b[39mmax_steps \u001b[38;5;241m=\u001b[39m steps\n\u001b[0;32m--> 269\u001b[0m \u001b[38;5;28;01mreturn\u001b[39;00m \u001b[43mDynamics\u001b[49m\u001b[38;5;241;43m.\u001b[39;49m\u001b[43mrun\u001b[49m\u001b[43m(\u001b[49m\u001b[38;5;28;43mself\u001b[39;49m\u001b[43m)\u001b[49m\n",
      "File \u001b[0;32m/opt/conda/lib/python3.10/site-packages/ase/optimize/optimize.py:156\u001b[0m, in \u001b[0;36mDynamics.run\u001b[0;34m(self)\u001b[0m\n\u001b[1;32m    149\u001b[0m \u001b[38;5;28;01mdef\u001b[39;00m \u001b[38;5;21mrun\u001b[39m(\u001b[38;5;28mself\u001b[39m):\n\u001b[1;32m    150\u001b[0m \u001b[38;5;250m    \u001b[39m\u001b[38;5;124;03m\"\"\"Run dynamics algorithm.\u001b[39;00m\n\u001b[1;32m    151\u001b[0m \n\u001b[1;32m    152\u001b[0m \u001b[38;5;124;03m    This method will return when the forces on all individual\u001b[39;00m\n\u001b[1;32m    153\u001b[0m \u001b[38;5;124;03m    atoms are less than *fmax* or when the number of steps exceeds\u001b[39;00m\n\u001b[1;32m    154\u001b[0m \u001b[38;5;124;03m    *steps*.\"\"\"\u001b[39;00m\n\u001b[0;32m--> 156\u001b[0m     \u001b[38;5;28;01mfor\u001b[39;00m converged \u001b[38;5;129;01min\u001b[39;00m Dynamics\u001b[38;5;241m.\u001b[39mirun(\u001b[38;5;28mself\u001b[39m):\n\u001b[1;32m    157\u001b[0m         \u001b[38;5;28;01mpass\u001b[39;00m\n\u001b[1;32m    158\u001b[0m     \u001b[38;5;28;01mreturn\u001b[39;00m converged\n",
      "File \u001b[0;32m/opt/conda/lib/python3.10/site-packages/ase/optimize/optimize.py:135\u001b[0m, in \u001b[0;36mDynamics.irun\u001b[0;34m(self)\u001b[0m\n\u001b[1;32m    131\u001b[0m \u001b[38;5;66;03m# run the algorithm until converged or max_steps reached\u001b[39;00m\n\u001b[1;32m    132\u001b[0m \u001b[38;5;28;01mwhile\u001b[39;00m \u001b[38;5;129;01mnot\u001b[39;00m \u001b[38;5;28mself\u001b[39m\u001b[38;5;241m.\u001b[39mconverged() \u001b[38;5;129;01mand\u001b[39;00m \u001b[38;5;28mself\u001b[39m\u001b[38;5;241m.\u001b[39mnsteps \u001b[38;5;241m<\u001b[39m \u001b[38;5;28mself\u001b[39m\u001b[38;5;241m.\u001b[39mmax_steps:\n\u001b[1;32m    133\u001b[0m \n\u001b[1;32m    134\u001b[0m     \u001b[38;5;66;03m# compute the next step\u001b[39;00m\n\u001b[0;32m--> 135\u001b[0m     \u001b[38;5;28;43mself\u001b[39;49m\u001b[38;5;241;43m.\u001b[39;49m\u001b[43mstep\u001b[49m\u001b[43m(\u001b[49m\u001b[43m)\u001b[49m\n\u001b[1;32m    136\u001b[0m     \u001b[38;5;28mself\u001b[39m\u001b[38;5;241m.\u001b[39mnsteps \u001b[38;5;241m+\u001b[39m\u001b[38;5;241m=\u001b[39m \u001b[38;5;241m1\u001b[39m\n\u001b[1;32m    138\u001b[0m     \u001b[38;5;66;03m# let the user inspect the step and change things before logging\u001b[39;00m\n\u001b[1;32m    139\u001b[0m     \u001b[38;5;66;03m# and predicting the next step\u001b[39;00m\n",
      "File \u001b[0;32m/opt/conda/lib/python3.10/site-packages/ase/optimize/bfgslinesearch.py:122\u001b[0m, in \u001b[0;36mBFGSLineSearch.step\u001b[0;34m(self, f)\u001b[0m\n\u001b[1;32m    119\u001b[0m     \u001b[38;5;28mself\u001b[39m\u001b[38;5;241m.\u001b[39mp \u001b[38;5;241m/\u001b[39m\u001b[38;5;241m=\u001b[39m (p_size \u001b[38;5;241m/\u001b[39m np\u001b[38;5;241m.\u001b[39msqrt(\u001b[38;5;28mlen\u001b[39m(atoms)\u001b[38;5;241m*\u001b[39m\u001b[38;5;241m1e-10\u001b[39m))\n\u001b[1;32m    120\u001b[0m ls \u001b[38;5;241m=\u001b[39m LineSearch()\n\u001b[1;32m    121\u001b[0m \u001b[38;5;28mself\u001b[39m\u001b[38;5;241m.\u001b[39malpha_k, e, \u001b[38;5;28mself\u001b[39m\u001b[38;5;241m.\u001b[39me0, \u001b[38;5;28mself\u001b[39m\u001b[38;5;241m.\u001b[39mno_update \u001b[38;5;241m=\u001b[39m \\\n\u001b[0;32m--> 122\u001b[0m     \u001b[43mls\u001b[49m\u001b[38;5;241;43m.\u001b[39;49m\u001b[43m_line_search\u001b[49m\u001b[43m(\u001b[49m\u001b[38;5;28;43mself\u001b[39;49m\u001b[38;5;241;43m.\u001b[39;49m\u001b[43mfunc\u001b[49m\u001b[43m,\u001b[49m\u001b[43m \u001b[49m\u001b[38;5;28;43mself\u001b[39;49m\u001b[38;5;241;43m.\u001b[39;49m\u001b[43mfprime\u001b[49m\u001b[43m,\u001b[49m\u001b[43m \u001b[49m\u001b[43mr\u001b[49m\u001b[43m,\u001b[49m\u001b[43m \u001b[49m\u001b[38;5;28;43mself\u001b[39;49m\u001b[38;5;241;43m.\u001b[39;49m\u001b[43mp\u001b[49m\u001b[43m,\u001b[49m\u001b[43m \u001b[49m\u001b[43mg\u001b[49m\u001b[43m,\u001b[49m\u001b[43m \u001b[49m\u001b[43me\u001b[49m\u001b[43m,\u001b[49m\u001b[43m \u001b[49m\u001b[38;5;28;43mself\u001b[39;49m\u001b[38;5;241;43m.\u001b[39;49m\u001b[43me0\u001b[49m\u001b[43m,\u001b[49m\n\u001b[1;32m    123\u001b[0m \u001b[43m                    \u001b[49m\u001b[43mmaxstep\u001b[49m\u001b[38;5;241;43m=\u001b[39;49m\u001b[38;5;28;43mself\u001b[39;49m\u001b[38;5;241;43m.\u001b[39;49m\u001b[43mmaxstep\u001b[49m\u001b[43m,\u001b[49m\u001b[43m \u001b[49m\u001b[43mc1\u001b[49m\u001b[38;5;241;43m=\u001b[39;49m\u001b[38;5;28;43mself\u001b[39;49m\u001b[38;5;241;43m.\u001b[39;49m\u001b[43mc1\u001b[49m\u001b[43m,\u001b[49m\n\u001b[1;32m    124\u001b[0m \u001b[43m                    \u001b[49m\u001b[43mc2\u001b[49m\u001b[38;5;241;43m=\u001b[39;49m\u001b[38;5;28;43mself\u001b[39;49m\u001b[38;5;241;43m.\u001b[39;49m\u001b[43mc2\u001b[49m\u001b[43m,\u001b[49m\u001b[43m \u001b[49m\u001b[43mstpmax\u001b[49m\u001b[38;5;241;43m=\u001b[39;49m\u001b[38;5;28;43mself\u001b[39;49m\u001b[38;5;241;43m.\u001b[39;49m\u001b[43mstpmax\u001b[49m\u001b[43m)\u001b[49m\n\u001b[1;32m    125\u001b[0m \u001b[38;5;28;01mif\u001b[39;00m \u001b[38;5;28mself\u001b[39m\u001b[38;5;241m.\u001b[39malpha_k \u001b[38;5;129;01mis\u001b[39;00m \u001b[38;5;28;01mNone\u001b[39;00m:\n\u001b[1;32m    126\u001b[0m     \u001b[38;5;28;01mraise\u001b[39;00m \u001b[38;5;167;01mRuntimeError\u001b[39;00m(\u001b[38;5;124m\"\u001b[39m\u001b[38;5;124mLineSearch failed!\u001b[39m\u001b[38;5;124m\"\u001b[39m)\n",
      "File \u001b[0;32m/opt/conda/lib/python3.10/site-packages/ase/utils/linesearch.py:57\u001b[0m, in \u001b[0;36mLineSearch._line_search\u001b[0;34m(self, func, myfprime, xk, pk, gfk, old_fval, old_old_fval, maxstep, c1, c2, xtrapl, xtrapu, stpmax, stpmin, args)\u001b[0m\n\u001b[1;32m     55\u001b[0m \u001b[38;5;28;01mif\u001b[39;00m \u001b[38;5;28mself\u001b[39m\u001b[38;5;241m.\u001b[39mtask[:\u001b[38;5;241m2\u001b[39m] \u001b[38;5;241m==\u001b[39m \u001b[38;5;124m'\u001b[39m\u001b[38;5;124mFG\u001b[39m\u001b[38;5;124m'\u001b[39m:\n\u001b[1;32m     56\u001b[0m     alpha1 \u001b[38;5;241m=\u001b[39m stp\n\u001b[0;32m---> 57\u001b[0m     fval \u001b[38;5;241m=\u001b[39m \u001b[43mfunc\u001b[49m\u001b[43m(\u001b[49m\u001b[43mxk\u001b[49m\u001b[43m \u001b[49m\u001b[38;5;241;43m+\u001b[39;49m\u001b[43m \u001b[49m\u001b[43mstp\u001b[49m\u001b[43m \u001b[49m\u001b[38;5;241;43m*\u001b[39;49m\u001b[43m \u001b[49m\u001b[43mpk\u001b[49m\u001b[43m,\u001b[49m\u001b[43m \u001b[49m\u001b[38;5;241;43m*\u001b[39;49m\u001b[43margs\u001b[49m\u001b[43m)\u001b[49m\n\u001b[1;32m     58\u001b[0m     \u001b[38;5;28mself\u001b[39m\u001b[38;5;241m.\u001b[39mfc \u001b[38;5;241m+\u001b[39m\u001b[38;5;241m=\u001b[39m \u001b[38;5;241m1\u001b[39m\n\u001b[1;32m     59\u001b[0m     gval \u001b[38;5;241m=\u001b[39m fprime(xk \u001b[38;5;241m+\u001b[39m stp \u001b[38;5;241m*\u001b[39m pk, \u001b[38;5;241m*\u001b[39mnewargs)\n",
      "File \u001b[0;32m/opt/conda/lib/python3.10/site-packages/ase/optimize/bfgslinesearch.py:171\u001b[0m, in \u001b[0;36mBFGSLineSearch.func\u001b[0;34m(self, x)\u001b[0m\n\u001b[1;32m    169\u001b[0m \u001b[38;5;28mself\u001b[39m\u001b[38;5;241m.\u001b[39mfunction_calls \u001b[38;5;241m+\u001b[39m\u001b[38;5;241m=\u001b[39m \u001b[38;5;241m1\u001b[39m\n\u001b[1;32m    170\u001b[0m \u001b[38;5;66;03m# Scale the problem as SciPy uses I as initial Hessian.\u001b[39;00m\n\u001b[0;32m--> 171\u001b[0m \u001b[38;5;28;01mreturn\u001b[39;00m (\u001b[38;5;28;43mself\u001b[39;49m\u001b[38;5;241;43m.\u001b[39;49m\u001b[43matoms\u001b[49m\u001b[38;5;241;43m.\u001b[39;49m\u001b[43mget_potential_energy\u001b[49m\u001b[43m(\u001b[49m\n\u001b[1;32m    172\u001b[0m \u001b[43m        \u001b[49m\u001b[43mforce_consistent\u001b[49m\u001b[38;5;241;43m=\u001b[39;49m\u001b[38;5;28;43mself\u001b[39;49m\u001b[38;5;241;43m.\u001b[39;49m\u001b[43mforce_consistent\u001b[49m\u001b[43m)\u001b[49m \u001b[38;5;241m/\u001b[39m \u001b[38;5;28mself\u001b[39m\u001b[38;5;241m.\u001b[39malpha)\n",
      "File \u001b[0;32m/opt/conda/lib/python3.10/site-packages/ase/atoms.py:731\u001b[0m, in \u001b[0;36mAtoms.get_potential_energy\u001b[0;34m(self, force_consistent, apply_constraint)\u001b[0m\n\u001b[1;32m    728\u001b[0m     energy \u001b[38;5;241m=\u001b[39m \u001b[38;5;28mself\u001b[39m\u001b[38;5;241m.\u001b[39m_calc\u001b[38;5;241m.\u001b[39mget_potential_energy(\n\u001b[1;32m    729\u001b[0m         \u001b[38;5;28mself\u001b[39m, force_consistent\u001b[38;5;241m=\u001b[39mforce_consistent)\n\u001b[1;32m    730\u001b[0m \u001b[38;5;28;01melse\u001b[39;00m:\n\u001b[0;32m--> 731\u001b[0m     energy \u001b[38;5;241m=\u001b[39m \u001b[38;5;28;43mself\u001b[39;49m\u001b[38;5;241;43m.\u001b[39;49m\u001b[43m_calc\u001b[49m\u001b[38;5;241;43m.\u001b[39;49m\u001b[43mget_potential_energy\u001b[49m\u001b[43m(\u001b[49m\u001b[38;5;28;43mself\u001b[39;49m\u001b[43m)\u001b[49m\n\u001b[1;32m    732\u001b[0m \u001b[38;5;28;01mif\u001b[39;00m apply_constraint:\n\u001b[1;32m    733\u001b[0m     \u001b[38;5;28;01mfor\u001b[39;00m constraint \u001b[38;5;129;01min\u001b[39;00m \u001b[38;5;28mself\u001b[39m\u001b[38;5;241m.\u001b[39mconstraints:\n",
      "File \u001b[0;32m/opt/conda/lib/python3.10/site-packages/ase/calculators/calculator.py:709\u001b[0m, in \u001b[0;36mCalculator.get_potential_energy\u001b[0;34m(self, atoms, force_consistent)\u001b[0m\n\u001b[1;32m    708\u001b[0m \u001b[38;5;28;01mdef\u001b[39;00m \u001b[38;5;21mget_potential_energy\u001b[39m(\u001b[38;5;28mself\u001b[39m, atoms\u001b[38;5;241m=\u001b[39m\u001b[38;5;28;01mNone\u001b[39;00m, force_consistent\u001b[38;5;241m=\u001b[39m\u001b[38;5;28;01mFalse\u001b[39;00m):\n\u001b[0;32m--> 709\u001b[0m     energy \u001b[38;5;241m=\u001b[39m \u001b[38;5;28;43mself\u001b[39;49m\u001b[38;5;241;43m.\u001b[39;49m\u001b[43mget_property\u001b[49m\u001b[43m(\u001b[49m\u001b[38;5;124;43m'\u001b[39;49m\u001b[38;5;124;43menergy\u001b[39;49m\u001b[38;5;124;43m'\u001b[39;49m\u001b[43m,\u001b[49m\u001b[43m \u001b[49m\u001b[43matoms\u001b[49m\u001b[43m)\u001b[49m\n\u001b[1;32m    710\u001b[0m     \u001b[38;5;28;01mif\u001b[39;00m force_consistent:\n\u001b[1;32m    711\u001b[0m         \u001b[38;5;28;01mif\u001b[39;00m \u001b[38;5;124m'\u001b[39m\u001b[38;5;124mfree_energy\u001b[39m\u001b[38;5;124m'\u001b[39m \u001b[38;5;129;01mnot\u001b[39;00m \u001b[38;5;129;01min\u001b[39;00m \u001b[38;5;28mself\u001b[39m\u001b[38;5;241m.\u001b[39mresults:\n",
      "File \u001b[0;32m/opt/conda/lib/python3.10/site-packages/ase/calculators/calculator.py:737\u001b[0m, in \u001b[0;36mCalculator.get_property\u001b[0;34m(self, name, atoms, allow_calculation)\u001b[0m\n\u001b[1;32m    735\u001b[0m     \u001b[38;5;28;01mif\u001b[39;00m \u001b[38;5;129;01mnot\u001b[39;00m allow_calculation:\n\u001b[1;32m    736\u001b[0m         \u001b[38;5;28;01mreturn\u001b[39;00m \u001b[38;5;28;01mNone\u001b[39;00m\n\u001b[0;32m--> 737\u001b[0m     \u001b[38;5;28;43mself\u001b[39;49m\u001b[38;5;241;43m.\u001b[39;49m\u001b[43mcalculate\u001b[49m\u001b[43m(\u001b[49m\u001b[43matoms\u001b[49m\u001b[43m,\u001b[49m\u001b[43m \u001b[49m\u001b[43m[\u001b[49m\u001b[43mname\u001b[49m\u001b[43m]\u001b[49m\u001b[43m,\u001b[49m\u001b[43m \u001b[49m\u001b[43msystem_changes\u001b[49m\u001b[43m)\u001b[49m\n\u001b[1;32m    739\u001b[0m \u001b[38;5;28;01mif\u001b[39;00m name \u001b[38;5;129;01mnot\u001b[39;00m \u001b[38;5;129;01min\u001b[39;00m \u001b[38;5;28mself\u001b[39m\u001b[38;5;241m.\u001b[39mresults:\n\u001b[1;32m    740\u001b[0m     \u001b[38;5;66;03m# For some reason the calculator was not able to do what we want,\u001b[39;00m\n\u001b[1;32m    741\u001b[0m     \u001b[38;5;66;03m# and that is OK.\u001b[39;00m\n\u001b[1;32m    742\u001b[0m     \u001b[38;5;28;01mraise\u001b[39;00m PropertyNotImplementedError(\u001b[38;5;124m'\u001b[39m\u001b[38;5;132;01m{}\u001b[39;00m\u001b[38;5;124m not present in this \u001b[39m\u001b[38;5;124m'\u001b[39m\n\u001b[1;32m    743\u001b[0m                                       \u001b[38;5;124m'\u001b[39m\u001b[38;5;124mcalculation\u001b[39m\u001b[38;5;124m'\u001b[39m\u001b[38;5;241m.\u001b[39mformat(name))\n",
      "File \u001b[0;32m/opt/conda/lib/python3.10/site-packages/sgdml/intf/ase_calc.py:100\u001b[0m, in \u001b[0;36mSGDMLCalculator.calculate\u001b[0;34m(self, atoms, *args, **kwargs)\u001b[0m\n\u001b[1;32m     97\u001b[0m \u001b[38;5;66;03m# convert model units to ASE default units\u001b[39;00m\n\u001b[1;32m     98\u001b[0m r \u001b[38;5;241m=\u001b[39m np\u001b[38;5;241m.\u001b[39marray(atoms\u001b[38;5;241m.\u001b[39mget_positions()) \u001b[38;5;241m*\u001b[39m \u001b[38;5;28mself\u001b[39m\u001b[38;5;241m.\u001b[39mAng_to_R\n\u001b[0;32m--> 100\u001b[0m e, f \u001b[38;5;241m=\u001b[39m \u001b[38;5;28;43mself\u001b[39;49m\u001b[38;5;241;43m.\u001b[39;49m\u001b[43mgdml_predict\u001b[49m\u001b[38;5;241;43m.\u001b[39;49m\u001b[43mpredict\u001b[49m\u001b[43m(\u001b[49m\u001b[43mr\u001b[49m\u001b[38;5;241;43m.\u001b[39;49m\u001b[43mravel\u001b[49m\u001b[43m(\u001b[49m\u001b[43m)\u001b[49m\u001b[43m)\u001b[49m\n\u001b[1;32m    102\u001b[0m \u001b[38;5;66;03m# convert model units to ASE default units (eV and Ang)\u001b[39;00m\n\u001b[1;32m    103\u001b[0m e \u001b[38;5;241m*\u001b[39m\u001b[38;5;241m=\u001b[39m \u001b[38;5;28mself\u001b[39m\u001b[38;5;241m.\u001b[39mE_to_eV\n",
      "File \u001b[0;32m/opt/conda/lib/python3.10/site-packages/sgdml/predict.py:1278\u001b[0m, in \u001b[0;36mGDMLPredict.predict\u001b[0;34m(self, R, return_E)\u001b[0m\n\u001b[1;32m   1268\u001b[0m _predict_wo_wkr_starts_stops \u001b[38;5;241m=\u001b[39m partial(\n\u001b[1;32m   1269\u001b[0m     _predict_wkr,\n\u001b[1;32m   1270\u001b[0m     \u001b[38;5;28;01mNone\u001b[39;00m,\n\u001b[0;32m   (...)\u001b[0m\n\u001b[1;32m   1274\u001b[0m     chunk_size\u001b[38;5;241m=\u001b[39m\u001b[38;5;28mself\u001b[39m\u001b[38;5;241m.\u001b[39mchunk_size,\n\u001b[1;32m   1275\u001b[0m )\n\u001b[1;32m   1277\u001b[0m \u001b[38;5;28;01mif\u001b[39;00m \u001b[38;5;28mself\u001b[39m\u001b[38;5;241m.\u001b[39mnum_workers \u001b[38;5;241m==\u001b[39m \u001b[38;5;241m0\u001b[39m:\n\u001b[0;32m-> 1278\u001b[0m     E_F[i, :] \u001b[38;5;241m=\u001b[39m \u001b[43m_predict_wo_wkr_starts_stops\u001b[49m\u001b[43m(\u001b[49m\u001b[43m)\u001b[49m\n\u001b[1;32m   1279\u001b[0m \u001b[38;5;28;01melse\u001b[39;00m:\n\u001b[1;32m   1280\u001b[0m     E_F[i, :] \u001b[38;5;241m=\u001b[39m \u001b[38;5;28msum\u001b[39m(\n\u001b[1;32m   1281\u001b[0m         \u001b[38;5;28mself\u001b[39m\u001b[38;5;241m.\u001b[39mpool\u001b[38;5;241m.\u001b[39mimap_unordered(\n\u001b[1;32m   1282\u001b[0m             _predict_wo_wkr_starts_stops, \u001b[38;5;28mself\u001b[39m\u001b[38;5;241m.\u001b[39mwkr_starts_stops\n\u001b[1;32m   1283\u001b[0m         )\n\u001b[1;32m   1284\u001b[0m     )\n",
      "File \u001b[0;32m/opt/conda/lib/python3.10/site-packages/sgdml/predict.py:200\u001b[0m, in \u001b[0;36m_predict_wkr\u001b[0;34m(r, r_desc_d_desc, lat_and_inv, glob_id, wkr_start_stop, chunk_size)\u001b[0m\n\u001b[1;32m    196\u001b[0m     a_x2 \u001b[38;5;241m=\u001b[39m a_x2[:c_size]\n\u001b[1;32m    197\u001b[0m     mat52_base \u001b[38;5;241m=\u001b[39m mat52_base[:c_size]\n\u001b[1;32m    199\u001b[0m np\u001b[38;5;241m.\u001b[39msubtract(\n\u001b[0;32m--> 200\u001b[0m     \u001b[43mnp\u001b[49m\u001b[38;5;241;43m.\u001b[39;49m\u001b[43mbroadcast_to\u001b[49m\u001b[43m(\u001b[49m\u001b[43mr_desc\u001b[49m\u001b[43m,\u001b[49m\u001b[43m \u001b[49m\u001b[43mrj_desc_perms\u001b[49m\u001b[38;5;241;43m.\u001b[39;49m\u001b[43mshape\u001b[49m\u001b[43m)\u001b[49m,\n\u001b[1;32m    201\u001b[0m     rj_desc_perms,\n\u001b[1;32m    202\u001b[0m     out\u001b[38;5;241m=\u001b[39mdiff_ab_perms,\n\u001b[1;32m    203\u001b[0m )\n\u001b[1;32m    204\u001b[0m norm_ab_perms \u001b[38;5;241m=\u001b[39m sqrt5 \u001b[38;5;241m*\u001b[39m np\u001b[38;5;241m.\u001b[39mlinalg\u001b[38;5;241m.\u001b[39mnorm(diff_ab_perms, axis\u001b[38;5;241m=\u001b[39m\u001b[38;5;241m1\u001b[39m)\n\u001b[1;32m    206\u001b[0m np\u001b[38;5;241m.\u001b[39mexp(\u001b[38;5;241m-\u001b[39mnorm_ab_perms \u001b[38;5;241m*\u001b[39m sig_inv, out\u001b[38;5;241m=\u001b[39mmat52_base)\n",
      "File \u001b[0;32m<__array_function__ internals>:180\u001b[0m, in \u001b[0;36mbroadcast_to\u001b[0;34m(*args, **kwargs)\u001b[0m\n",
      "File \u001b[0;32m/opt/conda/lib/python3.10/site-packages/numpy/lib/stride_tricks.py:413\u001b[0m, in \u001b[0;36mbroadcast_to\u001b[0;34m(array, shape, subok)\u001b[0m\n\u001b[1;32m    367\u001b[0m \u001b[38;5;129m@array_function_dispatch\u001b[39m(_broadcast_to_dispatcher, module\u001b[38;5;241m=\u001b[39m\u001b[38;5;124m'\u001b[39m\u001b[38;5;124mnumpy\u001b[39m\u001b[38;5;124m'\u001b[39m)\n\u001b[1;32m    368\u001b[0m \u001b[38;5;28;01mdef\u001b[39;00m \u001b[38;5;21mbroadcast_to\u001b[39m(array, shape, subok\u001b[38;5;241m=\u001b[39m\u001b[38;5;28;01mFalse\u001b[39;00m):\n\u001b[1;32m    369\u001b[0m \u001b[38;5;250m    \u001b[39m\u001b[38;5;124;03m\"\"\"Broadcast an array to a new shape.\u001b[39;00m\n\u001b[1;32m    370\u001b[0m \n\u001b[1;32m    371\u001b[0m \u001b[38;5;124;03m    Parameters\u001b[39;00m\n\u001b[0;32m   (...)\u001b[0m\n\u001b[1;32m    411\u001b[0m \u001b[38;5;124;03m           [1, 2, 3]])\u001b[39;00m\n\u001b[1;32m    412\u001b[0m \u001b[38;5;124;03m    \"\"\"\u001b[39;00m\n\u001b[0;32m--> 413\u001b[0m     \u001b[38;5;28;01mreturn\u001b[39;00m \u001b[43m_broadcast_to\u001b[49m\u001b[43m(\u001b[49m\u001b[43marray\u001b[49m\u001b[43m,\u001b[49m\u001b[43m \u001b[49m\u001b[43mshape\u001b[49m\u001b[43m,\u001b[49m\u001b[43m \u001b[49m\u001b[43msubok\u001b[49m\u001b[38;5;241;43m=\u001b[39;49m\u001b[43msubok\u001b[49m\u001b[43m,\u001b[49m\u001b[43m \u001b[49m\u001b[43mreadonly\u001b[49m\u001b[38;5;241;43m=\u001b[39;49m\u001b[38;5;28;43;01mTrue\u001b[39;49;00m\u001b[43m)\u001b[49m\n",
      "File \u001b[0;32m/opt/conda/lib/python3.10/site-packages/numpy/lib/stride_tricks.py:345\u001b[0m, in \u001b[0;36m_broadcast_to\u001b[0;34m(array, shape, subok, readonly)\u001b[0m\n\u001b[1;32m    343\u001b[0m \u001b[38;5;28;01mif\u001b[39;00m \u001b[38;5;129;01mnot\u001b[39;00m shape \u001b[38;5;129;01mand\u001b[39;00m array\u001b[38;5;241m.\u001b[39mshape:\n\u001b[1;32m    344\u001b[0m     \u001b[38;5;28;01mraise\u001b[39;00m \u001b[38;5;167;01mValueError\u001b[39;00m(\u001b[38;5;124m'\u001b[39m\u001b[38;5;124mcannot broadcast a non-scalar to a scalar array\u001b[39m\u001b[38;5;124m'\u001b[39m)\n\u001b[0;32m--> 345\u001b[0m \u001b[38;5;28;01mif\u001b[39;00m \u001b[38;5;28many\u001b[39m(size \u001b[38;5;241m<\u001b[39m \u001b[38;5;241m0\u001b[39m \u001b[38;5;28;01mfor\u001b[39;00m size \u001b[38;5;129;01min\u001b[39;00m shape):\n\u001b[1;32m    346\u001b[0m     \u001b[38;5;28;01mraise\u001b[39;00m \u001b[38;5;167;01mValueError\u001b[39;00m(\u001b[38;5;124m'\u001b[39m\u001b[38;5;124mall elements of broadcast shape must be non-\u001b[39m\u001b[38;5;124m'\u001b[39m\n\u001b[1;32m    347\u001b[0m                      \u001b[38;5;124m'\u001b[39m\u001b[38;5;124mnegative\u001b[39m\u001b[38;5;124m'\u001b[39m)\n\u001b[1;32m    348\u001b[0m extras \u001b[38;5;241m=\u001b[39m []\n",
      "\u001b[0;31mKeyboardInterrupt\u001b[0m: "
     ]
    }
   ],
   "source": [
    "qn.run(1e-5, 100)"
   ]
  },
  {
   "cell_type": "code",
   "execution_count": null,
   "id": "26d3c15b-f1ab-478d-beb0-2ae17f6daf61",
   "metadata": {},
   "outputs": [
    {
     "name": "stderr",
     "output_type": "stream",
     "text": [
      "Process ForkPoolWorker-10:\n",
      "Process ForkPoolWorker-11:\n",
      "Traceback (most recent call last):\n",
      "  File \"/opt/conda/lib/python3.10/multiprocessing/process.py\", line 314, in _bootstrap\n",
      "    self.run()\n",
      "Traceback (most recent call last):\n",
      "  File \"/opt/conda/lib/python3.10/multiprocessing/process.py\", line 108, in run\n",
      "    self._target(*self._args, **self._kwargs)\n",
      "  File \"/opt/conda/lib/python3.10/multiprocessing/pool.py\", line 114, in worker\n",
      "    task = get()\n",
      "  File \"/opt/conda/lib/python3.10/multiprocessing/queues.py\", line 364, in get\n",
      "    with self._rlock:\n",
      "  File \"/opt/conda/lib/python3.10/multiprocessing/process.py\", line 314, in _bootstrap\n",
      "    self.run()\n",
      "  File \"/opt/conda/lib/python3.10/multiprocessing/synchronize.py\", line 95, in __enter__\n",
      "    return self._semlock.__enter__()\n",
      "KeyboardInterrupt\n",
      "  File \"/opt/conda/lib/python3.10/multiprocessing/process.py\", line 108, in run\n",
      "    self._target(*self._args, **self._kwargs)\n"
     ]
    }
   ],
   "source": [
    "printenergy(mol)\n",
    "for i in range(20):\n",
    "    dyn.run(200)\n",
    "    printenergy(mol)"
   ]
  },
  {
   "cell_type": "code",
   "execution_count": null,
   "id": "e75074ae-36e9-4c56-9348-e688ab634fed",
   "metadata": {},
   "outputs": [],
   "source": []
  }
 ],
 "metadata": {
  "kernelspec": {
   "display_name": "Python 3 (ipykernel)",
   "language": "python",
   "name": "python3"
  },
  "language_info": {
   "codemirror_mode": {
    "name": "ipython",
    "version": 3
   },
   "file_extension": ".py",
   "mimetype": "text/x-python",
   "name": "python",
   "nbconvert_exporter": "python",
   "pygments_lexer": "ipython3",
   "version": "3.10.8"
  }
 },
 "nbformat": 4,
 "nbformat_minor": 5
}
