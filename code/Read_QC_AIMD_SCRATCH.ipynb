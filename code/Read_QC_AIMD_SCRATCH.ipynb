{
 "cells": [
  {
   "cell_type": "markdown",
   "id": "322a50f3-71ac-43ba-9ff2-1e12280fa311",
   "metadata": {},
   "source": [
    "# Process QChem AIMD scratch files"
   ]
  },
  {
   "cell_type": "code",
   "execution_count": 1,
   "id": "6e5759eb-be8a-4b21-a4f2-8e6fbe07e16a",
   "metadata": {},
   "outputs": [],
   "source": [
    "import numpy as np\n",
    "import re\n",
    "from sgdml.utils import io\n",
    "from sgdml.predict import GDMLPredict\n",
    "from sgdml.utils import io, ui\n",
    "import argparse\n",
    "import os\n",
    "import sys\n",
    "from sgdml import __version__\n",
    "# from ase.io import read"
   ]
  },
  {
   "cell_type": "code",
   "execution_count": 2,
   "id": "016479a3-39c8-4662-aaf6-614bc4f86b5d",
   "metadata": {},
   "outputs": [
    {
     "name": "stderr",
     "output_type": "stream",
     "text": [
      "[INFO] NumExpr defaulting to 4 threads.\n"
     ]
    }
   ],
   "source": [
    "from datascience import *\n",
    "import pandas as pd\n",
    "import matplotlib\n",
    "from matplotlib import patches\n",
    "%matplotlib inline\n",
    "import matplotlib.pyplot as plt\n",
    "import seaborn as sns\n",
    "import warnings\n",
    "warnings.simplefilter('ignore', FutureWarning)\n",
    "plt.style.use('ggplot')"
   ]
  },
  {
   "cell_type": "markdown",
   "id": "86a6f5b8-8c26-4953-a65f-41757ec7ed81",
   "metadata": {
    "tags": []
   },
   "source": [
    "### Function: Read QChem output file"
   ]
  },
  {
   "cell_type": "code",
   "execution_count": 3,
   "id": "ba2b72f4-7ccf-4727-8b4e-6e7376918685",
   "metadata": {},
   "outputs": [],
   "source": [
    "def MDStep(file_name):\n",
    "    # Some regex expressions\n",
    "    num_str = re.compile('[+-]?\\d+\\.?\\d*') # to find numbers\n",
    "    time=re.compile(r'Time\\s\\(fs\\)\\s+(\\d+\\.\\d+)')\n",
    "    findforce=re.compile(r'Forces \\(Hartrees\\/Bohr\\)')\n",
    "    timestep = re.compile(r'TIME STEP #(\\d+)\\s\\(t = (d\\.\\d+)\\sa.u.\\s=\\s(d+\\.\\d+)')\n",
    "    coord=re.compile(r'X=\\s+([-]?\\d\\.\\d+)D([+-]+\\d+)\\sY=\\s+([-]?\\d\\.\\d+)D([+-]+\\d+)\\sZ=\\s+([-]?\\d\\.\\d+)D([+-]+\\d+)')\n",
    "    endcoord=re.compile(r'MW cartesian velocity\\:')\n",
    "    #######\n",
    "    temp = []\n",
    "    time = []\n",
    "    energy = []\n",
    "    crd = [] # store coordinates in 2D array\n",
    "    atoms = []\n",
    "    s = 1.0\n",
    "    step = 0\n",
    "    startdyn = 0\n",
    "    with open(file_name, 'r') as Qfile:\n",
    "        data=Qfile.readlines()\n",
    "    for i in range(len(data)):\n",
    "        # TIME STEP #1 (t = 0.000 a.u. = 0.00000 fs)\n",
    "        if i==8:\n",
    "             print(i,data[i])\n",
    "        if re.search(r'TIME STEP #',data[i]):\n",
    "            fsec = float(re.findall(r'=\\s(\\d+\\.\\d+)\\sfs',data[i])[0])\n",
    "            time.append(fsec)\n",
    "            startdyn = 1\n",
    "            # Instantaneous Temperature = 291.9 K\n",
    "        if re.search(r'Instantaneous Temperature =',data[i]):\n",
    "            temperature = float(re.findall(r'=\\s(\\d+\\.\\d+)\\sK',data[i])[0])\n",
    "            temp.append(temperature)\n",
    "            i+=1 # Move forward to coordinates\n",
    "            #    1      O       1.3875858765     0.0114645102     0.1090411228\n",
    "            #    2      H       1.7395762231     0.7248323964    -0.4529874171\n",
    "            #    3      H       1.7383622270    -0.7920238234    -0.2840530212\n",
    "            cols = []\n",
    "            a = []\n",
    "            i+=4 # skip forward to geometry\n",
    "            while re.search(r'----',data[i]) is None: \n",
    "                atom = re.findall(r'\\s([A-Z])\\s',data[i])\n",
    "                a.append(atom)\n",
    "                sx=re.findall(r'([-]?\\d\\.\\d+)\\s+',data[i])\n",
    "                cols.append(list(s*(1.0) for s in list(map(float, sx[0:3]))))                \n",
    "                i+=1\n",
    "            crd.append(cols)\n",
    "            atoms.append(a)\n",
    "        ## Find energy\n",
    "        if re.search(r'Total energy in the final basis set = ',data[i]):\n",
    "            total_energy = float(re.findall(r'=\\s+([-]?\\d+\\.\\d+)',data[i])[0])\n",
    "            energy.append(total_energy) \n",
    "    print(\"Completed read of file\\n Coordinates, time(fsec), temperature(K), energy(Hartree) returned...\")\n",
    "    \n",
    "    sR = np.array(crd)\n",
    "    energy = energy[1:]\n",
    "    return sR,time,temp,energy,atoms"
   ]
  },
  {
   "cell_type": "markdown",
   "id": "ba39411f-c5e5-4f72-9186-23c0af95877a",
   "metadata": {},
   "source": [
    "### Function: Read QChem AIMD Scratch"
   ]
  },
  {
   "cell_type": "code",
   "execution_count": 66,
   "id": "48747aaf-d3b7-4a7f-9f07-e41f249ca026",
   "metadata": {},
   "outputs": [],
   "source": [
    "def read_QChem_AIMD_scratch(NucCarts,NucForces,View,Energy):\n",
    "    n_atoms = None\n",
    "\n",
    "    R, z, E, F = [], [], [], []\n",
    "    for i, line in enumerate(NucCarts.split('\\n')):\n",
    "        if i ==0:\n",
    "            print(\"Heading labels: \",line)\n",
    "        else:\n",
    "            carts = line.strip().split()\n",
    "            if len(carts)<2:\n",
    "                break\n",
    "            time = carts[0]\n",
    "            n_atoms = int((len(carts)-1)/3)\n",
    "            R.append(list(map(float, carts[1::])))\n",
    "    ndata = np.shape(R)[0]\n",
    "    for i, line in enumerate(NucForces.split('\\n')):\n",
    "        if i ==0:\n",
    "            print(\"Heading labels: \",line)\n",
    "        else:\n",
    "            forces = line.strip().split()\n",
    "            if len(forces)<(n_atoms*3+1):\n",
    "                break\n",
    "            time = forces[0]\n",
    "            n_atoms = int((len(forces)-1)/3)\n",
    "            F.append(list(map(float, forces[1::])))\n",
    "    for i, line in enumerate(Energy.split('\\n')):\n",
    "        if i ==0:\n",
    "            print(\"Heading labels: \",line)\n",
    "        else:\n",
    "            en = line.strip().split()\n",
    "            if len(en) < 2:\n",
    "                break\n",
    "            time = en[0]\n",
    "            if i > 9997:\n",
    "                print(en[1].isnumeric(),en[1], line, en)\n",
    "            if i > ndata-1:\n",
    "                break\n",
    "            E.append(float(en[1])) # 4th column of TandV, 3rd of Energy\n",
    "    for i, line in enumerate(View.split('\\n')):\n",
    "        if i == 0:\n",
    "            number = int(line)\n",
    "            if number != n_atoms:\n",
    "                print(number,n_atoms,\" Do not agree on number of atoms!\")\n",
    "                break\n",
    "        elif i==1:\n",
    "            continue\n",
    "        elif i>n_atoms+1:\n",
    "            break # read first time step only\n",
    "        else:\n",
    "            z.append(io._z_str_to_z_dict[line[0]])  # From sgdml io to convert letter to atomic number, from sgdml.utils import io\n",
    "    print(z)\n",
    "    F = np.hstack(F)\n",
    "    fshape = np.shape(F)\n",
    "    ts = int(fshape[0]/(n_atoms*3))\n",
    "    print(fshape)\n",
    "    F = -F.reshape(-1, n_atoms, 3)* 2547 #0.529 #627.5/0.529 #1185.8 # Remove negative sign to shift between gradient and force\n",
    "    R = np.hstack(R)\n",
    "    R = R[:fshape[0]] # Limit size of carts to that of forces\n",
    "    R = R.reshape(-1,n_atoms, 3)\n",
    "    E = np.array(E[:ts])*627.51 # Limit size of carts to that of forces\n",
    "    print(\"Emax: %6.2f Emin: %6.2f\" %(np.max(E),np.min(E)))\n",
    "    Enorm = (E -np.min(E))\n",
    "    plt.hist(Enorm)\n",
    "    plt.title(\"Energy distribution\")\n",
    "    plt.savefig('EDist_h2o_read.png')\n",
    "    z = np.array(z)\n",
    "    print(\"Found\", n_atoms,\" atoms and \",ts,\" time steps.\")\n",
    "    return (R, z, E, F)"
   ]
  },
  {
   "cell_type": "code",
   "execution_count": 67,
   "id": "0dc34260-b760-4793-aa0b-81a4006f1fcf",
   "metadata": {},
   "outputs": [
    {
     "name": "stdout",
     "output_type": "stream",
     "text": [
      "Heading labels:  # Time/fs  Nuclear cartestian coordinates (angstroms)\n",
      "Heading labels:  # Time/fs  Nuclear cartesian forces (a.u.)\n",
      "Heading labels:  # Time/fs E(Total), V(Elec), V(One-E), V(Coul), V(Alpha Ex), V(Beta Ex), V(DFT Ex), V(DFT Corr), V(Nuc-Nuc), V(Nuc-Elec), T(Elec), T(Nuc), T(Fict)\n",
      "False -4.60710322e+02 4836.317331  -4.60710322e+02  -4.60774932e+02  6.93524996e-310  3.45845952e-323  6.93525013e-310  4.94065646e-324  6.93525013e-310 6.93525013e-310  6.93525013e-310   0.00000000e+00  6.93524996e-310   6.46099371e-02   0.00000000e+00 ['4836.317331', '-4.60710322e+02', '-4.60774932e+02', '6.93524996e-310', '3.45845952e-323', '6.93525013e-310', '4.94065646e-324', '6.93525013e-310', '6.93525013e-310', '6.93525013e-310', '0.00000000e+00', '6.93524996e-310', '6.46099371e-02', '0.00000000e+00']\n",
      "False -4.60710337e+02 4836.801108  -4.60710337e+02  -4.60776315e+02  6.93524996e-310  3.45845952e-323  6.93525013e-310  4.94065646e-324  6.93525013e-310 6.93525013e-310  6.93525013e-310   0.00000000e+00  6.93524996e-310   6.59781287e-02   0.00000000e+00 ['4836.801108', '-4.60710337e+02', '-4.60776315e+02', '6.93524996e-310', '3.45845952e-323', '6.93525013e-310', '4.94065646e-324', '6.93525013e-310', '6.93525013e-310', '6.93525013e-310', '0.00000000e+00', '6.93524996e-310', '6.59781287e-02', '0.00000000e+00']\n",
      "False -4.60710266e+02 4837.284885  -4.60710266e+02  -4.60774644e+02  6.93524996e-310  3.45845952e-323  6.93525013e-310  4.94065646e-324  6.93525013e-310 6.93525013e-310  6.93525013e-310   0.00000000e+00  6.93524996e-310   6.43777978e-02   0.00000000e+00 ['4837.284885', '-4.60710266e+02', '-4.60774644e+02', '6.93524996e-310', '3.45845952e-323', '6.93525013e-310', '4.94065646e-324', '6.93525013e-310', '6.93525013e-310', '6.93525013e-310', '0.00000000e+00', '6.93524996e-310', '6.43777978e-02', '0.00000000e+00']\n",
      "[1, 6]\n",
      "(60000,)\n",
      "Emax: -289100.03 Emin: -289100.36\n",
      "Found 2  atoms and  10000  time steps.\n"
     ]
    },
    {
     "data": {
      "image/png": "[encoded data removed]",
      "text/plain": [
       "<Figure size 640x480 with 1 Axes>"
      ]
     },
     "metadata": {},
     "output_type": "display_data"
    }
   ],
   "source": [
    "#sR,time,temp,energy,atoms = MDStep('data_h2o/h2o.out')\n",
    "#Enorm = enery -np.max(energy)\n",
    "#plt.hist(Enorm)\n",
    "path = 'data_HCl'\n",
    "Force = path+'/NucForces'\n",
    "with open(Force, 'r') as file:\n",
    "    NucForces = file.read()\n",
    "Carts = path+'/NucCarts'\n",
    "with open(Carts, 'r') as file:\n",
    "    NucCarts = file.read()\n",
    "View = path+'/View.xyz'\n",
    "with open(View, 'r') as file:\n",
    "    View = file.read()\n",
    "#Energy = path+'/TandV' # Change from EComponents which are constant\n",
    "# EComponents: Records various components of the total energy (all in hartree).\n",
    "Energy = path+'/EComponents' # Change from EComponents which are constant\n",
    "with open(Energy, 'r') as file:\n",
    "    Energy = file.read()\n",
    "R, z, E, F = read_QChem_AIMD_scratch(NucCarts,NucForces,View,Energy)\n",
    "name = \"H2O\"\n",
    "filename = name+\"_AIMD\"\n",
    "# Base variables contained in every model file.\n",
    "\n",
    "\n",
    "base_vars = {\n",
    "    'type': 'd',\n",
    "    'code_version': __version__,\n",
    "    'name': name,\n",
    "    'theory': 'QChem',\n",
    "    'R': R,\n",
    "    'z': z,\n",
    "    'F': F,\n",
    "}\n",
    "base_vars['r_unit'] = 'Ang'\n",
    "base_vars['e_unit'] = 'kcal/mol'"
   ]
  },
  {
   "cell_type": "code",
   "execution_count": 68,
   "id": "2ebc367e-0587-441a-9004-2ce115f27d02",
   "metadata": {
    "tags": []
   },
   "outputs": [
    {
     "data": {
      "text/plain": [
       "array([-289100.3266281 , -289100.24881686, -289100.12958996, ...,\n",
       "       -289100.33415822, -289100.34357087, -289100.29901766])"
      ]
     },
     "execution_count": 68,
     "metadata": {},
     "output_type": "execute_result"
    }
   ],
   "source": [
    "E"
   ]
  },
  {
   "cell_type": "markdown",
   "id": "8e9ac32e-9f5f-43cc-96b2-7d9e3c5ff5f2",
   "metadata": {},
   "source": [
    "### Look at Forces \n",
    "Compute numerically and compare to values given in F"
   ]
  },
  {
   "cell_type": "code",
   "execution_count": 69,
   "id": "137c0d2b-a9a5-4c22-9546-473b4f55870a",
   "metadata": {
    "tags": []
   },
   "outputs": [],
   "source": [
    "from datascience import *"
   ]
  },
  {
   "cell_type": "code",
   "execution_count": 70,
   "id": "36c6e398-b60d-4c1a-ad9e-17d824e05db2",
   "metadata": {
    "tags": []
   },
   "outputs": [
    {
     "data": {
      "text/plain": [
       "'/home/jovyan/MD_MLPES.git/code'"
      ]
     },
     "execution_count": 70,
     "metadata": {},
     "output_type": "execute_result"
    }
   ],
   "source": [
    "pwd"
   ]
  },
  {
   "cell_type": "code",
   "execution_count": 71,
   "id": "38e29ff2-f928-4c6f-8978-d767e3bef2ea",
   "metadata": {
    "tags": []
   },
   "outputs": [
    {
     "data": {
      "text/html": [
       "<table border=\"1\" class=\"dataframe\">\n",
       "    <thead>\n",
       "        <tr>\n",
       "            <th># Time/fs   E(total) - E(prev)  E(total) - E(initial)</th>\n",
       "        </tr>\n",
       "    </thead>\n",
       "    <tbody>\n",
       "        <tr>\n",
       "            <td>   0.000000     0.000000e+00     0.000000e+00        </td>\n",
       "        </tr>\n",
       "        <tr>\n",
       "            <td>   0.024189    -2.621618e-09    -2.621618e-09        </td>\n",
       "        </tr>\n",
       "        <tr>\n",
       "            <td>   0.048378    -2.460752e-09    -5.082370e-09        </td>\n",
       "        </tr>\n",
       "        <tr>\n",
       "            <td>   0.072567    -2.492300e-09    -7.574670e-09        </td>\n",
       "        </tr>\n",
       "        <tr>\n",
       "            <td>   0.096755    -2.512479e-09    -1.008715e-08        </td>\n",
       "        </tr>\n",
       "        <tr>\n",
       "            <td>   0.120944    -2.460581e-09    -1.254773e-08        </td>\n",
       "        </tr>\n",
       "        <tr>\n",
       "            <td>   0.145133    -2.328989e-09    -1.487672e-08        </td>\n",
       "        </tr>\n",
       "        <tr>\n",
       "            <td>   0.169322    -2.305455e-09    -1.718217e-08        </td>\n",
       "        </tr>\n",
       "        <tr>\n",
       "            <td>   0.193511    -2.298748e-09    -1.948092e-08        </td>\n",
       "        </tr>\n",
       "        <tr>\n",
       "            <td>   0.217700    -2.214790e-09    -2.169571e-08        </td>\n",
       "        </tr>\n",
       "    </tbody>\n",
       "</table>\n",
       "<p>... (2003 rows omitted)</p>"
      ],
      "text/plain": [
       "# Time/fs   E(total) - E(prev)  E(total) - E(initial)\n",
       "   0.000000     0.000000e+00     0.000000e+00\n",
       "   0.024189    -2.621618e-09    -2.621618e-09\n",
       "   0.048378    -2.460752e-09    -5.082370e-09\n",
       "   0.072567    -2.492300e-09    -7.574670e-09\n",
       "   0.096755    -2.512479e-09    -1.008715e-08\n",
       "   0.120944    -2.460581e-09    -1.254773e-08\n",
       "   0.145133    -2.328989e-09    -1.487672e-08\n",
       "   0.169322    -2.305455e-09    -1.718217e-08\n",
       "   0.193511    -2.298748e-09    -1.948092e-08\n",
       "   0.217700    -2.214790e-09    -2.169571e-08\n",
       "... (2003 rows omitted)"
      ]
     },
     "execution_count": 71,
     "metadata": {},
     "output_type": "execute_result"
    }
   ],
   "source": [
    "edata = Table.read_table('data/Energy')\n",
    "edata"
   ]
  },
  {
   "cell_type": "code",
   "execution_count": 72,
   "id": "244fc365-c4b5-49c8-b44b-f530f2b5db7c",
   "metadata": {
    "tags": []
   },
   "outputs": [
    {
     "data": {
      "text/plain": [
       "array(['   0.000000     0.000000e+00     0.000000e+00',\n",
       "       '   0.024189    -2.621618e-09    -2.621618e-09',\n",
       "       '   0.048378    -2.460752e-09    -5.082370e-09', ...,\n",
       "       '  48.619575    -7.144649e-10    -7.109759e-08',\n",
       "       '  48.643764    -7.695462e-10    -7.186713e-08',\n",
       "       '  48.667953    -8.064944e-10    -7.267363e-08'],\n",
       "      dtype='<U45')"
      ]
     },
     "execution_count": 72,
     "metadata": {},
     "output_type": "execute_result"
    }
   ],
   "source": [
    "edata[0]"
   ]
  },
  {
   "cell_type": "code",
   "execution_count": 73,
   "id": "74c299d0-1772-4d46-871b-29248af415d4",
   "metadata": {
    "tags": []
   },
   "outputs": [
    {
     "data": {
      "text/plain": [
       "(10000, 2, 3)"
      ]
     },
     "execution_count": 73,
     "metadata": {},
     "output_type": "execute_result"
    }
   ],
   "source": [
    "np.shape(F)"
   ]
  },
  {
   "cell_type": "code",
   "execution_count": 74,
   "id": "d9037c60-4ff4-4aac-8d35-4fa3c93d747e",
   "metadata": {
    "tags": []
   },
   "outputs": [
    {
     "data": {
      "text/plain": [
       "array([1, 6])"
      ]
     },
     "execution_count": 74,
     "metadata": {},
     "output_type": "execute_result"
    }
   ],
   "source": [
    "z"
   ]
  },
  {
   "cell_type": "code",
   "execution_count": 75,
   "id": "7587d6a6-647c-4ffe-bcb1-cf60bb42524b",
   "metadata": {
    "tags": []
   },
   "outputs": [
    {
     "data": {
      "text/plain": [
       "array([[ -1.44593106e-02,   4.37791554e-02,  -1.21838607e-03],\n",
       "       [  4.16728804e-04,  -1.26175000e-03,   3.51148528e-05]])"
      ]
     },
     "execution_count": 75,
     "metadata": {},
     "output_type": "execute_result"
    }
   ],
   "source": [
    "F[100]"
   ]
  },
  {
   "cell_type": "code",
   "execution_count": 76,
   "id": "3543bad5-5a70-4d7e-9107-56b47971e803",
   "metadata": {},
   "outputs": [
    {
     "data": {
      "text/plain": [
       "-0.10165662004146725"
      ]
     },
     "execution_count": 76,
     "metadata": {},
     "output_type": "execute_result"
    }
   ],
   "source": [
    "DelE = E[101]-E[99]\n",
    "DelE\n"
   ]
  },
  {
   "cell_type": "code",
   "execution_count": 10,
   "id": "0fd1fc0f-e065-4bee-837a-7e4a0ad435d0",
   "metadata": {
    "tags": []
   },
   "outputs": [
    {
     "data": {
      "text/plain": [
       "array([[-0.3935785 ,  1.166795  ,  0.00911785],\n",
       "       [ 0.01134324, -0.03362795,  0.03633962]])"
      ]
     },
     "execution_count": 10,
     "metadata": {},
     "output_type": "execute_result"
    }
   ],
   "source": [
    "R[100]"
   ]
  },
  {
   "cell_type": "code",
   "execution_count": 11,
   "id": "acf3ec4f-d502-4e47-9427-415b30e30b17",
   "metadata": {
    "tags": []
   },
   "outputs": [
    {
     "data": {
      "text/plain": [
       "array([[-0.0318293 ,  0.093978  ,  0.1438237 ],\n",
       "       [ 0.00091734, -0.00270851, -0.00414511]])"
      ]
     },
     "execution_count": 11,
     "metadata": {},
     "output_type": "execute_result"
    }
   ],
   "source": [
    "DelR = R[101]-R[99]\n",
    "DelR"
   ]
  },
  {
   "cell_type": "code",
   "execution_count": 12,
   "id": "2484f1e7-8f69-4170-b8c6-4e446706adaa",
   "metadata": {
    "tags": []
   },
   "outputs": [
    {
     "data": {
      "text/plain": [
       "0.1748015588608631"
      ]
     },
     "execution_count": 12,
     "metadata": {},
     "output_type": "execute_result"
    }
   ],
   "source": [
    "ssq = np.sqrt(np.sum(DelR**2))\n",
    "ssq"
   ]
  },
  {
   "cell_type": "code",
   "execution_count": 13,
   "id": "42637a4f-1835-40ea-ba97-685c9066ce32",
   "metadata": {
    "tags": []
   },
   "outputs": [
    {
     "data": {
      "text/plain": [
       "-20.989806921108805"
      ]
     },
     "execution_count": 13,
     "metadata": {},
     "output_type": "execute_result"
    }
   ],
   "source": [
    "gradient = DelE/ssq\n",
    "gradient"
   ]
  },
  {
   "cell_type": "code",
   "execution_count": 14,
   "id": "1024818b-85f9-4acf-8b7e-2fd0be0ba173",
   "metadata": {
    "tags": []
   },
   "outputs": [
    {
     "data": {
      "text/plain": [
       "array([[-0.66809086,  1.97258007,  3.01883169],\n",
       "       [ 0.01925479, -0.0568511 , -0.08700506]])"
      ]
     },
     "execution_count": 14,
     "metadata": {},
     "output_type": "execute_result"
    }
   ],
   "source": [
    "-gradient*DelR"
   ]
  },
  {
   "cell_type": "code",
   "execution_count": 15,
   "id": "4bae0e1e-ef3d-4560-a4b2-11fe2e8065b8",
   "metadata": {},
   "outputs": [
    {
     "data": {
      "text/plain": [
       "array([[ -1.44593106e-02,   4.37791554e-02,  -1.21838607e-03],\n",
       "       [  4.16728804e-04,  -1.26175000e-03,   3.51148528e-05]])"
      ]
     },
     "execution_count": 15,
     "metadata": {},
     "output_type": "execute_result"
    }
   ],
   "source": [
    "F[100]"
   ]
  },
  {
   "cell_type": "code",
   "execution_count": 16,
   "id": "b048e450-7bf3-41d8-91a6-98bb4b9b9fb7",
   "metadata": {},
   "outputs": [
    {
     "data": {
      "text/plain": [
       "array([[  7.85615377e-05,  -8.92374320e-05,   3.25490422e-05],\n",
       "       [ -2.26420406e-06,   2.57188303e-06,  -9.38088629e-07]])"
      ]
     },
     "execution_count": 16,
     "metadata": {},
     "output_type": "execute_result"
    }
   ],
   "source": [
    "F[101]"
   ]
  },
  {
   "cell_type": "code",
   "execution_count": 17,
   "id": "575aa98f-1192-47b4-973c-276ea0df9ef4",
   "metadata": {
    "tags": []
   },
   "outputs": [
    {
     "data": {
      "text/plain": [
       "(10000,)"
      ]
     },
     "execution_count": 17,
     "metadata": {},
     "output_type": "execute_result"
    }
   ],
   "source": [
    "np.shape(F[:,0,0])"
   ]
  },
  {
   "cell_type": "code",
   "execution_count": 77,
   "id": "5d7e73a0-c2d2-4db6-b346-241194a1f5b1",
   "metadata": {
    "tags": []
   },
   "outputs": [],
   "source": [
    "RHCl = np.sqrt(R[:][0])"
   ]
  },
  {
   "cell_type": "code",
   "execution_count": 23,
   "id": "ba098587-e186-4e42-acd4-d932ead72981",
   "metadata": {
    "tags": []
   },
   "outputs": [
    {
     "data": {
      "text/plain": [
       "0.0239986339"
      ]
     },
     "execution_count": 23,
     "metadata": {},
     "output_type": "execute_result"
    }
   ],
   "source": [
    "R[1][0][0]"
   ]
  },
  {
   "cell_type": "code",
   "execution_count": 24,
   "id": "4adb488b-ca44-435d-8f5a-e1403de8f51e",
   "metadata": {
    "tags": []
   },
   "outputs": [
    {
     "data": {
      "text/plain": [
       "-0.00067228389999999996"
      ]
     },
     "execution_count": 24,
     "metadata": {},
     "output_type": "execute_result"
    }
   ],
   "source": [
    "R[1][1][0]"
   ]
  },
  {
   "cell_type": "code",
   "execution_count": 33,
   "id": "6e9c1adf-d4e0-4152-a1c8-ac94ef9fb53f",
   "metadata": {
    "tags": []
   },
   "outputs": [
    {
     "data": {
      "text/plain": [
       "array([ 0.02332635, -0.0692519 ,  1.223649  ])"
      ]
     },
     "execution_count": 33,
     "metadata": {},
     "output_type": "execute_result"
    }
   ],
   "source": [
    "R[:][1][0]"
   ]
  },
  {
   "cell_type": "code",
   "execution_count": 59,
   "id": "d372c085-f914-4238-bd9b-00ee7984f194",
   "metadata": {
    "tags": []
   },
   "outputs": [
    {
     "data": {
      "text/plain": [
       "(10000,)"
      ]
     },
     "execution_count": 59,
     "metadata": {},
     "output_type": "execute_result"
    }
   ],
   "source": [
    "np.shape(R[:,1,1])"
   ]
  },
  {
   "cell_type": "code",
   "execution_count": 41,
   "id": "87f42c55-dab5-4531-aeca-2f92bf813f7f",
   "metadata": {
    "tags": []
   },
   "outputs": [
    {
     "data": {
      "text/plain": [
       "array([-0.  ,  0.  ,  1.27])"
      ]
     },
     "execution_count": 41,
     "metadata": {},
     "output_type": "execute_result"
    }
   ],
   "source": [
    "R[:][0][0]"
   ]
  },
  {
   "cell_type": "code",
   "execution_count": 65,
   "id": "76a04bb2-fac5-4043-9d0c-53df81c018b2",
   "metadata": {
    "tags": []
   },
   "outputs": [
    {
     "data": {
      "text/plain": [
       "array([ 1.27    ,  1.223649,  1.184889, ..., -1.146276, -1.173171,\n",
       "       -1.199836])"
      ]
     },
     "execution_count": 65,
     "metadata": {},
     "output_type": "execute_result"
    }
   ],
   "source": [
    "R[:,0,2]"
   ]
  },
  {
   "cell_type": "code",
   "execution_count": 78,
   "id": "058e29f2-2c50-46d6-a2f6-ee16916e86f2",
   "metadata": {
    "tags": []
   },
   "outputs": [],
   "source": [
    "RHCl = np.sqrt((R[:,0,1]-R[:,0,0])**2+(R[:,1,1]-R[:,0,1])**2+(R[:,1,2]-R[:,0,2])**2)"
   ]
  },
  {
   "cell_type": "code",
   "execution_count": 79,
   "id": "cc42322a-4b60-42bc-a848-6651f079bd87",
   "metadata": {
    "tags": []
   },
   "outputs": [
    {
     "data": {
      "text/plain": [
       "(10000,)"
      ]
     },
     "execution_count": 79,
     "metadata": {},
     "output_type": "execute_result"
    }
   ],
   "source": [
    "np.shape(RHCl)"
   ]
  },
  {
   "cell_type": "code",
   "execution_count": 80,
   "id": "432b8981-6cc0-49c4-b35c-606d44586014",
   "metadata": {
    "tags": []
   },
   "outputs": [
    {
     "data": {
      "text/plain": [
       "Text(0, 0.5, 'Energy')"
      ]
     },
     "execution_count": 80,
     "metadata": {},
     "output_type": "execute_result"
    },
    {
     "data": {
      "image/png": "[encoded data removed]",
      "text/plain": [
       "<Figure size 640x480 with 1 Axes>"
      ]
     },
     "metadata": {},
     "output_type": "display_data"
    }
   ],
   "source": [
    "plt.scatter(RHCl,E[:])\n",
    "plt.xlabel(\"RHCl\")\n",
    "plt.ylabel(\"Energy\")"
   ]
  },
  {
   "cell_type": "code",
   "execution_count": 33,
   "id": "a4747257-209f-4857-92be-cebc2a2aecc4",
   "metadata": {},
   "outputs": [
    {
     "data": {
      "text/plain": [
       "(10000,)"
      ]
     },
     "execution_count": 33,
     "metadata": {},
     "output_type": "execute_result"
    }
   ],
   "source": [
    "np.shape(E)"
   ]
  },
  {
   "cell_type": "markdown",
   "id": "0ef74c34-53b2-45cd-b570-7f6670823fd9",
   "metadata": {},
   "source": [
    "### Store data in sGDML .npz file"
   ]
  },
  {
   "cell_type": "code",
   "execution_count": 34,
   "id": "902a1a5f-4a5e-4d7d-aeec-19a9edb5272a",
   "metadata": {},
   "outputs": [
    {
     "name": "stdout",
     "output_type": "stream",
     "text": [
      "Please provide a description of the length unit used in your input file, e.g. 'Ang' or 'au': \n",
      "Note: This string will be stored in the dataset file and passed on to models files for later reference.\n",
      "Please provide a description of the energy unit used in your input file, e.g. 'kcal/mol' or 'eV': \n",
      "Note: This string will be stored in the dataset file and passed on to models files for later reference.\n",
      "(3,)\n",
      "z\n",
      "(3,)\n",
      "(10000, 3, 3)\n",
      "R\n",
      "(90000,)\n",
      "(10000,)\n",
      "E\n",
      "(10000,)\n",
      "(10000, 3, 3)\n",
      "F\n",
      "(90000,)\n",
      "[DONE]\n"
     ]
    }
   ],
   "source": [
    "base_vars['F_min'], base_vars['F_max'] = np.min(F.ravel()), np.max(F.ravel())\n",
    "base_vars['F_mean'], base_vars['F_var'] = np.mean(F.ravel()), np.var(F.ravel())\n",
    "\n",
    "print('Please provide a description of the length unit used in your input file, e.g. \\'Ang\\' or \\'au\\': ')\n",
    "print('Note: This string will be stored in the dataset file and passed on to models files for later reference.')\n",
    "#base_vars['r_unit'] = 'Ang'\n",
    "\n",
    "print('Please provide a description of the energy unit used in your input file, e.g. \\'kcal/mol\\' or \\'eV\\': ')\n",
    "print('Note: This string will be stored in the dataset file and passed on to models files for later reference.')\n",
    "#base_vars['e_unit'] = 'kcal/mol'\n",
    "\n",
    "if E is not None:\n",
    "    base_vars['E'] = E\n",
    "    base_vars['E_min'], base_vars['E_max'] = np.min(E), np.max(E)\n",
    "    base_vars['E_mean'], base_vars['E_var'] = np.mean(E), np.var(E)\n",
    "else:\n",
    "    print(ui.color_str('[INFO]', bold=True) + ' No energy labels found in dataset.')\n",
    "keys = ['z', 'R', 'E', 'F']\n",
    "for k in keys:\n",
    "    d = base_vars[k]\n",
    "    print(np.shape(d))\n",
    "    if type(d) is np.ndarray:\n",
    "            print(k)\n",
    "            d = d.ravel()\n",
    "            print(np.shape(d))\n",
    "dataset_file_name = filename + '.npz'\n",
    "base_vars['md5'] = io.dataset_md5(base_vars)\n",
    "np.savez_compressed(dataset_file_name, **base_vars)\n",
    "print(ui.color_str('[DONE]', fore_color=ui.GREEN, bold=True))"
   ]
  },
  {
   "cell_type": "code",
   "execution_count": 11,
   "id": "4c87af3b-e067-43db-bc1d-c5ffee51ff63",
   "metadata": {},
   "outputs": [],
   "source": [
    "def dataset_md5(dataset):\n",
    "\n",
    "    md5_hash = hashlib.md5()\n",
    "\n",
    "    keys = ['z', 'R']\n",
    "    if 'E' in dataset:\n",
    "        keys.append('E')\n",
    "    keys.append('F')\n",
    "\n",
    "    # only include new extra keys in fingerprint for 'modern' dataset files\n",
    "    # 'code_version' was included from 0.4.0.dev1\n",
    "    # opt_keys = ['lattice', 'e_unit', 'E_min', 'E_max', 'E_mean', 'E_var', 'f_unit', 'F_min', 'F_max', 'F_mean', 'F_var']\n",
    "    # for k in opt_keys:\n",
    "    #    if k in dataset:\n",
    "    #        keys.append(k)\n",
    "\n",
    "    for k in keys:\n",
    "        d = dataset[k]\n",
    "        if type(d) is np.ndarray:\n",
    "            d = d.ravel()\n",
    "        md5_hash.update(hashlib.md5(d).digest())\n",
    "\n",
    "    return md5_hash.hexdigest().encode('utf-8')"
   ]
  },
  {
   "cell_type": "code",
   "execution_count": 50,
   "id": "ec83d489-6975-4fa8-93a2-0cd6ac877450",
   "metadata": {},
   "outputs": [
    {
     "name": "stdout",
     "output_type": "stream",
     "text": [
      "[100%] Exporting 10000 data points...\n",
      "\n"
     ]
    }
   ],
   "source": [
    "dataset_file_name = filename + '.xyz'\n",
    "try:\n",
    "    with open(dataset_file_name, 'w') as file:\n",
    "\n",
    "        n = R.shape[0]\n",
    "        for i, r in enumerate(R):\n",
    "\n",
    "            e = np.squeeze(base_vars['E'][i]) if 'E' in base_vars else None\n",
    "            f = base_vars['F'][i,:,:]\n",
    "            ext_xyz_str = io.generate_xyz_str(r, z, e=e, f=f) + '\\n'\n",
    "\n",
    "            file.write(ext_xyz_str)\n",
    "\n",
    "            progr = float(i) / (n - 1)\n",
    "            ui.callback(i, n - 1, disp_str='Exporting %d data points...' % n)\n",
    "            \n",
    "except IOError:\n",
    "    sys.exit(\"ERROR: Writing xyz file failed.\")\n",
    "\n",
    "print()"
   ]
  },
  {
   "cell_type": "code",
   "execution_count": 17,
   "id": "db408c6e-b24d-47cc-bcc9-150e963e9da3",
   "metadata": {},
   "outputs": [],
   "source": [
    "from datascience import *\n",
    "edata = Table().read_table('data_h2o_small/energy.csv')"
   ]
  },
  {
   "cell_type": "code",
   "execution_count": 18,
   "id": "8e6310a4-9619-4aa7-b0df-9b8e1a43a7f0",
   "metadata": {},
   "outputs": [
    {
     "data": {
      "text/html": [
       "<table border=\"1\" class=\"dataframe\">\n",
       "    <thead>\n",
       "        <tr>\n",
       "            <th>energy</th>\n",
       "        </tr>\n",
       "    </thead>\n",
       "    <tbody>\n",
       "        <tr>\n",
       "            <td>-76.3857</td>\n",
       "        </tr>\n",
       "        <tr>\n",
       "            <td>-76.3859</td>\n",
       "        </tr>\n",
       "        <tr>\n",
       "            <td>-76.3859</td>\n",
       "        </tr>\n",
       "        <tr>\n",
       "            <td>-76.386 </td>\n",
       "        </tr>\n",
       "        <tr>\n",
       "            <td>-76.386 </td>\n",
       "        </tr>\n",
       "        <tr>\n",
       "            <td>-76.386 </td>\n",
       "        </tr>\n",
       "        <tr>\n",
       "            <td>-76.3859</td>\n",
       "        </tr>\n",
       "        <tr>\n",
       "            <td>-76.3858</td>\n",
       "        </tr>\n",
       "        <tr>\n",
       "            <td>-76.3857</td>\n",
       "        </tr>\n",
       "        <tr>\n",
       "            <td>-76.3855</td>\n",
       "        </tr>\n",
       "    </tbody>\n",
       "</table>\n",
       "<p>... (9991 rows omitted)</p>"
      ],
      "text/plain": [
       "energy\n",
       "-76.3857\n",
       "-76.3859\n",
       "-76.3859\n",
       "-76.386\n",
       "-76.386\n",
       "-76.386\n",
       "-76.3859\n",
       "-76.3858\n",
       "-76.3857\n",
       "-76.3855\n",
       "... (9991 rows omitted)"
      ]
     },
     "execution_count": 18,
     "metadata": {},
     "output_type": "execute_result"
    }
   ],
   "source": [
    "edata"
   ]
  },
  {
   "cell_type": "code",
   "execution_count": 23,
   "id": "6a4d20d7-07f5-4e88-aa19-c33d64a3c131",
   "metadata": {},
   "outputs": [],
   "source": [
    "edata= edata.with_columns(\"Enorm\",(edata['energy']-np.min(edata['energy']))*627.5)"
   ]
  },
  {
   "cell_type": "code",
   "execution_count": 26,
   "id": "2c425034-9a3a-48ab-b6df-da73b549ee47",
   "metadata": {},
   "outputs": [
    {
     "data": {
      "image/png": "[encoded data removed]",
      "text/plain": [
       "<Figure size 600x400 with 1 Axes>"
      ]
     },
     "metadata": {},
     "output_type": "display_data"
    }
   ],
   "source": [
    "edata.hist('Enorm')\n",
    "plt.savefig('EDist_h2o.png')"
   ]
  },
  {
   "cell_type": "code",
   "execution_count": null,
   "id": "5dee1fc3-b315-4846-8fed-2fd2186469ce",
   "metadata": {},
   "outputs": [],
   "source": []
  }
 ],
 "metadata": {
  "kernelspec": {
   "display_name": "Python 3 (ipykernel)",
   "language": "python",
   "name": "python3"
  },
  "language_info": {
   "codemirror_mode": {
    "name": "ipython",
    "version": 3
   },
   "file_extension": ".py",
   "mimetype": "text/x-python",
   "name": "python",
   "nbconvert_exporter": "python",
   "pygments_lexer": "ipython3",
   "version": "3.10.10"
  }
 },
 "nbformat": 4,
 "nbformat_minor": 5
}
