{
 "cells": [
  {
   "cell_type": "markdown",
   "id": "322a50f3-71ac-43ba-9ff2-1e12280fa311",
   "metadata": {},
   "source": [
    "# Process QChem AIMD scratch files"
   ]
  },
  {
   "cell_type": "code",
   "execution_count": 1,
   "id": "6e5759eb-be8a-4b21-a4f2-8e6fbe07e16a",
   "metadata": {},
   "outputs": [],
   "source": [
    "import numpy as np\n",
    "from sgdml.utils import io\n",
    "from sgdml.predict import GDMLPredict\n",
    "from sgdml.utils import io, ui\n",
    "import argparse\n",
    "import os\n",
    "import sys\n",
    "from sgdml import __version__\n",
    "# from ase.io import read"
   ]
  },
  {
   "cell_type": "code",
   "execution_count": 48,
   "id": "48747aaf-d3b7-4a7f-9f07-e41f249ca026",
   "metadata": {},
   "outputs": [],
   "source": [
    "def read_QChem_AIMD_scratch(NucCarts,NucForces,View,Energy):\n",
    "    n_atoms = None\n",
    "\n",
    "    R, z, E, F = [], [], [], []\n",
    "    for i, line in enumerate(NucCarts.split('\\n')):\n",
    "        if i ==0:\n",
    "            print(\"Heading labels: \",line)\n",
    "        else:\n",
    "            carts = line.strip().split()\n",
    "            if len(carts)<2:\n",
    "                break\n",
    "            time = carts[0]\n",
    "            n_atoms = int((len(carts)-1)/3)\n",
    "            R.append(list(map(float, carts[1::])))\n",
    "    ndata = np.shape(R)[0]\n",
    "    for i, line in enumerate(NucForces.split('\\n')):\n",
    "        if i ==0:\n",
    "            print(\"Heading labels: \",line)\n",
    "        else:\n",
    "            forces = line.strip().split()\n",
    "            if len(forces)<(n_atoms*3+1):\n",
    "                break\n",
    "            time = forces[0]\n",
    "            n_atoms = int((len(forces)-1)/3)\n",
    "            F.append(list(map(float, forces[1::])))\n",
    "    for i, line in enumerate(Energy.split('\\n')):\n",
    "        if i ==0:\n",
    "            print(\"Heading labels: \",line)\n",
    "        else:\n",
    "            en = line.strip().split()\n",
    "            if len(en) < 2:\n",
    "                break\n",
    "            time = en[0]\n",
    "            if i > 9997:\n",
    "                print(en[2].isnumeric(),line, en, en[2])\n",
    "            if i > ndata-1:\n",
    "                break\n",
    "            E.append(float(en[2])) # 4th column of TandV, 3rd of Energy\n",
    "    for i, line in enumerate(View.split('\\n')):\n",
    "        if i == 0:\n",
    "            number = int(line)\n",
    "            if number != n_atoms:\n",
    "                print(number,n_atoms,\" Do not agree on number of atoms!\")\n",
    "                break\n",
    "        elif i==1:\n",
    "            continue\n",
    "        elif i>n_atoms+1:\n",
    "            break # read first time step only\n",
    "        else:\n",
    "            z.append(io._z_str_to_z_dict[line[0]])  # From sgdml io to convert letter to atomic number, from sgdml.utils import io\n",
    "    print(z)\n",
    "    F = np.hstack(F)\n",
    "    fshape = np.shape(F)\n",
    "    ts = int(fshape[0]/(n_atoms*3))\n",
    "    print(fshape)\n",
    "    F = -F.reshape(-1, n_atoms, 3)*1185.8 # Remove negative sign to shift between gradient and force\n",
    "    R = np.hstack(R)\n",
    "    R = R[:fshape[0]] # Limit size of carts to that of forces\n",
    "    R = R.reshape(-1,n_atoms, 3)\n",
    "    E = np.array(E[:ts])*627.51 # Limit size of carts to that of forces\n",
    "    z = np.array(z)\n",
    "    print(\"Found\", n_atoms,\" atoms and \",ts,\" time steps.\")\n",
    "    return (R, z, E, F)"
   ]
  },
  {
   "cell_type": "code",
   "execution_count": 49,
   "id": "0dc34260-b760-4793-aa0b-81a4006f1fcf",
   "metadata": {},
   "outputs": [
    {
     "name": "stdout",
     "output_type": "stream",
     "text": [
      "Heading labels:  # Time/fs  Nuclear cartestian coordinates (angstroms)\n",
      "Heading labels:  # Time/fs  Nuclear cartesian forces (a.u.)\n",
      "Heading labels:  # Time/fs   E(total) - E(prev)  E(total) - E(initial)\n",
      "False 1209.079333    -2.959015e-07     1.961293e-06 ['1209.079333', '-2.959015e-07', '1.961293e-06'] 1.961293e-06\n",
      "False 1209.200277    -3.050929e-07     1.656200e-06 ['1209.200277', '-3.050929e-07', '1.656200e-06'] 1.656200e-06\n",
      "False 1209.321221    -3.091092e-07     1.347091e-06 ['1209.321221', '-3.091092e-07', '1.347091e-06'] 1.347091e-06\n",
      "False # Step-to-Step energy fluctuations, |E(n) - E(n-1)| ['#', 'Step-to-Step', 'energy', 'fluctuations,', '|E(n)', '-', 'E(n-1)|'] energy\n",
      "[1, 8, 1]\n",
      "(90000,)\n",
      "Found 3  atoms and  10000  time steps.\n"
     ]
    }
   ],
   "source": [
    "\n",
    "path = 'data_h2o'\n",
    "Force = path+'/NucForces'\n",
    "with open(Force, 'r') as file:\n",
    "    NucForces = file.read()\n",
    "Carts = path+'/NucCarts'\n",
    "with open(Carts, 'r') as file:\n",
    "    NucCarts = file.read()\n",
    "View = path+'/View.xyz'\n",
    "with open(View, 'r') as file:\n",
    "    View = file.read()\n",
    "#Energy = path+'/TandV' # Change from EComponents which are constant\n",
    "Energy = path+'/Energy' # Change from EComponents which are constant\n",
    "with open(Energy, 'r') as file:\n",
    "    Energy = file.read()\n",
    "R, z, E, F = read_QChem_AIMD_scratch(NucCarts,NucForces,View,Energy)\n",
    "name = \"H2O\"\n",
    "filename = name+\"_AIMD\"\n",
    "# Base variables contained in every model file.\n",
    "base_vars = {\n",
    "    'type': 'd',\n",
    "    'code_version': __version__,\n",
    "    'name': name,\n",
    "    'theory': 'QChem',\n",
    "    'R': R,\n",
    "    'z': z,\n",
    "    'F': F,\n",
    "}"
   ]
  },
  {
   "cell_type": "code",
   "execution_count": 50,
   "id": "3543bad5-5a70-4d7e-9107-56b47971e803",
   "metadata": {},
   "outputs": [
    {
     "data": {
      "text/plain": [
       "(10000, 3, 3)"
      ]
     },
     "execution_count": 50,
     "metadata": {},
     "output_type": "execute_result"
    }
   ],
   "source": [
    "np.shape(R)"
   ]
  },
  {
   "cell_type": "code",
   "execution_count": 51,
   "id": "4bae0e1e-ef3d-4560-a4b2-11fe2e8065b8",
   "metadata": {},
   "outputs": [
    {
     "data": {
      "text/plain": [
       "(10000, 3, 3)"
      ]
     },
     "execution_count": 51,
     "metadata": {},
     "output_type": "execute_result"
    }
   ],
   "source": [
    "np.shape(F)"
   ]
  },
  {
   "cell_type": "code",
   "execution_count": 52,
   "id": "b048e450-7bf3-41d8-91a6-98bb4b9b9fb7",
   "metadata": {},
   "outputs": [
    {
     "data": {
      "text/plain": [
       "array([1, 8, 1])"
      ]
     },
     "execution_count": 52,
     "metadata": {},
     "output_type": "execute_result"
    }
   ],
   "source": [
    "z"
   ]
  },
  {
   "cell_type": "code",
   "execution_count": 53,
   "id": "a4747257-209f-4857-92be-cebc2a2aecc4",
   "metadata": {},
   "outputs": [
    {
     "data": {
      "text/plain": [
       "(10000,)"
      ]
     },
     "execution_count": 53,
     "metadata": {},
     "output_type": "execute_result"
    }
   ],
   "source": [
    "np.shape(E)"
   ]
  },
  {
   "cell_type": "code",
   "execution_count": 54,
   "id": "902a1a5f-4a5e-4d7d-aeec-19a9edb5272a",
   "metadata": {},
   "outputs": [
    {
     "name": "stdout",
     "output_type": "stream",
     "text": [
      "Please provide a description of the length unit used in your input file, e.g. 'Ang' or 'au': \n",
      "Note: This string will be stored in the dataset file and passed on to models files for later reference.\n",
      "Please provide a description of the energy unit used in your input file, e.g. 'kcal/mol' or 'eV': \n",
      "Note: This string will be stored in the dataset file and passed on to models files for later reference.\n",
      "(3,)\n",
      "z\n",
      "(3,)\n",
      "(10000, 3, 3)\n",
      "R\n",
      "(90000,)\n",
      "(10000,)\n",
      "E\n",
      "(10000,)\n",
      "(10000, 3, 3)\n",
      "F\n",
      "(90000,)\n",
      "[DONE]\n"
     ]
    }
   ],
   "source": [
    "base_vars['F_min'], base_vars['F_max'] = np.min(F.ravel()), np.max(F.ravel())\n",
    "base_vars['F_mean'], base_vars['F_var'] = np.mean(F.ravel()), np.var(F.ravel())\n",
    "\n",
    "print('Please provide a description of the length unit used in your input file, e.g. \\'Ang\\' or \\'au\\': ')\n",
    "print('Note: This string will be stored in the dataset file and passed on to models files for later reference.')\n",
    "#base_vars['r_unit'] = 'Ang'\n",
    "\n",
    "print('Please provide a description of the energy unit used in your input file, e.g. \\'kcal/mol\\' or \\'eV\\': ')\n",
    "print('Note: This string will be stored in the dataset file and passed on to models files for later reference.')\n",
    "#base_vars['e_unit'] = 'kcal/mol'\n",
    "\n",
    "if E is not None:\n",
    "    base_vars['E'] = E\n",
    "    base_vars['E_min'], base_vars['E_max'] = np.min(E), np.max(E)\n",
    "    base_vars['E_mean'], base_vars['E_var'] = np.mean(E), np.var(E)\n",
    "else:\n",
    "    print(ui.color_str('[INFO]', bold=True) + ' No energy labels found in dataset.')\n",
    "keys = ['z', 'R', 'E', 'F']\n",
    "for k in keys:\n",
    "    d = base_vars[k]\n",
    "    print(np.shape(d))\n",
    "    if type(d) is np.ndarray:\n",
    "            print(k)\n",
    "            d = d.ravel()\n",
    "            print(np.shape(d))\n",
    "dataset_file_name = filename + '.npz'\n",
    "base_vars['md5'] = io.dataset_md5(base_vars)\n",
    "np.savez_compressed(dataset_file_name, **base_vars)\n",
    "print(ui.color_str('[DONE]', fore_color=ui.GREEN, bold=True))"
   ]
  },
  {
   "cell_type": "code",
   "execution_count": 55,
   "id": "4c87af3b-e067-43db-bc1d-c5ffee51ff63",
   "metadata": {},
   "outputs": [],
   "source": [
    "def dataset_md5(dataset):\n",
    "\n",
    "    md5_hash = hashlib.md5()\n",
    "\n",
    "    keys = ['z', 'R']\n",
    "    if 'E' in dataset:\n",
    "        keys.append('E')\n",
    "    keys.append('F')\n",
    "\n",
    "    # only include new extra keys in fingerprint for 'modern' dataset files\n",
    "    # 'code_version' was included from 0.4.0.dev1\n",
    "    # opt_keys = ['lattice', 'e_unit', 'E_min', 'E_max', 'E_mean', 'E_var', 'f_unit', 'F_min', 'F_max', 'F_mean', 'F_var']\n",
    "    # for k in opt_keys:\n",
    "    #    if k in dataset:\n",
    "    #        keys.append(k)\n",
    "\n",
    "    for k in keys:\n",
    "        d = dataset[k]\n",
    "        if type(d) is np.ndarray:\n",
    "            d = d.ravel()\n",
    "        md5_hash.update(hashlib.md5(d).digest())\n",
    "\n",
    "    return md5_hash.hexdigest().encode('utf-8')"
   ]
  },
  {
   "cell_type": "code",
   "execution_count": 47,
   "id": "ec83d489-6975-4fa8-93a2-0cd6ac877450",
   "metadata": {},
   "outputs": [
    {
     "name": "stdout",
     "output_type": "stream",
     "text": [
      "[100%] Exporting 10000 data points...\n",
      "\n"
     ]
    }
   ],
   "source": [
    "dataset_file_name = filename + '.xyz'\n",
    "try:\n",
    "    with open(dataset_file_name, 'w') as file:\n",
    "\n",
    "        n = R.shape[0]\n",
    "        for i, r in enumerate(R):\n",
    "\n",
    "            e = np.squeeze(base_vars['E'][i]) if 'E' in base_vars else None\n",
    "            f = base_vars['F'][i,:,:]\n",
    "            ext_xyz_str = io.generate_xyz_str(r, z, e=e, f=f) + '\\n'\n",
    "\n",
    "            file.write(ext_xyz_str)\n",
    "\n",
    "            progr = float(i) / (n - 1)\n",
    "            ui.callback(i, n - 1, disp_str='Exporting %d data points...' % n)\n",
    "            \n",
    "except IOError:\n",
    "    sys.exit(\"ERROR: Writing xyz file failed.\")\n",
    "\n",
    "print()"
   ]
  },
  {
   "cell_type": "code",
   "execution_count": null,
   "id": "db408c6e-b24d-47cc-bcc9-150e963e9da3",
   "metadata": {},
   "outputs": [],
   "source": []
  }
 ],
 "metadata": {
  "kernelspec": {
   "display_name": "Python 3 (ipykernel)",
   "language": "python",
   "name": "python3"
  },
  "language_info": {
   "codemirror_mode": {
    "name": "ipython",
    "version": 3
   },
   "file_extension": ".py",
   "mimetype": "text/x-python",
   "name": "python",
   "nbconvert_exporter": "python",
   "pygments_lexer": "ipython3",
   "version": "3.10.8"
  }
 },
 "nbformat": 4,
 "nbformat_minor": 5
}
